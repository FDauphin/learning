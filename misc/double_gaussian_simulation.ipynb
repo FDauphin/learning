{
 "cells": [
  {
   "cell_type": "code",
   "execution_count": null,
   "id": "cac64134",
   "metadata": {},
   "outputs": [],
   "source": [
    "import numpy as np\n",
    "import matplotlib.pyplot as plt\n",
    "\n",
    "from tqdm import tqdm\n",
    "from sklearn.decomposition import PCA"
   ]
  },
  {
   "cell_type": "markdown",
   "id": "8811f4fc",
   "metadata": {
    "jp-MarkdownHeadingCollapsed": true
   },
   "source": [
    "## Simulate data"
   ]
  },
  {
   "cell_type": "code",
   "execution_count": null,
   "id": "2a2f0391",
   "metadata": {},
   "outputs": [],
   "source": [
    "def func_gauss(x, amp, mu, sigma):\n",
    "    y = amp * np.sqrt(2*np.pi*sigma**2) ** -1 * \\\n",
    "        np.exp(-(x-mu)**2 / (2*sigma**2))\n",
    "    return y\n",
    "\n",
    "def func_gauss_linear(x, amp, mu, sigma, m, b):\n",
    "    y = func_gauss(x, amp, mu, sigma) + m * x + b\n",
    "    return y\n",
    "\n",
    "def func_gauss_double_linear(x, amp1, mu1, sigma1, amp2, mu2, sigma2, m, b):\n",
    "    y = (func_gauss_linear(x, amp1, mu1, sigma1, m, b) + \\\n",
    "         func_gauss(x, amp2, mu2, sigma2))\n",
    "    return y"
   ]
  },
  {
   "cell_type": "code",
   "execution_count": null,
   "id": "a2c510ae",
   "metadata": {},
   "outputs": [],
   "source": [
    "def random_gauss_double_linear(x):\n",
    "        amp = np.random.random(2)\n",
    "        mu = np.random.random(2)*2\n",
    "        sigma = np.random.random(2)\n",
    "        m = (np.random.random(1)-0.5) / 10\n",
    "        b = np.random.random(1)-0.5\n",
    "        popt = [amp[0], mu[0], sigma[0], amp[1], -mu[1], sigma[1], m[0], b[0]]\n",
    "        y = func_gauss_double_linear(x, *popt)\n",
    "        \n",
    "        return popt, y"
   ]
  },
  {
   "cell_type": "code",
   "execution_count": null,
   "id": "de8adfb4",
   "metadata": {},
   "outputs": [],
   "source": [
    "n = 4\n",
    "fig, axs = plt.subplots(4,4,figsize=[10,10])\n",
    "for i in range (n):\n",
    "    for j in range (n):\n",
    "        x = np.linspace(-3,3,1000)\n",
    "        popt, y = random_gauss_double_linear(x)\n",
    "        b = popt[7]\n",
    "        #axs[i,j].set_title(list(np.round(popt, 3)))\n",
    "        axs[i,j].scatter(x, y, alpha=1, s=1)\n",
    "        axs[i,j].vlines(popt[1], b, popt[0]+b, color='C1')\n",
    "        axs[i,j].vlines(popt[4], b, popt[3]+b, color='C2')\n",
    "        axs[i,j].hlines(np.median(y), popt[1] - popt[2], popt[1] + popt[2], color='C1', alpha=0.5)\n",
    "        axs[i,j].hlines(np.median(y), popt[4] - popt[5], popt[4] + popt[5], color='C2', alpha=0.5)\n",
    "plt.tight_layout()"
   ]
  },
  {
   "cell_type": "code",
   "execution_count": null,
   "id": "79c5bd45",
   "metadata": {},
   "outputs": [],
   "source": [
    "popts = []\n",
    "ys = []\n",
    "for i in tqdm(range(100000)):\n",
    "    popt, y = random_gauss_double_linear(x)\n",
    "    popts.append(popt)\n",
    "    ys.append(y)"
   ]
  },
  {
   "cell_type": "code",
   "execution_count": null,
   "id": "65a1fc1a",
   "metadata": {},
   "outputs": [],
   "source": [
    "popts = np.array(popts)\n",
    "ys = np.array(ys)"
   ]
  },
  {
   "cell_type": "markdown",
   "id": "46c3081a-fc64-42ba-813c-f2a7277e9576",
   "metadata": {
    "jp-MarkdownHeadingCollapsed": true
   },
   "source": [
    "## PCA"
   ]
  },
  {
   "cell_type": "code",
   "execution_count": null,
   "id": "649533f1",
   "metadata": {},
   "outputs": [],
   "source": [
    "pca = PCA(n_components=2, whiten=True)"
   ]
  },
  {
   "cell_type": "code",
   "execution_count": null,
   "id": "c520fe93",
   "metadata": {},
   "outputs": [],
   "source": [
    "pca_data = pca.fit_transform(ys)"
   ]
  },
  {
   "cell_type": "code",
   "execution_count": null,
   "id": "58362d08",
   "metadata": {},
   "outputs": [],
   "source": [
    "pca_data.shape"
   ]
  },
  {
   "cell_type": "code",
   "execution_count": null,
   "id": "496aeea0",
   "metadata": {},
   "outputs": [],
   "source": [
    "pca.explained_variance_ratio_.sum()"
   ]
  },
  {
   "cell_type": "code",
   "execution_count": null,
   "id": "c8a7982f",
   "metadata": {},
   "outputs": [],
   "source": [
    "n = 2\n",
    "titles = ['amp0', 'mu0', 'sigma0', 'amp1', 'mu1', 'sigma1', 'm', 'b']\n",
    "fig, axs = plt.subplots(2,4,figsize=[20,10], sharex=True, sharey=True)\n",
    "for i in range (2):\n",
    "    for j in range (4):\n",
    "        ind = i*4+j\n",
    "        ax = axs[i, j]\n",
    "        ax.set_title(titles[ind])\n",
    "        pcm = ax.scatter(pca_data[:, 0], pca_data[:, 1], s=1, alpha=0.5, c=popts[:, ind])\n",
    "        fig.colorbar(pcm, ax=ax)\n",
    "plt.xlim(-n,n)\n",
    "plt.ylim(-n,n)\n",
    "plt.tight_layout()"
   ]
  },
  {
   "cell_type": "code",
   "execution_count": null,
   "id": "a627a43d",
   "metadata": {},
   "outputs": [],
   "source": [
    "plt.plot(pca.components_[0])"
   ]
  },
  {
   "cell_type": "code",
   "execution_count": null,
   "id": "d60acd1a-9a4a-4d82-9714-cd3712cd58fa",
   "metadata": {},
   "outputs": [],
   "source": []
  }
 ],
 "metadata": {
  "kernelspec": {
   "display_name": "Python 3 (ipykernel)",
   "language": "python",
   "name": "python3"
  },
  "language_info": {
   "codemirror_mode": {
    "name": "ipython",
    "version": 3
   },
   "file_extension": ".py",
   "mimetype": "text/x-python",
   "name": "python",
   "nbconvert_exporter": "python",
   "pygments_lexer": "ipython3",
   "version": "3.11.9"
  }
 },
 "nbformat": 4,
 "nbformat_minor": 5
}
