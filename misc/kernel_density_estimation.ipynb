{
 "cells": [
  {
   "cell_type": "markdown",
   "metadata": {},
   "source": [
    "\n",
    "# Kernel Density Estimation\n",
    "\n",
    "This example shows how kernel density estimation (KDE), a powerful\n",
    "non-parametric density estimation technique, can be used to learn\n",
    "a generative model for a dataset.  With this generative model in place,\n",
    "new samples can be drawn.  These new samples reflect the underlying model\n",
    "of the data.\n"
   ]
  },
  {
   "cell_type": "code",
   "execution_count": null,
   "metadata": {},
   "outputs": [],
   "source": [
    "import numpy as np\n",
    "import matplotlib.pyplot as plt\n",
    "import pandas as pd\n",
    "import scipy\n",
    "import seaborn as sns\n",
    "\n",
    "from sklearn.datasets import load_digits\n",
    "from sklearn.neighbors import KernelDensity\n",
    "from sklearn.decomposition import PCA\n",
    "from sklearn.model_selection import GridSearchCV"
   ]
  },
  {
   "cell_type": "code",
   "execution_count": null,
   "metadata": {},
   "outputs": [],
   "source": [
    "import tensorflow as tf"
   ]
  },
  {
   "cell_type": "markdown",
   "metadata": {
    "jp-MarkdownHeadingCollapsed": true
   },
   "source": [
    "## Load data"
   ]
  },
  {
   "cell_type": "code",
   "execution_count": null,
   "metadata": {},
   "outputs": [],
   "source": [
    "# UCI ML\n",
    "digits = load_digits()\n",
    "x_train = digits.data\n",
    "y_train = digits.target\n",
    "size = int(x_train.shape[1] ** 0.5)\n",
    "\n",
    "# MNIST\n",
    "#(x_train, y_train),(x_test, y_test) = tf.keras.datasets.mnist.load_data()\n",
    "#size = x_train.shape[1]"
   ]
  },
  {
   "cell_type": "code",
   "execution_count": null,
   "metadata": {},
   "outputs": [],
   "source": [
    "x_train = x_train.reshape(-1, size, size) / x_train.max()\n",
    "x_train.shape, y_train.shape"
   ]
  },
  {
   "cell_type": "code",
   "execution_count": null,
   "metadata": {},
   "outputs": [],
   "source": [
    "fig, axs = plt.subplots(2, 5, figsize=[10,3])\n",
    "for i in range (2):\n",
    "    for j in range (5):\n",
    "        mask = y_train == i*5 + j\n",
    "        img = np.mean(x_train[mask], axis=0)\n",
    "        axs[i,j].imshow(img, vmin=0, vmax=1)\n",
    "plt.tight_layout()"
   ]
  },
  {
   "cell_type": "markdown",
   "metadata": {
    "jp-MarkdownHeadingCollapsed": true
   },
   "source": [
    "## PCA"
   ]
  },
  {
   "cell_type": "code",
   "execution_count": null,
   "metadata": {},
   "outputs": [],
   "source": [
    "pca = PCA(n_components=0.9, whiten=False)\n",
    "pca_train = pca.fit_transform(x_train.reshape(-1, size**2))"
   ]
  },
  {
   "cell_type": "code",
   "execution_count": null,
   "metadata": {},
   "outputs": [],
   "source": [
    "pca_train.shape"
   ]
  },
  {
   "cell_type": "code",
   "execution_count": null,
   "metadata": {},
   "outputs": [],
   "source": [
    "for i in range (10):\n",
    "    mask = y_train == i\n",
    "    plt.scatter(pca_train[mask][:, 0], pca_train[mask][:, 1], label=i)\n",
    "plt.legend(ncol=2)\n",
    "plt.show()"
   ]
  },
  {
   "cell_type": "code",
   "execution_count": null,
   "metadata": {},
   "outputs": [],
   "source": [
    "col = []\n",
    "for i in range (pca_train.shape[1]):\n",
    "    col.append(f'pca{i}')\n",
    "df = pd.DataFrame(pca_train, columns=col)\n",
    "df['label'] = y_train"
   ]
  },
  {
   "cell_type": "markdown",
   "metadata": {
    "jp-MarkdownHeadingCollapsed": true
   },
   "source": [
    "## Plot KDE"
   ]
  },
  {
   "cell_type": "code",
   "execution_count": null,
   "metadata": {},
   "outputs": [],
   "source": [
    "pca_train_0 = pca_train[:, 0]\n",
    "kde_g = scipy.stats.gaussian_kde(pca_train_0)\n",
    "bw = kde_g.covariance_factor()\n",
    "pca_train_0_lin = np.linspace(pca_train_0.min(), pca_train_0.max(), 10000)\n",
    "pca_train_0_pdf = kde_g.pdf(pca_train_0_lin)"
   ]
  },
  {
   "cell_type": "code",
   "execution_count": null,
   "metadata": {},
   "outputs": [],
   "source": [
    "fig, ax = plt.subplots()\n",
    "sns.kdeplot(data=df, x='pca0', ax=ax, label=f'seaborn: bw={bw:.3f}')\n",
    "plt.plot(pca_train_0_lin, pca_train_0_pdf, label=f'scipy: bw={bw:.3f}', ls='--')\n",
    "sns.kdeplot(data=df, x='pca0', ax=ax, label='seaborn: bw=0.1', bw_method=0.1)\n",
    "sns.kdeplot(data=df, x='pca0', ax=ax, label='seaborn: bw=0.5', bw_method=0.5)\n",
    "sns.kdeplot(data=df, x='pca0', ax=ax, label='seaborn: bw=1', bw_method=1)\n",
    "plt.legend()"
   ]
  },
  {
   "cell_type": "markdown",
   "metadata": {
    "jp-MarkdownHeadingCollapsed": true
   },
   "source": [
    "## Plot KDE (by digit)"
   ]
  },
  {
   "cell_type": "code",
   "execution_count": null,
   "metadata": {},
   "outputs": [],
   "source": [
    "fig, ax = plt.subplots()\n",
    "sns.kdeplot(data=df, x='pca0', ax=ax, hue='label', palette='tab10')"
   ]
  },
  {
   "cell_type": "code",
   "execution_count": null,
   "metadata": {},
   "outputs": [],
   "source": [
    "fig, ax = plt.subplots()\n",
    "sns.kdeplot(data=df, x='pca0', y='pca1', ax=ax, cbar=True, fill=True, log_scale=True)"
   ]
  },
  {
   "cell_type": "code",
   "execution_count": null,
   "metadata": {},
   "outputs": [],
   "source": [
    "fig, ax = plt.subplots()\n",
    "sns.kdeplot(data=df, x='pca0', y='pca1', ax=ax, hue='label', palette='tab10', levels=5)"
   ]
  },
  {
   "cell_type": "markdown",
   "metadata": {
    "jp-MarkdownHeadingCollapsed": true
   },
   "source": [
    "## Fit KDE and generate digits"
   ]
  },
  {
   "cell_type": "code",
   "execution_count": null,
   "metadata": {},
   "outputs": [],
   "source": [
    "# use grid search cross-validation to optimize the bandwidth\n",
    "#params = {\"bandwidth\": np.logspace(-1, 1, 20)}\n",
    "#grid = GridSearchCV(KernelDensity(), params, verbose=True)\n",
    "#grid.fit(pca_train)\n",
    "#print(f\"best bandwidth: {grid.best_estimator_.bandwidth}\")\n",
    "\n",
    "# use the best estimator to compute the kernel density estimate\n",
    "#kde = grid.best_estimator_"
   ]
  },
  {
   "cell_type": "code",
   "execution_count": null,
   "metadata": {},
   "outputs": [],
   "source": [
    "kde = KernelDensity(bandwidth=bw).fit(pca_train)#[y_train==9])"
   ]
  },
  {
   "cell_type": "code",
   "execution_count": null,
   "metadata": {},
   "outputs": [],
   "source": [
    "# sample 64 new points from the data\n",
    "n = 16\n",
    "kde_pca = kde.sample(n)\n",
    "new_data = pca.inverse_transform(kde_pca).reshape(n, size, size)"
   ]
  },
  {
   "cell_type": "code",
   "execution_count": null,
   "metadata": {},
   "outputs": [],
   "source": [
    "fig, axs = plt.subplots(4,4,figsize=[10,10])\n",
    "for i in range (4):\n",
    "    for j in range (4):\n",
    "        axs[i,j].imshow(new_data[i*4+j])\n",
    "plt.tight_layout()"
   ]
  },
  {
   "cell_type": "markdown",
   "metadata": {},
   "source": [
    "[Source - scikit learn](https://scikit-learn.org/stable/auto_examples/neighbors/plot_digits_kde_sampling.html#sphx-glr-auto-examples-neighbors-plot-digits-kde-sampling-py)"
   ]
  },
  {
   "cell_type": "code",
   "execution_count": null,
   "metadata": {},
   "outputs": [],
   "source": []
  }
 ],
 "metadata": {
  "kernelspec": {
   "display_name": "Python 3 (ipykernel)",
   "language": "python",
   "name": "python3"
  },
  "language_info": {
   "codemirror_mode": {
    "name": "ipython",
    "version": 3
   },
   "file_extension": ".py",
   "mimetype": "text/x-python",
   "name": "python",
   "nbconvert_exporter": "python",
   "pygments_lexer": "ipython3",
   "version": "3.11.9"
  }
 },
 "nbformat": 4,
 "nbformat_minor": 4
}
