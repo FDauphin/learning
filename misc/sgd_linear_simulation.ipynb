{
 "cells": [
  {
   "cell_type": "code",
   "execution_count": null,
   "id": "6cee3c4b",
   "metadata": {},
   "outputs": [],
   "source": [
    "import numpy as np\n",
    "import matplotlib.pyplot as plt\n",
    "\n",
    "import torch\n",
    "from torch import nn"
   ]
  },
  {
   "cell_type": "markdown",
   "id": "dc812ecd",
   "metadata": {
    "jp-MarkdownHeadingCollapsed": true
   },
   "source": [
    "## Simulate data"
   ]
  },
  {
   "cell_type": "code",
   "execution_count": null,
   "id": "ae08404a",
   "metadata": {},
   "outputs": [],
   "source": [
    "x = np.arange(-5, 5, 0.1)\n",
    "\n",
    "w_true = (np.random.rand() - 0.5) * 20\n",
    "b_true = (np.random.rand() - 0.5) * 20\n",
    "y_true = w_true * x + b_true\n",
    "\n",
    "noise = 5 * np.random.randn(x.shape[0])\n",
    "y = y_true + noise"
   ]
  },
  {
   "cell_type": "code",
   "execution_count": null,
   "id": "b03de76d-f356-44f6-8465-0ee26c9e4b32",
   "metadata": {},
   "outputs": [],
   "source": [
    "x_torch = torch.tensor(x.reshape(-1,1))\n",
    "y_torch = torch.tensor(y.reshape(-1,1))"
   ]
  },
  {
   "cell_type": "code",
   "execution_count": null,
   "id": "f114a05c",
   "metadata": {},
   "outputs": [],
   "source": [
    "plt.scatter(x, y)"
   ]
  },
  {
   "cell_type": "markdown",
   "id": "064767c4-3756-47ad-b02b-65bf62b21607",
   "metadata": {
    "jp-MarkdownHeadingCollapsed": true
   },
   "source": [
    "## Build model"
   ]
  },
  {
   "cell_type": "code",
   "execution_count": null,
   "id": "8da4a2dd",
   "metadata": {},
   "outputs": [],
   "source": [
    "class Model(torch.nn.Module):\n",
    "    \n",
    "    def __init__(self, w=0, b=0, rand=False):\n",
    "        super(Model, self).__init__()\n",
    "        \n",
    "        self.rand = rand\n",
    "        \n",
    "        if self.rand:\n",
    "            self.w = nn.Parameter(torch.randn(1))\n",
    "            self.b = nn.Parameter(torch.randn(1))\n",
    "        else:\n",
    "            self.w = nn.Parameter(torch.tensor(float(w)))\n",
    "            self.b = nn.Parameter(torch.tensor(float(b)))\n",
    "            \n",
    "    def forward(self, x):\n",
    "        return self.w * x + self.b"
   ]
  },
  {
   "cell_type": "code",
   "execution_count": null,
   "id": "6938c21a",
   "metadata": {},
   "outputs": [],
   "source": [
    "model = Model(w=w_true, b=b_true, rand=True)"
   ]
  },
  {
   "cell_type": "code",
   "execution_count": null,
   "id": "17485da1-ed2c-4ec6-b8bc-1fcca244b912",
   "metadata": {},
   "outputs": [],
   "source": [
    "y_pred = model(x_torch)"
   ]
  },
  {
   "cell_type": "code",
   "execution_count": null,
   "id": "d226bdb5-5b23-47a5-92cc-51229e1ff930",
   "metadata": {},
   "outputs": [],
   "source": [
    "plt.scatter(x, y, label=f'train: w={w_true:.3f}, b={b_true:.3f}')\n",
    "plt.plot(x, y_pred.detach().flatten(), color='C1', \n",
    "         label=f'sgd: w={model.w.item():.3f}, b={model.b.item():.3f}')\n",
    "plt.legend()"
   ]
  },
  {
   "cell_type": "markdown",
   "id": "4a1ae4f7-ec75-4729-a60b-d75b729a2072",
   "metadata": {
    "jp-MarkdownHeadingCollapsed": true
   },
   "source": [
    "## Train model"
   ]
  },
  {
   "cell_type": "code",
   "execution_count": null,
   "id": "3cb27344",
   "metadata": {},
   "outputs": [],
   "source": [
    "lr = 0.1\n",
    "optimizer = torch.optim.SGD(model.parameters(), lr=lr, weight_decay=1e-5)\n",
    "criterion = torch.nn.MSELoss()"
   ]
  },
  {
   "cell_type": "code",
   "execution_count": null,
   "id": "49c4bc95",
   "metadata": {},
   "outputs": [],
   "source": [
    "epochs = 100\n",
    "train_loss = np.zeros(epochs)\n",
    "train_w = np.zeros(epochs)\n",
    "train_b = np.zeros(epochs)\n",
    "\n",
    "print(f'epoch \\ttrain loss \\t\\tw \\t\\t\\tb')\n",
    "for epoch in range (epochs):\n",
    "    # predict labels and find loss\n",
    "    y_pred = model(x_torch)\n",
    "    loss = criterion(y_torch, y_pred)\n",
    "    \n",
    "    # set gradients to 0\n",
    "    optimizer.zero_grad()\n",
    "    # backpropogation\n",
    "    loss.backward()\n",
    "    # update model\n",
    "    optimizer.step()\n",
    "\n",
    "    # append values\n",
    "    train_loss[epoch] = loss.item()\n",
    "    train_w[epoch] = model.w.item()\n",
    "    train_b[epoch] = model.b.item()\n",
    "    \n",
    "    # print metrics\n",
    "    #print(f'{epoch} \\t{train_loss[epoch]} \\t{train_w[epoch]} \\t{train_b[epoch]}')"
   ]
  },
  {
   "cell_type": "code",
   "execution_count": null,
   "id": "b10cedeb-ccae-4fa6-bf93-94104534e643",
   "metadata": {},
   "outputs": [],
   "source": [
    "fig, axs = plt.subplots(1,3,figsize=[15,5])\n",
    "\n",
    "axs[0].scatter(np.arange(epochs), train_loss)\n",
    "axs[0].set_xlabel('epochs')\n",
    "axs[0].set_ylabel('loss')\n",
    "axs[0].set_yscale('log')\n",
    "\n",
    "axs[1].scatter(train_w, train_loss)\n",
    "axs[1].vlines(w_true, train_loss.min(), train_loss.max(), color='C1')\n",
    "axs[1].set_xlabel('w')\n",
    "axs[1].set_ylabel('loss')\n",
    "axs[1].set_yscale('log')\n",
    "\n",
    "axs[2].scatter(train_b, train_loss)\n",
    "axs[2].vlines(b_true, train_loss.min(), train_loss.max(), color='C1')\n",
    "axs[2].set_xlabel('b')\n",
    "axs[2].set_ylabel('loss')\n",
    "axs[2].set_yscale('log')"
   ]
  },
  {
   "cell_type": "code",
   "execution_count": null,
   "id": "b3fb8393-f519-4e4f-95e5-67f852d7306b",
   "metadata": {},
   "outputs": [],
   "source": [
    "y_pred_train = train_w.reshape(-1, 1) @ x.reshape(1, -1) + train_b.reshape(-1, 1)\n",
    "y_pred_trained = y_pred_train[-1]"
   ]
  },
  {
   "cell_type": "code",
   "execution_count": null,
   "id": "1f4cc27e-992d-49eb-8d33-51339735b627",
   "metadata": {},
   "outputs": [],
   "source": [
    "plt.scatter(x, y, label=f'train: w={w_true:.3f}, b={b_true:.3f}')\n",
    "for y_pred_train_i in y_pred_train[:-1]:\n",
    "    plt.plot(x, y_pred_train_i, color='C1', alpha=0.1)\n",
    "plt.plot(x, y_pred_trained, color='C1', \n",
    "         label=f'sgd: w={model.w.item():.3f}, b={model.b.item():.3f}')\n",
    "plt.legend()"
   ]
  },
  {
   "cell_type": "markdown",
   "id": "21b875e5-4086-413a-94b0-4ea5d4cadda6",
   "metadata": {
    "jp-MarkdownHeadingCollapsed": true
   },
   "source": [
    "## Compare with least squares"
   ]
  },
  {
   "cell_type": "code",
   "execution_count": null,
   "id": "0b1c00a0",
   "metadata": {},
   "outputs": [],
   "source": [
    "z = np.polyfit(x, y, deg=1)\n",
    "p = np.poly1d(z)\n",
    "fit = p(x)"
   ]
  },
  {
   "cell_type": "code",
   "execution_count": null,
   "id": "630a9df6",
   "metadata": {},
   "outputs": [],
   "source": [
    "plt.scatter(x, y, label=f'train: w={w_true:.3f}, b={b_true:.3f}')\n",
    "plt.plot(x, y_pred_trained, color='C1', \n",
    "         label=f'sgd: w={model.w.item():.3f}, b={model.b.item():.3f}')\n",
    "plt.legend()\n",
    "plt.plot(x, fit, '--', color='C2',\n",
    "         label=f'polyfit: w={z[0]:.3f}, b={z[1]:.3f}')\n",
    "plt.legend()"
   ]
  },
  {
   "cell_type": "code",
   "execution_count": null,
   "id": "5e50d90d-a2a3-4d0d-a6e6-245418a1efb1",
   "metadata": {},
   "outputs": [],
   "source": [
    "fig, axs = plt.subplots(1,2,figsize=[10,5])\n",
    "axs[0].hist(y - y_pred_trained, alpha=0.5, color='C1', label='sgd')\n",
    "axs[0].hist(y - fit, alpha=0.5, color='C2', label='polyfit')\n",
    "axs[0].legend()\n",
    "axs[1].plot(y - y_pred_trained, alpha=0.5, color='C1', label='sgd')\n",
    "axs[1].plot(y - fit, alpha=0.5, color='C2', label='polyfit')\n",
    "axs[1].legend()"
   ]
  },
  {
   "cell_type": "code",
   "execution_count": null,
   "id": "25594dc2-7477-4d48-a10b-9efff40ff1cf",
   "metadata": {},
   "outputs": [],
   "source": [
    "print (f'\\t sgd\\t\\t\\t polyfit')\n",
    "print (f'weight\\t {model.w.item()}\\t {z[0]}')\n",
    "print (f'bias\\t {model.b.item()}\\t {z[1]}')\n",
    "print (f'mse\\t {np.mean(np.square(y_pred_trained - y))}\\t {np.mean(np.square(fit - y))}')\n",
    "print (f'mae\\t {np.mean(np.abs(y_pred_trained - y))}\\t {np.mean(np.abs(fit - y))}')"
   ]
  },
  {
   "cell_type": "code",
   "execution_count": null,
   "id": "942a6cdf-263f-4c1a-8fc8-e8ac712a5b6c",
   "metadata": {},
   "outputs": [],
   "source": []
  }
 ],
 "metadata": {
  "kernelspec": {
   "display_name": "Python 3 (ipykernel)",
   "language": "python",
   "name": "python3"
  },
  "language_info": {
   "codemirror_mode": {
    "name": "ipython",
    "version": 3
   },
   "file_extension": ".py",
   "mimetype": "text/x-python",
   "name": "python",
   "nbconvert_exporter": "python",
   "pygments_lexer": "ipython3",
   "version": "3.11.9"
  }
 },
 "nbformat": 4,
 "nbformat_minor": 5
}
