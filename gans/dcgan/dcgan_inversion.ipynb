{
 "cells": [
  {
   "cell_type": "code",
   "execution_count": null,
   "metadata": {},
   "outputs": [],
   "source": [
    "import torch"
   ]
  },
  {
   "cell_type": "code",
   "execution_count": null,
   "metadata": {},
   "outputs": [],
   "source": [
    "import numpy as np\n",
    "import matplotlib.pyplot as plt\n",
    "import pandas as pd\n",
    "from tqdm import tqdm"
   ]
  },
  {
   "cell_type": "code",
   "execution_count": null,
   "metadata": {},
   "outputs": [],
   "source": [
    "from model import Discriminator, Generator, invert"
   ]
  },
  {
   "cell_type": "code",
   "execution_count": null,
   "metadata": {},
   "outputs": [],
   "source": [
    "import tensorflow as tf"
   ]
  },
  {
   "cell_type": "markdown",
   "metadata": {
    "jp-MarkdownHeadingCollapsed": true
   },
   "source": [
    "## Load data"
   ]
  },
  {
   "cell_type": "code",
   "execution_count": null,
   "metadata": {},
   "outputs": [],
   "source": [
    "CHANNELS_IMG = 1"
   ]
  },
  {
   "cell_type": "code",
   "execution_count": null,
   "metadata": {},
   "outputs": [],
   "source": [
    "dataset = tf.keras.datasets.mnist\n",
    "(x_train, y_train),(x_test, y_test) = dataset.load_data()"
   ]
  },
  {
   "cell_type": "code",
   "execution_count": null,
   "metadata": {},
   "outputs": [],
   "source": [
    "IMAGE_SIZE = x_train.shape[-1]\n",
    "num_classes = np.unique(y_train).shape[0]"
   ]
  },
  {
   "cell_type": "code",
   "execution_count": null,
   "metadata": {},
   "outputs": [],
   "source": [
    "size_train = x_train.shape[0]\n",
    "size_test = x_test.shape[0]\n",
    "scale = x_train.max()\n",
    "x_train_scale = ((x_train / scale) - 0.5) / 0.5\n",
    "x_test_scale = ((x_test / scale) - 0.5) / 0.5"
   ]
  },
  {
   "cell_type": "code",
   "execution_count": null,
   "metadata": {},
   "outputs": [],
   "source": [
    "fig, axs = plt.subplots(2,5, sharex=True, sharey=True)\n",
    "for i in range (2):\n",
    "    for j in range (5):\n",
    "        ind = i*5+j\n",
    "        mask = y_train == ind\n",
    "        axs[i,j].imshow(np.mean(x_train_scale[mask], axis=0))\n",
    "plt.tight_layout()"
   ]
  },
  {
   "cell_type": "code",
   "execution_count": null,
   "metadata": {},
   "outputs": [],
   "source": [
    "fig, axs = plt.subplots(2,5, sharex=True, sharey=True)\n",
    "for i in range (2):\n",
    "    for j in range (5):\n",
    "        ind = i*5+j\n",
    "        mask = y_test == ind\n",
    "        axs[i,j].imshow(np.mean(x_test_scale[mask], axis=0))\n",
    "plt.tight_layout()"
   ]
  },
  {
   "cell_type": "markdown",
   "metadata": {
    "jp-MarkdownHeadingCollapsed": true
   },
   "source": [
    "## Load models (discriminator and generator)"
   ]
  },
  {
   "cell_type": "code",
   "execution_count": null,
   "metadata": {},
   "outputs": [],
   "source": [
    "FEATURES = 32\n",
    "device = 'mps'"
   ]
  },
  {
   "cell_type": "code",
   "execution_count": null,
   "metadata": {},
   "outputs": [],
   "source": [
    "disc = Discriminator(features=FEATURES, channels_img=CHANNELS_IMG)\n",
    "disc.load_state_dict(torch.load(f'dcgan_disc_2024-04-19_1341.pt'))\n",
    "disc.to(device)\n",
    "disc.eval();"
   ]
  },
  {
   "cell_type": "code",
   "execution_count": null,
   "metadata": {},
   "outputs": [],
   "source": [
    "NOISE_DIM = 100"
   ]
  },
  {
   "cell_type": "code",
   "execution_count": null,
   "metadata": {},
   "outputs": [],
   "source": [
    "gen = Generator(channels_noise=NOISE_DIM, features=FEATURES, channels_img=CHANNELS_IMG)\n",
    "gen.load_state_dict(torch.load(f'dcgan_gen_2024-04-19_1341.pt'))\n",
    "gen.to(device)\n",
    "gen.eval();"
   ]
  },
  {
   "cell_type": "markdown",
   "metadata": {
    "jp-MarkdownHeadingCollapsed": true
   },
   "source": [
    "## Inversion (one image)"
   ]
  },
  {
   "cell_type": "code",
   "execution_count": null,
   "metadata": {},
   "outputs": [],
   "source": [
    "img = x_test_scale[10:11]"
   ]
  },
  {
   "cell_type": "code",
   "execution_count": null,
   "metadata": {},
   "outputs": [],
   "source": [
    "z_one, x_gens_one, loss_one = invert(img, generator=gen, device=device, steps=1000)"
   ]
  },
  {
   "cell_type": "code",
   "execution_count": null,
   "metadata": {},
   "outputs": [],
   "source": [
    "plt.plot(loss_one)\n",
    "plt.yscale('log')"
   ]
  },
  {
   "cell_type": "code",
   "execution_count": null,
   "metadata": {},
   "outputs": [],
   "source": [
    "fig, axs = plt.subplots(1,3,figsize=[15,5])\n",
    "axs[0].imshow(img[0])\n",
    "axs[1].imshow(x_gens_one[-1])\n",
    "axs[2].imshow((img[0]-x_gens_one[-1])**2, vmin=0, vmax=4)"
   ]
  },
  {
   "cell_type": "markdown",
   "metadata": {
    "jp-MarkdownHeadingCollapsed": true
   },
   "source": [
    "## Inversion (multiple images)"
   ]
  },
  {
   "cell_type": "code",
   "execution_count": null,
   "metadata": {},
   "outputs": [],
   "source": [
    "z, x_gens, loss = invert(x_test_scale, generator=gen, device=device, steps=1000)"
   ]
  },
  {
   "cell_type": "code",
   "execution_count": null,
   "metadata": {},
   "outputs": [],
   "source": [
    "plt.plot(loss)\n",
    "plt.yscale('log')"
   ]
  },
  {
   "cell_type": "code",
   "execution_count": null,
   "metadata": {},
   "outputs": [],
   "source": [
    "ind = 2\n",
    "fig, axs = plt.subplots(1,3,figsize=[15,5])\n",
    "axs[0].imshow(x_test_scale[ind])\n",
    "axs[1].imshow(x_gens[ind])\n",
    "axs[2].imshow((x_test_scale[ind]-x_gens[ind])**2, vmin=0, vmax=4)"
   ]
  },
  {
   "cell_type": "markdown",
   "metadata": {
    "jp-MarkdownHeadingCollapsed": true
   },
   "source": [
    "## Find mean/std latent vectors for each class"
   ]
  },
  {
   "cell_type": "code",
   "execution_count": null,
   "metadata": {},
   "outputs": [],
   "source": [
    "latent_mean = []\n",
    "latent_std = []\n",
    "for i in range (num_classes):\n",
    "    latent_mean_i = np.mean(z[y_test==i], axis=0)\n",
    "    latent_std_i = np.std(z[y_test==i], axis=0)\n",
    "    latent_mean.append(latent_mean_i)\n",
    "    latent_std.append(latent_std_i)\n",
    "latent_mean = np.array(latent_mean)\n",
    "latent_std = np.array(latent_std)"
   ]
  },
  {
   "cell_type": "code",
   "execution_count": null,
   "metadata": {},
   "outputs": [],
   "source": [
    "latent_mean.shape, latent_std.shape"
   ]
  },
  {
   "cell_type": "code",
   "execution_count": null,
   "metadata": {},
   "outputs": [],
   "source": [
    "fig, axs = plt.subplots(2,1,sharex=True)\n",
    "axs[0].set_title('mean')\n",
    "axs[0].imshow(latent_mean.reshape(num_classes, NOISE_DIM))\n",
    "axs[1].set_title('std')\n",
    "axs[1].imshow(latent_std.reshape(num_classes, NOISE_DIM))\n",
    "plt.tight_layout()"
   ]
  },
  {
   "cell_type": "code",
   "execution_count": null,
   "metadata": {},
   "outputs": [],
   "source": [
    "gen_mean = gen(torch.Tensor(latent_mean).to(device)).cpu().detach().numpy().reshape(num_classes,IMAGE_SIZE,IMAGE_SIZE)"
   ]
  },
  {
   "cell_type": "code",
   "execution_count": null,
   "metadata": {},
   "outputs": [],
   "source": [
    "fig, axs = plt.subplots(2,5, sharex=True, sharey=True)\n",
    "for i in range (2):\n",
    "    for j in range (5):\n",
    "        ind = i*5+j\n",
    "        axs[i,j].imshow(gen_mean[ind])\n",
    "plt.tight_layout()"
   ]
  },
  {
   "cell_type": "code",
   "execution_count": null,
   "metadata": {},
   "outputs": [],
   "source": [
    "fig, axs = plt.subplots(2,5, sharex=True, sharey=True)\n",
    "for i in range (2):\n",
    "    for j in range (5):\n",
    "        ind = i*5+j\n",
    "        mask = y_test == ind\n",
    "        axs[i,j].imshow(np.mean(x_gens[mask], axis=0))\n",
    "plt.tight_layout()"
   ]
  },
  {
   "cell_type": "code",
   "execution_count": null,
   "metadata": {},
   "outputs": [],
   "source": []
  }
 ],
 "metadata": {
  "kernelspec": {
   "display_name": "Python 3 (ipykernel)",
   "language": "python",
   "name": "python3"
  },
  "language_info": {
   "codemirror_mode": {
    "name": "ipython",
    "version": 3
   },
   "file_extension": ".py",
   "mimetype": "text/x-python",
   "name": "python",
   "nbconvert_exporter": "python",
   "pygments_lexer": "ipython3",
   "version": "3.11.9"
  }
 },
 "nbformat": 4,
 "nbformat_minor": 4
}
