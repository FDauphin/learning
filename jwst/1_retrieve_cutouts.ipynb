{
 "cells": [
  {
   "cell_type": "code",
   "execution_count": null,
   "id": "5e696fed",
   "metadata": {},
   "outputs": [],
   "source": [
    "import numpy as np\n",
    "import matplotlib.pyplot as plt\n",
    "from matplotlib import colors\n",
    "import pandas as pd\n",
    "from scipy.stats import median_abs_deviation as med_abs_dev\n",
    "from scipy.ndimage import label\n",
    "from imageio.v3 import imread\n",
    "from skimage.transform import resize\n",
    "from skimage.filters import gaussian\n",
    "from tqdm import tqdm"
   ]
  },
  {
   "cell_type": "code",
   "execution_count": null,
   "id": "f9738d4c",
   "metadata": {},
   "outputs": [],
   "source": [
    "def label_cmap (labels):\n",
    "    \"\"\"\n",
    "    Source:\n",
    "    https://github.com/nmiles2718/hst_cosmic_rays\n",
    "    \"\"\"\n",
    "    ncolors = np.max(labels) + 1\n",
    "    prng = np.random.RandomState(1234)\n",
    "    h = prng.uniform(low=0.0, high=1.0, size=ncolors)\n",
    "    s = prng.uniform(low=0.2, high=0.7, size=ncolors)\n",
    "    v = prng.uniform(low=0.5, high=1.0, size=ncolors)\n",
    "    hsv = np.dstack((h, s, v))\n",
    "\n",
    "    rgb = np.squeeze(colors.hsv_to_rgb(hsv))\n",
    "    rgb[0] = (0,0,0)\n",
    "    cmap = colors.ListedColormap(rgb)\n",
    "\n",
    "    return cmap"
   ]
  },
  {
   "cell_type": "markdown",
   "id": "12076aad-2292-4cba-beee-a8bb3ec433c7",
   "metadata": {
    "jp-MarkdownHeadingCollapsed": true
   },
   "source": [
    "## Save image by channel\n",
    "The powerpoint has samples of Webb public release images. Download an image from the [Webb site](https://webbtelescope.org/images) and save each channel (if they need to be pushed to a GitHub repo). This example uses the JWST Advanced Deep Extragalactic Survey (JADES) taken by NIRCam (released June 2023)."
   ]
  },
  {
   "cell_type": "code",
   "execution_count": null,
   "id": "f0d07bc8-a436-4dcd-87ab-980c8962ba16",
   "metadata": {},
   "outputs": [],
   "source": [
    "#img = imread('STScI-01H1Q2KSWH9JQW20MA3WVQ48RS.tif')\n",
    "#np.savez_compressed('images/jades_r.npz', channel=img[:, :, 0])\n",
    "#np.savez_compressed('images/jades_g.npz', channel=img[:, :, 1])\n",
    "#np.savez_compressed('images/jades_b.npz', channel=img[:, :, 2])"
   ]
  },
  {
   "cell_type": "markdown",
   "id": "b8174ddc-5a36-457b-aaca-2b86155e2582",
   "metadata": {
    "jp-MarkdownHeadingCollapsed": true
   },
   "source": [
    "## Load and plot image/histogram"
   ]
  },
  {
   "cell_type": "code",
   "execution_count": null,
   "id": "c1bb0967",
   "metadata": {},
   "outputs": [],
   "source": [
    "img_r = np.load('images/jades_r.npz')['channel']\n",
    "img_g = np.load('images/jades_g.npz')['channel']\n",
    "img_b = np.load('images/jades_b.npz')['channel']"
   ]
  },
  {
   "cell_type": "code",
   "execution_count": null,
   "id": "d62c48b3-c2e4-4454-8510-3d0aebede6a0",
   "metadata": {},
   "outputs": [],
   "source": [
    "image = np.array([img_r, img_g, img_b])\n",
    "image = np.transpose(image, axes=(1,2,0))"
   ]
  },
  {
   "cell_type": "code",
   "execution_count": null,
   "id": "ee078d29",
   "metadata": {},
   "outputs": [],
   "source": [
    "ymin, ymax, xmin, xmax = 4000, 5000, 2000, 3000\n",
    "img = image[ymin:ymax, xmin:xmax]\n",
    "fig, axs = plt.subplots(1,2,figsize=[20,10], dpi=100)\n",
    "axs[0].imshow(image)\n",
    "axs[0].plot([xmin, xmax], [ymin, ymin], color='C3')\n",
    "axs[0].plot([xmin, xmax], [ymax, ymax], color='C3')\n",
    "axs[0].plot([xmin, xmin], [ymin, ymax], color='C3')\n",
    "axs[0].plot([xmax, xmax], [ymin, ymax], color='C3')\n",
    "axs[1].imshow(img)"
   ]
  },
  {
   "cell_type": "code",
   "execution_count": null,
   "id": "30229a04-2a1d-4e48-8e56-c92e17ebc262",
   "metadata": {},
   "outputs": [],
   "source": [
    "fig,axs = plt.subplots(1,2,figsize=[10,5])\n",
    "axs[0].hist(image[:, :, 0].flatten(), bins=100, alpha=0.5, color='r')\n",
    "axs[0].hist(image[:, :, 1].flatten(), bins=100, alpha=0.5, color='g')\n",
    "axs[0].hist(image[:, :, 2].flatten(), bins=100, alpha=0.5, color='b')\n",
    "axs[1].hist(img[:, :, 0].flatten(), bins=100, alpha=0.5, color='r')\n",
    "axs[1].hist(img[:, :, 1].flatten(), bins=100, alpha=0.5, color='g')\n",
    "axs[1].hist(img[:, :, 2].flatten(), bins=100, alpha=0.5, color='b')\n",
    "axs[0].set_yscale('log')\n",
    "axs[1].set_yscale('log')"
   ]
  },
  {
   "cell_type": "markdown",
   "id": "f47c5735-5ed1-4332-b071-5dd5bffb94f3",
   "metadata": {
    "jp-MarkdownHeadingCollapsed": true
   },
   "source": [
    "## Detect sources by thresholding a Gaussian smoothed image"
   ]
  },
  {
   "cell_type": "markdown",
   "id": "f0abb2fd-1c47-4704-b234-d00385267c1a",
   "metadata": {
    "jp-MarkdownHeadingCollapsed": true
   },
   "source": [
    "- Raw pixel thresholding (more noise gets detected)\n",
    "  - mean + 1 * std ~ 95 percentile\n",
    "  - median + 3 * mad ~ 90 percentile\n",
    "- Sobel edge detection (more holes and less spherical)\n",
    "- Blob detection using Laplacian of Gaussian (only detects positions, not accurate enough for size)\n",
    "- Adaptive thresholding (opencv implementation is difficult to optimize; regular thresholding should suffice since background is constant and black)\n",
    "  - [Example](https://docs.opencv.org/4.x/d7/d4d/tutorial_py_thresholding.html)\n",
    "  - [Docstring](https://docs.opencv.org/4.x/d7/d1b/group__imgproc__misc.html#ga72b913f352e4a1b1b397736707afcde3)\n",
    "  - [Source code](https://github.com/opencv/opencv/blob/4.x/modules/imgproc/src/thresh.cpp#L1673)\n",
    "- Gaussian smoothing with 3 sigma and 95% thresholds are hyperparameters\n",
    "  - High sigma --> more smoothing --> fainter sources are lost\n",
    "  - High threshold --> more pixels masked --> fainter sources are lost\n",
    "  - 3 and 95% were sufficient enough for our purposes\n",
    "    - ~10k cutouts\n",
    "    - log(Source size) distribution ~ normal around 2 with a skew\n",
    "  - May be worth while to find what sources are lost at < 3 sigma and < 95% threshold\n",
    "  - Can also use binary morphology (dilation/erosion) to remove small \"noise\""
   ]
  },
  {
   "cell_type": "code",
   "execution_count": null,
   "id": "206ce205-59ac-4f0f-a867-75f03f5a19b9",
   "metadata": {},
   "outputs": [],
   "source": [
    "img = image"
   ]
  },
  {
   "cell_type": "code",
   "execution_count": null,
   "id": "94c77f07-14ff-45e6-bbf0-44b81f5339dc",
   "metadata": {},
   "outputs": [],
   "source": [
    "img_scale = img / 255"
   ]
  },
  {
   "cell_type": "code",
   "execution_count": null,
   "id": "d5f5b801-dc4c-4f1d-b6d6-a3140d27b6c3",
   "metadata": {},
   "outputs": [],
   "source": [
    "img_scale_gauss = gaussian(img_scale, sigma=3)"
   ]
  },
  {
   "cell_type": "code",
   "execution_count": null,
   "id": "a753beef-cfe9-452d-a156-89ef90131d52",
   "metadata": {},
   "outputs": [],
   "source": [
    "thresh_gauss = np.percentile(img_scale_gauss, 95, axis=(0,1))"
   ]
  },
  {
   "cell_type": "code",
   "execution_count": null,
   "id": "2bfa0e99-5ac7-4311-9a12-adca289826a4",
   "metadata": {},
   "outputs": [],
   "source": [
    "masks_gauss = img_scale_gauss > thresh_gauss"
   ]
  },
  {
   "cell_type": "code",
   "execution_count": null,
   "id": "f29e4881-ef2e-4e08-a121-2f6fbd224ac7",
   "metadata": {},
   "outputs": [],
   "source": [
    "mask_gauss = masks_gauss.sum(2) == 3"
   ]
  },
  {
   "cell_type": "code",
   "execution_count": null,
   "id": "b2da49df-a3d3-4e7f-9d1b-fc5b8374ab79",
   "metadata": {},
   "outputs": [],
   "source": [
    "fig, axs = plt.subplots(1,2,figsize=[10,5])\n",
    "axs[0].imshow(img_scale_gauss)\n",
    "axs[1].imshow(mask_gauss)"
   ]
  },
  {
   "cell_type": "code",
   "execution_count": null,
   "id": "b54eedd4-bbef-4da2-a1c7-717237cdc9b1",
   "metadata": {},
   "outputs": [],
   "source": [
    "labels, num_feat = label(mask_gauss, structure=np.ones((3,3)))\n",
    "sizes = np.bincount(labels.flatten())\n",
    "plt.hist(np.log10(sizes[1:]), bins=50)\n",
    "plt.yscale('log')\n",
    "num_feat"
   ]
  },
  {
   "cell_type": "code",
   "execution_count": null,
   "id": "320a67c1-387f-439f-bc77-f06fcc548740",
   "metadata": {},
   "outputs": [],
   "source": [
    "mask = np.broadcast_to(mask_gauss.reshape(mask_gauss.shape[0],mask_gauss.shape[1],1), img.shape)"
   ]
  },
  {
   "cell_type": "code",
   "execution_count": null,
   "id": "e35f9fd5-49c4-4bf7-b624-1fb5c66b9771",
   "metadata": {},
   "outputs": [],
   "source": [
    "fig, axs = plt.subplots(1,1,dpi=200)\n",
    "axs.imshow(img*~mask)"
   ]
  },
  {
   "cell_type": "markdown",
   "id": "adef36b3-e5b4-4422-afc8-7ad2ade24063",
   "metadata": {
    "jp-MarkdownHeadingCollapsed": true
   },
   "source": [
    "## Make cutouts"
   ]
  },
  {
   "cell_type": "code",
   "execution_count": null,
   "id": "f34e643f",
   "metadata": {},
   "outputs": [],
   "source": [
    "def make_source_cutout(source_label, labels, img, size=128, pad=10, plot=False):\n",
    "    \n",
    "    # Get positions/size of labeled source in image\n",
    "    y, x = np.where(labels==source_label)\n",
    "    source_size = y.shape[0]\n",
    "    y_min = y.min()\n",
    "    y_max = y.max()\n",
    "    x_min = x.min()\n",
    "    x_max = x.max()\n",
    "    \n",
    "    # Get start and end indices of source\n",
    "    if y_min < pad:\n",
    "        y_start = 0\n",
    "    else:\n",
    "        y_start = y_min - pad\n",
    "    y_end = y_max + pad\n",
    "    \n",
    "    if x_min < pad:\n",
    "        x_start = 0\n",
    "    else:\n",
    "        x_start = x_min - pad\n",
    "    x_end = x_max + pad\n",
    "    loc = [y.mean(), x.mean(), y_start, y_end, x_start, x_end, source_size]\n",
    "    \n",
    "    # Retrieve and resize source cutout\n",
    "    source_img = img[y_start:y_end, x_start:x_end]\n",
    "    source_img_resize = resize(source_img, (size, size, 3), order=3)\n",
    "    \n",
    "    # Plot\n",
    "    if plot:\n",
    "        source_labels = labels[y_start:y_end, x_start:x_end]\n",
    "        fig, axs = plt.subplots(1,3,figsize=[30,10])\n",
    "        title = f'y:{int(loc[0])}, x:{int(loc[1])}, size:{source_size}, label:{source_label}'\n",
    "        axs[0].set_title(title)\n",
    "        axs[0].imshow(source_labels)\n",
    "        axs[1].imshow(source_img)\n",
    "        axs[2].imshow(source_img_resize)\n",
    "        plt.show()\n",
    "    \n",
    "    return loc, source_img_resize"
   ]
  },
  {
   "cell_type": "code",
   "execution_count": null,
   "id": "bb70e66e",
   "metadata": {},
   "outputs": [],
   "source": [
    "locs = []\n",
    "sources = []\n",
    "for i in tqdm(range(1, num_feat+1)):\n",
    "    loc, source = make_source_cutout(i, labels, img, plot=False)\n",
    "    locs.append(loc)\n",
    "    sources.append(source)"
   ]
  },
  {
   "cell_type": "markdown",
   "id": "17c9c72f-be3b-4196-a3a3-83593a142691",
   "metadata": {
    "jp-MarkdownHeadingCollapsed": true
   },
   "source": [
    "## Save mask, metadata, and cutouts"
   ]
  },
  {
   "cell_type": "code",
   "execution_count": null,
   "id": "1f74e21a-bcb2-43b8-9c1c-b20287460a40",
   "metadata": {},
   "outputs": [],
   "source": [
    "np.savez_compressed('mask_labels.npz', mask=labels)"
   ]
  },
  {
   "cell_type": "code",
   "execution_count": null,
   "id": "c30fc0da-0a67-4b49-8f72-275735ba626e",
   "metadata": {},
   "outputs": [],
   "source": [
    "df = pd.DataFrame(np.array(locs), columns=['y_mean', 'x_mean', 'y_min', 'y_max', 'x_min', 'x_max', 'source_size'])"
   ]
  },
  {
   "cell_type": "code",
   "execution_count": null,
   "id": "e950de91-8ae5-4b9c-8b3c-809f96489358",
   "metadata": {},
   "outputs": [],
   "source": [
    "df.to_csv('jades.csv', index=False)"
   ]
  },
  {
   "cell_type": "code",
   "execution_count": null,
   "id": "5c9989d4-f4b9-4b32-b4bf-24739afd157e",
   "metadata": {},
   "outputs": [],
   "source": [
    "sources = np.array(sources)"
   ]
  },
  {
   "cell_type": "code",
   "execution_count": null,
   "id": "20b7dfcd-9de8-4d2f-ad07-ce6225784102",
   "metadata": {},
   "outputs": [],
   "source": [
    "sources_int = (sources*255).astype(np.uint8)"
   ]
  },
  {
   "cell_type": "code",
   "execution_count": null,
   "id": "c42df168-2086-49fd-9448-42daabf1ab0d",
   "metadata": {},
   "outputs": [],
   "source": [
    "#np.savez_compressed('images/jades_sources_r.npz', sources=sources_int[:, :, :, 0])\n",
    "#np.savez_compressed('images/jades_sources_g.npz', sources=sources_int[:, :, :, 1])\n",
    "#np.savez_compressed('images/jades_sources_b.npz', sources=sources_int[:, :, :, 2])"
   ]
  },
  {
   "cell_type": "code",
   "execution_count": null,
   "id": "0da1e55b-a6f0-437a-b6a6-6948005db2ac",
   "metadata": {},
   "outputs": [],
   "source": []
  }
 ],
 "metadata": {
  "kernelspec": {
   "display_name": "Python 3 (ipykernel)",
   "language": "python",
   "name": "python3"
  },
  "language_info": {
   "codemirror_mode": {
    "name": "ipython",
    "version": 3
   },
   "file_extension": ".py",
   "mimetype": "text/x-python",
   "name": "python",
   "nbconvert_exporter": "python",
   "pygments_lexer": "ipython3",
   "version": "3.11.8"
  }
 },
 "nbformat": 4,
 "nbformat_minor": 5
}
