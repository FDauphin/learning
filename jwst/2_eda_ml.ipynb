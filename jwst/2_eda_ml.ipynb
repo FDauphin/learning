{
 "cells": [
  {
   "cell_type": "code",
   "execution_count": null,
   "id": "67ec2b53-1575-4489-a1ef-8441216e696f",
   "metadata": {},
   "outputs": [],
   "source": [
    "import numpy as np\n",
    "import matplotlib.pyplot as plt\n",
    "from matplotlib import colors\n",
    "import pandas as pd\n",
    "from scipy.stats import median_abs_deviation as med_abs_dev\n",
    "from tqdm import tqdm\n",
    "\n",
    "from sklearn.decomposition import PCA\n",
    "from sklearn.cluster import KMeans\n",
    "from sklearn.neighbors import KernelDensity\n",
    "import seaborn as sns"
   ]
  },
  {
   "cell_type": "markdown",
   "id": "6c2644cd-5ba6-4c0d-b084-acd54ee5a24e",
   "metadata": {
    "jp-MarkdownHeadingCollapsed": true
   },
   "source": [
    "## Load image, mask, metadata, and cutouts"
   ]
  },
  {
   "cell_type": "code",
   "execution_count": null,
   "id": "652081dd",
   "metadata": {},
   "outputs": [],
   "source": [
    "img_r = np.load('images/jades_r.npz')['channel']\n",
    "img_g = np.load('images/jades_g.npz')['channel']\n",
    "img_b = np.load('images/jades_b.npz')['channel']"
   ]
  },
  {
   "cell_type": "code",
   "execution_count": null,
   "id": "0601dbaf-e6e0-480a-b71c-bb9a28ba95a2",
   "metadata": {},
   "outputs": [],
   "source": [
    "img = np.array([img_r, img_g, img_b])\n",
    "img = np.transpose(img, axes=(1,2,0))"
   ]
  },
  {
   "cell_type": "code",
   "execution_count": null,
   "id": "54d105de-f8b2-4616-9546-5e6fde02b014",
   "metadata": {},
   "outputs": [],
   "source": [
    "labels = np.load('mask_labels.npz')['mask']\n",
    "mask = labels > 0"
   ]
  },
  {
   "cell_type": "code",
   "execution_count": null,
   "id": "39ad32cd-9ca1-4a25-99a9-0fa0b5e9eaa4",
   "metadata": {},
   "outputs": [],
   "source": [
    "df = pd.read_csv('jades.csv')"
   ]
  },
  {
   "cell_type": "code",
   "execution_count": null,
   "id": "01e056f3",
   "metadata": {},
   "outputs": [],
   "source": [
    "sources_r = np.load('images/jades_sources_r.npz')['sources']\n",
    "sources_g = np.load('images/jades_sources_g.npz')['sources']\n",
    "sources_b = np.load('images/jades_sources_b.npz')['sources']"
   ]
  },
  {
   "cell_type": "code",
   "execution_count": null,
   "id": "6bb4154c",
   "metadata": {},
   "outputs": [],
   "source": [
    "sources_int = np.array([sources_r, sources_g, sources_b])\n",
    "sources = np.transpose(sources_int, axes=(1,2,3,0)) / 255"
   ]
  },
  {
   "cell_type": "code",
   "execution_count": null,
   "id": "28f68b14-100b-4d3e-a48d-02d3965d5f3e",
   "metadata": {},
   "outputs": [],
   "source": [
    "n_sources, length, _, n_channels = sources.shape"
   ]
  },
  {
   "cell_type": "markdown",
   "id": "43ab5fef-a666-4cce-a64f-2b1a5165148b",
   "metadata": {
    "jp-MarkdownHeadingCollapsed": true
   },
   "source": [
    "## Plot image, mask, and sources"
   ]
  },
  {
   "cell_type": "code",
   "execution_count": null,
   "id": "47399dae",
   "metadata": {},
   "outputs": [],
   "source": [
    "fig, axs = plt.subplots(1,2,figsize=[20,10])\n",
    "axs[0].imshow(img)\n",
    "axs[1].imshow(mask)"
   ]
  },
  {
   "cell_type": "code",
   "execution_count": null,
   "id": "860399f2-6f75-42d2-aab5-e0501b7f8c01",
   "metadata": {},
   "outputs": [],
   "source": [
    "inds = np.random.randint(0, sources.shape[0], (4,4))"
   ]
  },
  {
   "cell_type": "code",
   "execution_count": null,
   "id": "107470f7-f112-4b3f-b7bb-feebef313439",
   "metadata": {},
   "outputs": [],
   "source": [
    "fig, axs = plt.subplots(4,4,figsize=[10,10])\n",
    "for i in range (4):\n",
    "    for j in range (4):\n",
    "        ind = inds[i, j]\n",
    "        y_mean, x_mean, source_size = df.iloc[ind][['y_mean', 'x_mean', 'source_size']].astype(int)\n",
    "        title = f'y:{y_mean}, x:{x_mean}\\n size:{source_size}, label:{ind}'\n",
    "        axs[i, j].set_title(title)\n",
    "        axs[i, j].imshow(sources[ind])\n",
    "        axs[i, j].axis('off')\n",
    "fig.tight_layout()"
   ]
  },
  {
   "cell_type": "markdown",
   "id": "9dd5a174-a53e-4082-bea5-5a845d0e1f71",
   "metadata": {
    "jp-MarkdownHeadingCollapsed": true
   },
   "source": [
    "## Stats"
   ]
  },
  {
   "cell_type": "code",
   "execution_count": null,
   "id": "1cdd1a74",
   "metadata": {
    "scrolled": true
   },
   "outputs": [],
   "source": [
    "for func in [np.mean, np.std, np.max, np.min]:\n",
    "    fig, axs = plt.subplots(1,4,figsize=[20,5])\n",
    "    axs[0].set_title(func.__name__)\n",
    "    sources_func = func(sources, axis=0)\n",
    "    axs[0].imshow(sources_func)\n",
    "    axs[1].imshow(sources_func[:, :, 0], cmap='Reds')\n",
    "    axs[2].imshow(sources_func[:, :, 1], cmap='Greens')\n",
    "    axs[3].imshow(sources_func[:, :, 2], cmap='Blues')\n",
    "    plt.show()"
   ]
  },
  {
   "cell_type": "code",
   "execution_count": null,
   "id": "240b2482",
   "metadata": {
    "scrolled": true
   },
   "outputs": [],
   "source": [
    "for func in [np.mean, np.std, np.max, np.min]:\n",
    "    fig, axs = plt.subplots(1,2,figsize=[20,5])\n",
    "    axs[0].set_title(func.__name__)\n",
    "    sources_func = func(sources, axis=(1,2,3))\n",
    "    sources_func_color = func(sources, axis=(1,2))\n",
    "    axs[0].hist(sources_func, bins=50)\n",
    "    axs[1].hist(sources_func_color[:, 0], bins=50, color='red', alpha=0.5)\n",
    "    axs[1].hist(sources_func_color[:, 1], bins=50, color='green', alpha=0.5)\n",
    "    axs[1].hist(sources_func_color[:, 2], bins=50, color='blue', alpha=0.5)\n",
    "    plt.show()"
   ]
  },
  {
   "cell_type": "code",
   "execution_count": null,
   "id": "f3562ab0",
   "metadata": {},
   "outputs": [],
   "source": [
    "plt.imshow(np.max(sources, axis=(0)), interpolation='bicubic')"
   ]
  },
  {
   "cell_type": "markdown",
   "id": "9bf9ff1d-1b44-4b88-9797-1ea5bc942952",
   "metadata": {
    "jp-MarkdownHeadingCollapsed": true
   },
   "source": [
    "## PCA"
   ]
  },
  {
   "cell_type": "markdown",
   "id": "575fb65d-d944-41a7-9ae2-a97a9e5e32bc",
   "metadata": {},
   "source": [
    "### Projection"
   ]
  },
  {
   "cell_type": "code",
   "execution_count": null,
   "id": "58745c90",
   "metadata": {},
   "outputs": [],
   "source": [
    "n = 128\n",
    "pca = PCA(n_components=n, whiten=True)"
   ]
  },
  {
   "cell_type": "code",
   "execution_count": null,
   "id": "f2e323c1",
   "metadata": {},
   "outputs": [],
   "source": [
    "pca_sources = pca.fit_transform(sources.reshape(sources.shape[0], -1))"
   ]
  },
  {
   "cell_type": "code",
   "execution_count": null,
   "id": "bd198e76",
   "metadata": {},
   "outputs": [],
   "source": [
    "pca_sources.shape"
   ]
  },
  {
   "cell_type": "code",
   "execution_count": null,
   "id": "cc4f1865",
   "metadata": {},
   "outputs": [],
   "source": [
    "pca.explained_variance_ratio_.sum()"
   ]
  },
  {
   "cell_type": "code",
   "execution_count": null,
   "id": "16b7a0ea-e8fc-494f-acfb-1dd81ed45fd8",
   "metadata": {},
   "outputs": [],
   "source": [
    "plt.plot(pca.explained_variance_ratio_)\n",
    "plt.yscale('log')"
   ]
  },
  {
   "cell_type": "code",
   "execution_count": null,
   "id": "75c784e2",
   "metadata": {},
   "outputs": [],
   "source": [
    "plt.scatter(pca_sources[:, 0], pca_sources[:, 1], alpha=0.1, s=1)"
   ]
  },
  {
   "cell_type": "markdown",
   "id": "cad0f411-dd63-4460-bcd3-b7112692e006",
   "metadata": {},
   "source": [
    "### Inverse transform"
   ]
  },
  {
   "cell_type": "code",
   "execution_count": null,
   "id": "99bc0364",
   "metadata": {},
   "outputs": [],
   "source": [
    "ind = np.random.randint(0, n_sources)\n",
    "source = sources[ind]\n",
    "source_inv = pca.inverse_transform(pca_sources[ind]).reshape(length,length,n_channels)\n",
    "res = source - source_inv\n",
    "fig, axs = plt.subplots(2,3,figsize=[15,10])\n",
    "axs[0,0].set_title('Source')\n",
    "axs[0,1].set_title('Inverse Transform')\n",
    "axs[0,2].set_title('Squared Residuals')\n",
    "axs[1,0].set_title('Residuals (scatter)')\n",
    "axs[1,1].set_title('Residuals (hist)')\n",
    "axs[1,2].set_title('Correlation')\n",
    "axs[1,2].set_xlabel('Source')\n",
    "axs[1,2].set_ylabel('Inverse Transform')\n",
    "axs[0,0].imshow(source)\n",
    "axs[0,1].imshow(source_inv)\n",
    "axs[0,2].imshow(res ** 2)\n",
    "axs[1,2].plot([0,1], [0, 1], color='k')\n",
    "for i, color in enumerate('rgb'):\n",
    "    axs[1,0].grid()\n",
    "    axs[1,0].scatter(np.arange(length**2), res[:, :, i].flatten(), s=1, alpha=0.1, color=color)\n",
    "    axs[1,1].grid()\n",
    "    axs[1,1].hist(res[:, :, i].flatten(), bins=100, alpha=0.5, color=color)\n",
    "    axs[1,2].grid()\n",
    "    r2_color = np.corrcoef(source[:, :, i].flatten(), source_inv[:, :, i].flatten())[0,1]**2\n",
    "    axs[1,2].scatter(source[:, :, i].flatten(), source_inv[:, :, i].flatten(), \n",
    "                     s=1, alpha=0.1, color=color, label=fr'$R^2$ = {r2_color:.2f}')\n",
    "axs[1,2].legend()\n",
    "fig.tight_layout()\n",
    "\n",
    "res_mean = res.mean()\n",
    "res_std = res.std()\n",
    "mse = np.mean(res ** 2)\n",
    "r2 = np.corrcoef(source.flatten(), source_inv.flatten())[0,1]**2\n",
    "print (f'Residuals: {res_mean:.5f} +/- {res_std:.5f}')\n",
    "print (f'MSE: {mse:.5f}')\n",
    "print (f'R2: {r2:.5f}')"
   ]
  },
  {
   "cell_type": "markdown",
   "id": "0fd28eb0-84a1-4a2c-8162-a21faa87c863",
   "metadata": {},
   "source": [
    "### PC Space interpolation"
   ]
  },
  {
   "cell_type": "code",
   "execution_count": null,
   "id": "66f42701",
   "metadata": {},
   "outputs": [],
   "source": [
    "n_box = 16\n",
    "ind1, ind2 = np.random.randint(0, n_sources, 2)\n",
    "pc_interp = np.linspace(pca_sources[ind1], pca_sources[ind2], n_box)\n",
    "pc_interp_inv = pca.inverse_transform(pc_interp).reshape(n_box, length, length, n_channels)\n",
    "\n",
    "fig, axs = plt.subplots(4,4,figsize=[10,10])\n",
    "for i in range (4):\n",
    "    for j in range (4):\n",
    "        ind = i*4+j\n",
    "        axs[i, j].imshow(pc_interp_inv[ind])\n",
    "        axs[i, j].axis('off')\n",
    "fig.tight_layout()"
   ]
  },
  {
   "cell_type": "markdown",
   "id": "e4eb23cd-a245-44cb-a395-acfa4e29c7cb",
   "metadata": {},
   "source": [
    "### Eigenimages"
   ]
  },
  {
   "cell_type": "code",
   "execution_count": null,
   "id": "ac6169f2",
   "metadata": {},
   "outputs": [],
   "source": [
    "eigenimages = pca.components_.reshape(n, length, length, n_channels)"
   ]
  },
  {
   "cell_type": "code",
   "execution_count": null,
   "id": "2a375d8d",
   "metadata": {},
   "outputs": [],
   "source": [
    "eigenimages_scale = (eigenimages - eigenimages.min()) / (eigenimages.max() - eigenimages.min())"
   ]
  },
  {
   "cell_type": "code",
   "execution_count": null,
   "id": "04205316",
   "metadata": {
    "scrolled": true
   },
   "outputs": [],
   "source": [
    "for i, ei in enumerate(eigenimages_scale[:16]):\n",
    "    fig, axs = plt.subplots(1,4,figsize=[20,5])\n",
    "    axs[0].set_title(i)\n",
    "    axs[0].imshow(ei)\n",
    "    axs[1].imshow(eigenimages[i, :, :, 0], cmap='Reds')\n",
    "    axs[2].imshow(eigenimages[i, :, :, 1], cmap='Greens')\n",
    "    axs[3].imshow(eigenimages[i, :, :, 2], cmap='Blues')\n",
    "    plt.show()"
   ]
  },
  {
   "cell_type": "markdown",
   "id": "a64bfd2a-0a7b-42b8-9563-47903de27684",
   "metadata": {
    "jp-MarkdownHeadingCollapsed": true
   },
   "source": [
    "## KMeans of PCs"
   ]
  },
  {
   "cell_type": "code",
   "execution_count": null,
   "id": "9cd77030",
   "metadata": {},
   "outputs": [],
   "source": [
    "n_clusters = 10\n",
    "kmeans = KMeans(n_clusters=n_clusters)"
   ]
  },
  {
   "cell_type": "code",
   "execution_count": null,
   "id": "6a7b9940",
   "metadata": {},
   "outputs": [],
   "source": [
    "kmeans_pred = kmeans.fit_predict(pca_sources[:, :16])"
   ]
  },
  {
   "cell_type": "code",
   "execution_count": null,
   "id": "b7b2f9ae",
   "metadata": {},
   "outputs": [],
   "source": [
    "plt.scatter(pca_sources[:, 0], pca_sources[:, 1], alpha=0.5, s=1, c=kmeans_pred, cmap='tab10')\n",
    "plt.colorbar()"
   ]
  },
  {
   "cell_type": "code",
   "execution_count": null,
   "id": "87752089",
   "metadata": {
    "scrolled": true
   },
   "outputs": [],
   "source": [
    "for i in range (n_clusters):\n",
    "    mask_km = kmeans_pred == i\n",
    "    fig, axs = plt.subplots(1,2,figsize=[10,5])\n",
    "    axs[0].scatter(pca_sources[:, 0][mask_km], pca_sources[:, 1][mask_km], color= f'C{i}')\n",
    "    axs[1].imshow(np.mean(sources[mask_km], axis=0))\n",
    "    axs[0].set_xlim(-2, 7)\n",
    "    axs[0].set_ylim(-5, 9)\n",
    "    plt.show()\n",
    "    inds = np.random.randint(0, mask_km.sum(), 8)\n",
    "    fig, axs = plt.subplots(1,8,figsize=[40,5])\n",
    "    for j in range (8):\n",
    "        axs[j].imshow(sources[mask_km][inds[j]])\n",
    "        axs[j].axis('off')\n",
    "    plt.show()"
   ]
  },
  {
   "cell_type": "markdown",
   "id": "d4fbba34-c680-44f3-b638-537428215f81",
   "metadata": {
    "jp-MarkdownHeadingCollapsed": true
   },
   "source": [
    "## KDE of PCs"
   ]
  },
  {
   "cell_type": "markdown",
   "id": "d537700d-6e05-4854-ab1b-16a914df30a6",
   "metadata": {},
   "source": [
    "### Globally\n",
    "\n",
    "- bw=0.1 is not smooth enough to sufficiently sample space\n",
    "- Also suffers from curse of dimensionality (sampling a point in a 128d space will be close to a training sample)\n",
    "- Solution:\n",
    "  - Sample the first few principal components as a KDE\n",
    "  - Independently sample the remaining principal components as a standard normal (based on PC KDEs)"
   ]
  },
  {
   "cell_type": "code",
   "execution_count": null,
   "id": "d3d6de0f",
   "metadata": {},
   "outputs": [],
   "source": [
    "bw = 0.1\n",
    "fig, axs = plt.subplots(1,2,figsize=[10,5])\n",
    "sns.kdeplot(x=pca_sources[:, 0], ax=axs[0], bw_method=bw, color='k', label='PC0')\n",
    "for i in range(1,n):\n",
    "    sns.kdeplot(x=pca_sources[:, i], ax=axs[0], bw_method=bw, color=f'C{i}')\n",
    "    axs[0].set_xlim(-2,2)\n",
    "axs[0].legend()\n",
    "sns.kdeplot(x=pca_sources[:, 0], y=pca_sources[:, 1], ax=axs[1], levels=10, bw_method=bw)"
   ]
  },
  {
   "cell_type": "code",
   "execution_count": null,
   "id": "a2d4b61a-7cc2-43c9-98b6-a609648ae657",
   "metadata": {},
   "outputs": [],
   "source": [
    "kde = KernelDensity(bandwidth=bw)\n",
    "kde_sources = kde.fit(pca_sources[:, 0:1])"
   ]
  },
  {
   "cell_type": "code",
   "execution_count": null,
   "id": "cbd753f0-4d68-46c7-bf77-c19911a9ea5e",
   "metadata": {},
   "outputs": [],
   "source": [
    "n_box = 16\n",
    "kde_samples0 = kde_sources.sample(n_box)\n",
    "dim1 = pca_sources.shape[1] - kde_samples0.shape[1]\n",
    "kde_samples1 = np.random.standard_normal((n_box, dim1))\n",
    "kde_samples = np.concatenate((kde_samples0, kde_samples1), axis=1)\n",
    "kde_samples_inv = pca.inverse_transform(kde_samples).reshape(n_box,length,length,n_channels)"
   ]
  },
  {
   "cell_type": "code",
   "execution_count": null,
   "id": "6fd96a04-df41-42c0-9941-6e4efdc6f295",
   "metadata": {},
   "outputs": [],
   "source": [
    "for ind in range (n_box):\n",
    "    fig, axs = plt.subplots(1,5,figsize=[25,5])\n",
    "    axs[0].set_title('KDE Sample Inversed')\n",
    "    axs[0].imshow(kde_samples_inv[ind])\n",
    "    axs[0].axis('off')\n",
    "    dist = np.sum((pca_sources[:, :16] - kde_samples[ind, :16]) ** 2, axis=1)\n",
    "    inds_min = np.argsort(dist)[:4]\n",
    "    for j in range (1, 5):\n",
    "        ind_min = inds_min[j-1]\n",
    "        axs[j].set_title(f'Nearest Neighbor\\n distance = {dist[ind_min]:.3f}')\n",
    "        axs[j].imshow(sources[ind_min])\n",
    "        axs[j].axis('off')\n",
    "    fig.tight_layout()\n",
    "    plt.show()"
   ]
  },
  {
   "cell_type": "markdown",
   "id": "92fd7bb4-5f70-4c67-b205-c140632830c3",
   "metadata": {},
   "source": [
    "### By Cluster\n",
    "\n",
    "- Sampling method weaker when distributions aren't normal or smooth"
   ]
  },
  {
   "cell_type": "code",
   "execution_count": null,
   "id": "2c950e93-92ad-4812-aea8-e9090dc7e1a9",
   "metadata": {},
   "outputs": [],
   "source": [
    "col = []\n",
    "for i in range (pca_sources.shape[1]):\n",
    "    col.append(f'pca{i}')\n",
    "df_pca_kmeans = pd.DataFrame(pca_sources, columns=col)\n",
    "df_pca_kmeans['cluster'] = kmeans_pred"
   ]
  },
  {
   "cell_type": "code",
   "execution_count": null,
   "id": "54d19d58-c2b2-4297-a29f-c8513d730dbb",
   "metadata": {},
   "outputs": [],
   "source": [
    "fig, axs = plt.subplots(1,2,figsize=[10,5])\n",
    "for i in range(n_clusters):\n",
    "    mask_km = kmeans_pred == i\n",
    "    sns.kdeplot(data=df_pca_kmeans[mask_km], x='pca0', ax=axs[0], color=f'C{i}')\n",
    "    sns.kdeplot(data=df_pca_kmeans[mask_km], x='pca0', y='pca1', ax=axs[1], color=f'C{i}', levels=5)"
   ]
  },
  {
   "cell_type": "code",
   "execution_count": null,
   "id": "d3ca0837-5be6-4fdf-b3b1-676ac351fb1c",
   "metadata": {},
   "outputs": [],
   "source": [
    "mask_km = kmeans_pred == 5"
   ]
  },
  {
   "cell_type": "code",
   "execution_count": null,
   "id": "01ee3393-67a8-4743-8541-42ebd814564c",
   "metadata": {},
   "outputs": [],
   "source": [
    "kde = KernelDensity(bandwidth=bw)\n",
    "kde_sources = kde.fit(pca_sources[:, :8][mask_km])"
   ]
  },
  {
   "cell_type": "code",
   "execution_count": null,
   "id": "407757ba-fe92-4a79-8313-8a00c2a73698",
   "metadata": {},
   "outputs": [],
   "source": [
    "n_box = 16\n",
    "kde_samples0 = kde_sources.sample(n_box)\n",
    "dim1 = pca_sources.shape[1] - kde_samples0.shape[1]\n",
    "kde_samples1 = np.random.standard_normal((n_box, dim1))\n",
    "kde_samples = np.concatenate((kde_samples0, kde_samples1), axis=1)\n",
    "kde_samples_inv = pca.inverse_transform(kde_samples).reshape(n_box,length,length,n_channels)"
   ]
  },
  {
   "cell_type": "code",
   "execution_count": null,
   "id": "9934c6fc-8690-4f7a-b3e6-ed5def0fdd44",
   "metadata": {},
   "outputs": [],
   "source": [
    "for ind in range (n_box):\n",
    "    fig, axs = plt.subplots(1,5,figsize=[25,5])\n",
    "    axs[0].set_title('KDE Sample Inversed')\n",
    "    axs[0].imshow(kde_samples_inv[ind])\n",
    "    axs[0].axis('off')\n",
    "    dist = np.sum((pca_sources[mask_km][:, :16] - kde_samples[ind, :16]) ** 2, axis=1)\n",
    "    inds_min = np.argsort(dist)[:4]\n",
    "    for j in range (1, 5):\n",
    "        ind_min = inds_min[j-1]\n",
    "        axs[j].set_title(f'Nearest Neighbor\\n distance = {dist[ind_min]:.3f}')\n",
    "        axs[j].imshow(sources[mask_km][ind_min])\n",
    "        axs[j].axis('off')\n",
    "    fig.tight_layout()\n",
    "    plt.show()"
   ]
  },
  {
   "cell_type": "code",
   "execution_count": null,
   "id": "b8734f9b-11d2-42c5-84ac-537159afc9ce",
   "metadata": {},
   "outputs": [],
   "source": []
  }
 ],
 "metadata": {
  "kernelspec": {
   "display_name": "Python 3 (ipykernel)",
   "language": "python",
   "name": "python3"
  },
  "language_info": {
   "codemirror_mode": {
    "name": "ipython",
    "version": 3
   },
   "file_extension": ".py",
   "mimetype": "text/x-python",
   "name": "python",
   "nbconvert_exporter": "python",
   "pygments_lexer": "ipython3",
   "version": "3.11.8"
  }
 },
 "nbformat": 4,
 "nbformat_minor": 5
}
