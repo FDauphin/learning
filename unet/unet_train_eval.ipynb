{
 "cells": [
  {
   "cell_type": "code",
   "execution_count": null,
   "id": "83a08dda-5df6-49bb-84e6-66bb864476bb",
   "metadata": {},
   "outputs": [],
   "source": [
    "import torch\n",
    "import torch.nn as nn\n",
    "from torch.utils.data import DataLoader\n",
    "from torchvision import datasets"
   ]
  },
  {
   "cell_type": "code",
   "execution_count": null,
   "id": "da5c2f3f-6edc-424b-a336-39037c4c233e",
   "metadata": {},
   "outputs": [],
   "source": [
    "import numpy as np\n",
    "import matplotlib.pyplot as plt\n",
    "import pandas as pd\n",
    "from tqdm import tqdm"
   ]
  },
  {
   "cell_type": "code",
   "execution_count": null,
   "id": "cc2ef530-a74d-46ee-8ec5-42b494f50d8c",
   "metadata": {},
   "outputs": [],
   "source": [
    "from model import UNET"
   ]
  },
  {
   "cell_type": "markdown",
   "id": "68d9decb-744a-4ce3-8e52-12b8e81b9e51",
   "metadata": {
    "jp-MarkdownHeadingCollapsed": true
   },
   "source": [
    "## Data"
   ]
  },
  {
   "cell_type": "code",
   "execution_count": null,
   "id": "2c929675-6b8c-440b-b525-588d23937493",
   "metadata": {},
   "outputs": [],
   "source": [
    "dataset_train = datasets.MNIST(root='../gans/', train=True)\n",
    "dataset_test = datasets.MNIST(root='../gans/', train=False)"
   ]
  },
  {
   "cell_type": "code",
   "execution_count": null,
   "id": "76a8dc5e-7856-48e0-bbbd-020abddd6f47",
   "metadata": {},
   "outputs": [],
   "source": [
    "data_train = dataset_train.data.float()\n",
    "data_test = dataset_test.data.float()\n",
    "scale = data_train.max()"
   ]
  },
  {
   "cell_type": "code",
   "execution_count": null,
   "id": "44a397dc-40b7-4102-95b5-dac52ff61678",
   "metadata": {},
   "outputs": [],
   "source": [
    "# pseudo \"poisson\" directly in small range (more noise)\n",
    "noise_lambda = 0.5\n",
    "noise_train = np.random.normal(noise_lambda, noise_lambda**2, data_train.shape).astype(np.float32)\n",
    "noise_test = np.random.normal(noise_lambda, noise_lambda**2, data_test.shape).astype(np.float32)"
   ]
  },
  {
   "cell_type": "code",
   "execution_count": null,
   "id": "3b80d8e2-8671-4620-a13a-2059733e64b0",
   "metadata": {},
   "outputs": [],
   "source": [
    "# pseudo \"poisson\" transform to small range (less noise)\n",
    "#noise_mu = 0.5\n",
    "#noise_sigma = noise_mu * (scale/2) ** -0.5 \n",
    "#noise_train = np.random.normal(noise_mu, noise_sigma, data_train.shape).astype(np.float32)\n",
    "#noise_test = np.random.normal(noise_mu, noise_sigma, data_test.shape).astype(np.float32)"
   ]
  },
  {
   "cell_type": "code",
   "execution_count": null,
   "id": "0d9e836d-68cc-4962-ab71-669e6d4a731f",
   "metadata": {},
   "outputs": [],
   "source": [
    "x_train = data_train / scale + noise_train\n",
    "y_train = data_train > scale/2\n",
    "x_test = data_test / scale + noise_test\n",
    "y_test = data_test > scale/2"
   ]
  },
  {
   "cell_type": "code",
   "execution_count": null,
   "id": "1a3bb928-b7e7-4b1f-8d65-8a9d31c168b8",
   "metadata": {},
   "outputs": [],
   "source": [
    "ind = 0\n",
    "fig, axs = plt.subplots(1,2,figsize=[10,5])\n",
    "axs[0].imshow(data_train[ind])\n",
    "axs[1].imshow(x_train[ind])"
   ]
  },
  {
   "cell_type": "code",
   "execution_count": null,
   "id": "441b24ab-e39e-44fd-9b3b-d0efc7d0543c",
   "metadata": {},
   "outputs": [],
   "source": [
    "train = torch.cat([x_train.unsqueeze(1), y_train.unsqueeze(1)], dim=1)\n",
    "test = torch.cat([x_test.unsqueeze(1), y_test.unsqueeze(1)], dim=1)"
   ]
  },
  {
   "cell_type": "code",
   "execution_count": null,
   "id": "85c2b2b4-e51d-4f83-9320-d21769af8b4c",
   "metadata": {},
   "outputs": [],
   "source": [
    "train_loader = DataLoader(train, batch_size=128, shuffle=True, num_workers=0)\n",
    "test_loader = DataLoader(test, batch_size=128, shuffle=True, num_workers=0)"
   ]
  },
  {
   "cell_type": "markdown",
   "id": "66f308f5-18c1-4589-9366-120a9950c443",
   "metadata": {
    "jp-MarkdownHeadingCollapsed": true
   },
   "source": [
    "## Model and Hyperparameters"
   ]
  },
  {
   "cell_type": "code",
   "execution_count": null,
   "id": "467d0522-c12f-495b-a8d7-a0a8684b1dde",
   "metadata": {},
   "outputs": [],
   "source": [
    "model = UNET()"
   ]
  },
  {
   "cell_type": "code",
   "execution_count": null,
   "id": "4140c208-cf23-4d97-b23d-a2c113b252d0",
   "metadata": {},
   "outputs": [],
   "source": [
    "device = torch.device('mps' if torch.backends.mps.is_available() else 'cpu')\n",
    "model.to(device);"
   ]
  },
  {
   "cell_type": "code",
   "execution_count": null,
   "id": "e8506155-4258-486c-ae76-257d1c6372c7",
   "metadata": {},
   "outputs": [],
   "source": [
    "criterion = nn.BCELoss(reduction='sum')"
   ]
  },
  {
   "cell_type": "code",
   "execution_count": null,
   "id": "23483448-a5a4-4624-a7af-03d132a79240",
   "metadata": {},
   "outputs": [],
   "source": [
    "optimizer = torch.optim.Adam(model.parameters())"
   ]
  },
  {
   "cell_type": "code",
   "execution_count": null,
   "id": "29bb7efc-bd3a-4ee3-b9ef-b96df2f6dbd4",
   "metadata": {},
   "outputs": [],
   "source": [
    "name_params = []\n",
    "for name, parameters in model.named_parameters():\n",
    "    name_params.append([name, parameters.numel()])\n",
    "df_np = pd.DataFrame(name_params, columns=['name', 'parameters'])\n",
    "df_np['parameters'].sum()"
   ]
  },
  {
   "cell_type": "markdown",
   "id": "90fe6a58-0abc-4ecf-a89d-5e072f3102e3",
   "metadata": {
    "jp-MarkdownHeadingCollapsed": true
   },
   "source": [
    "## Train"
   ]
  },
  {
   "cell_type": "code",
   "execution_count": null,
   "id": "a7e8bc3e-d8ca-4c02-958b-b1f84d546416",
   "metadata": {},
   "outputs": [],
   "source": [
    "def train_loop():\n",
    "    # Set model to training mode\n",
    "    model.train()\n",
    "    # Train through batches\n",
    "    loss_total = 0\n",
    "    for i, dt in enumerate(train_loader):\n",
    "        # Put data and target on devices\n",
    "        data = dt[:, 0:1, :, :].to(device)\n",
    "        target = dt[:, 1:, :, :].to(device)\n",
    "        \n",
    "        # Find loss\n",
    "        pred = model(data)\n",
    "        loss = criterion(pred, target)\n",
    "        \n",
    "        # Backprop\n",
    "        optimizer.zero_grad()\n",
    "        loss.backward()\n",
    "        optimizer.step()\n",
    "        loss_total += loss.item()\n",
    "\n",
    "    loss_train = loss_total / train_loader.dataset.shape[0]\n",
    "    return loss_train"
   ]
  },
  {
   "cell_type": "code",
   "execution_count": null,
   "id": "03d1612a-4b00-41b7-8dd3-77a272e23058",
   "metadata": {},
   "outputs": [],
   "source": [
    "def test_loop():\n",
    "    # Set model to evaluation mode\n",
    "    model.eval()\n",
    "    # Evaluate through batches\n",
    "    loss_total = 0\n",
    "    # Do not calculate gradients\n",
    "    with torch.no_grad():\n",
    "        for i, dt in enumerate(test_loader):\n",
    "            # Put data and target on devices\n",
    "            data = dt[:, 0:1, :, :].to(device)\n",
    "            target = dt[:, 1:, :, :].to(device)\n",
    "            \n",
    "            # Find loss\n",
    "            pred = model(data)\n",
    "            loss = criterion(pred, target)\n",
    "            loss_total += loss.item()\n",
    "\n",
    "    loss_test = loss_total / test_loader.dataset.shape[0]\n",
    "    return loss_test"
   ]
  },
  {
   "cell_type": "code",
   "execution_count": null,
   "id": "25f1ab78-8e81-466e-baaa-9ac2c7b442ce",
   "metadata": {},
   "outputs": [],
   "source": [
    "loss = []\n",
    "epochs = 10\n",
    "for epoch in tqdm(range(epochs), total=epochs):\n",
    "    loss_train = train_loop()\n",
    "    loss_test = test_loop()\n",
    "    loss.append([loss_train, loss_test])\n",
    "    print (f'Epoch:{epoch:.3f} - Train loss: {loss_train:.3f} - Test loss: {loss_test:.3f}')\n",
    "loss = np.array(loss)"
   ]
  },
  {
   "cell_type": "markdown",
   "id": "14b4d1c4-ba21-42c4-98de-82413872a2aa",
   "metadata": {
    "jp-MarkdownHeadingCollapsed": true
   },
   "source": [
    "## Evaluate"
   ]
  },
  {
   "cell_type": "code",
   "execution_count": null,
   "id": "3fcab997-215d-4c52-a638-ffea24e88af2",
   "metadata": {},
   "outputs": [],
   "source": [
    "plt.plot(loss[:, 0])\n",
    "plt.plot(loss[:, 1])\n",
    "plt.yscale('log')"
   ]
  },
  {
   "cell_type": "code",
   "execution_count": null,
   "id": "ac7bf724-bb82-4082-94c9-0328e821e4df",
   "metadata": {},
   "outputs": [],
   "source": [
    "ind = 1000\n",
    "sample = x_test[ind].unsqueeze(0).unsqueeze(1).to(device)\n",
    "pred = model(sample).cpu().detach().numpy()[0,0]\n",
    "fig, axs = plt.subplots(1,3,figsize=[15,5])\n",
    "axs[0].imshow(x_test[ind])\n",
    "axs[1].imshow(y_test[ind])\n",
    "axs[2].imshow(pred)"
   ]
  },
  {
   "cell_type": "markdown",
   "id": "19a7bf36-8581-44fc-8be5-43e7faebc860",
   "metadata": {
    "jp-MarkdownHeadingCollapsed": true
   },
   "source": [
    "## Conv filters"
   ]
  },
  {
   "cell_type": "code",
   "execution_count": null,
   "id": "42bde6f7-22e4-4617-96c9-590c3036cfde",
   "metadata": {},
   "outputs": [],
   "source": [
    "out1 = model.mp(model.block1(sample))"
   ]
  },
  {
   "cell_type": "code",
   "execution_count": null,
   "id": "3f6cf8d4-a302-4f1f-a0e7-2e1a83b7106c",
   "metadata": {},
   "outputs": [],
   "source": [
    "n = 6\n",
    "fig, axs = plt.subplots(n,n,figsize=[10,10],sharex=True,sharey=True)\n",
    "for i in range (n):\n",
    "    for j in range (n):\n",
    "        if i*n+j < out1.shape[1]:\n",
    "            axs[i,j].imshow(out1[0,i*n+j].cpu().detach())\n",
    "plt.tight_layout()"
   ]
  },
  {
   "cell_type": "code",
   "execution_count": null,
   "id": "7e95fcdc-8d89-48bb-8931-06987c7d5253",
   "metadata": {},
   "outputs": [],
   "source": [
    "plt.imshow(np.mean(out1.cpu().detach().numpy(), axis=(0,1)))"
   ]
  },
  {
   "cell_type": "code",
   "execution_count": null,
   "id": "5cec065b-5edb-4ddd-91d5-ce01d6f8a36f",
   "metadata": {},
   "outputs": [],
   "source": [
    "out2 = model.mp(model.block2(out1))"
   ]
  },
  {
   "cell_type": "code",
   "execution_count": null,
   "id": "2ea44cbc-39c6-4f79-9b97-344bd0b73920",
   "metadata": {},
   "outputs": [],
   "source": [
    "n = 8\n",
    "fig, axs = plt.subplots(n,n,figsize=[10,10],sharex=True,sharey=True)\n",
    "for i in range (n):\n",
    "    for j in range (n):\n",
    "        if i*n+j < out2.shape[1]:\n",
    "            axs[i,j].imshow(out2[0,i*n+j].cpu().detach())\n",
    "plt.tight_layout()"
   ]
  },
  {
   "cell_type": "code",
   "execution_count": null,
   "id": "f3ecf3a3-ca6f-4cf3-a8fb-b07ca83dc9ed",
   "metadata": {},
   "outputs": [],
   "source": [
    "plt.imshow(np.mean(out2.cpu().detach().numpy(), axis=(0,1)))"
   ]
  },
  {
   "cell_type": "code",
   "execution_count": null,
   "id": "aeb80e3d-9279-44cf-9ac7-a05308a47490",
   "metadata": {},
   "outputs": [],
   "source": [
    "out3 = model.mp(model.block3(out2))"
   ]
  },
  {
   "cell_type": "code",
   "execution_count": null,
   "id": "b4d2317c-beb7-4f43-84f5-58695960dd6c",
   "metadata": {},
   "outputs": [],
   "source": [
    "n = 12\n",
    "fig, axs = plt.subplots(n,n,figsize=[10,10],sharex=True,sharey=True)\n",
    "for i in range (n):\n",
    "    for j in range (n):\n",
    "        if i*n+j < out3.shape[1]:\n",
    "            axs[i,j].imshow(out3[0,i*n+j].cpu().detach())\n",
    "plt.tight_layout()"
   ]
  },
  {
   "cell_type": "code",
   "execution_count": null,
   "id": "8a5f3e19-0ea3-4d2d-b3c7-1eccb57ce154",
   "metadata": {},
   "outputs": [],
   "source": [
    "plt.imshow(np.mean(out3.cpu().detach().numpy(), axis=(0,1)))"
   ]
  },
  {
   "cell_type": "code",
   "execution_count": null,
   "id": "67985da5-3ce4-40a4-902c-7b248c9a1df5",
   "metadata": {},
   "outputs": [],
   "source": []
  }
 ],
 "metadata": {
  "kernelspec": {
   "display_name": "Python 3 (ipykernel)",
   "language": "python",
   "name": "python3"
  },
  "language_info": {
   "codemirror_mode": {
    "name": "ipython",
    "version": 3
   },
   "file_extension": ".py",
   "mimetype": "text/x-python",
   "name": "python",
   "nbconvert_exporter": "python",
   "pygments_lexer": "ipython3",
   "version": "3.11.8"
  }
 },
 "nbformat": 4,
 "nbformat_minor": 5
}
