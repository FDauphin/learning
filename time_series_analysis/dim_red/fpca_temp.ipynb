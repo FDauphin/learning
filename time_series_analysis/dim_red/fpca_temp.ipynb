{
 "cells": [
  {
   "cell_type": "code",
   "execution_count": null,
   "metadata": {},
   "outputs": [],
   "source": [
    "import numpy as np\n",
    "import matplotlib.pyplot as plt\n",
    "import pandas as pd\n",
    "\n",
    "from skfda.representation.grid import FDataGrid\n",
    "from skfda.representation.basis import BSplineBasis\n",
    "from skfda.preprocessing.dim_reduction import FPCA\n",
    "from skfda.exploratory.visualization import FPCAPlot\n",
    "from skfda.datasets import fetch_weather\n",
    "\n",
    "from sklearn.decomposition import PCA"
   ]
  },
  {
   "cell_type": "markdown",
   "metadata": {
    "jp-MarkdownHeadingCollapsed": true
   },
   "source": [
    "## Load data"
   ]
  },
  {
   "cell_type": "code",
   "execution_count": null,
   "metadata": {},
   "outputs": [],
   "source": [
    "weather, label = fetch_weather(return_X_y=True)"
   ]
  },
  {
   "cell_type": "code",
   "execution_count": null,
   "metadata": {},
   "outputs": [],
   "source": [
    "time = weather.grid_points[0]\n",
    "temp_array = weather.data_matrix[:, :, 0]"
   ]
  },
  {
   "cell_type": "code",
   "execution_count": null,
   "metadata": {},
   "outputs": [],
   "source": [
    "fd_temperatures = weather.coordinates[0]\n",
    "# rigid eigenfunctions\n",
    "#fd_temperatures = FDataGrid(temp_array, np.arange(365))\n",
    "# smooth eigenfunctions\n",
    "basis = BSplineBasis(n_basis=7)\n",
    "fd_temperatures = fd_temperatures.to_basis(basis) # smooth"
   ]
  },
  {
   "cell_type": "markdown",
   "metadata": {
    "jp-MarkdownHeadingCollapsed": true
   },
   "source": [
    "## FPCA"
   ]
  },
  {
   "cell_type": "code",
   "execution_count": null,
   "metadata": {},
   "outputs": [],
   "source": [
    "n_components = 4\n",
    "fpca = FPCA(n_components=n_components)\n",
    "fpca_temp = fpca.fit_transform(fd_temperatures)"
   ]
  },
  {
   "cell_type": "code",
   "execution_count": null,
   "metadata": {},
   "outputs": [],
   "source": [
    "fpca.components_.plot();"
   ]
  },
  {
   "cell_type": "code",
   "execution_count": null,
   "metadata": {},
   "outputs": [],
   "source": [
    "FPCAPlot(fd_temperatures.mean(), fpca.components_, factor=300, n_rows=2).plot()\n",
    "plt.tight_layout()"
   ]
  },
  {
   "cell_type": "code",
   "execution_count": null,
   "metadata": {},
   "outputs": [],
   "source": [
    "fpca.explained_variance_ratio_.sum()"
   ]
  },
  {
   "cell_type": "code",
   "execution_count": null,
   "metadata": {},
   "outputs": [],
   "source": [
    "for i in range(label.max()):\n",
    "    plt.scatter(fpca_temp[:, 0][label==i], fpca_temp[:, 1][label==i], label=f'{i}')\n",
    "plt.legend()"
   ]
  },
  {
   "cell_type": "markdown",
   "metadata": {
    "jp-MarkdownHeadingCollapsed": true
   },
   "source": [
    "## Inverse transform"
   ]
  },
  {
   "cell_type": "code",
   "execution_count": null,
   "metadata": {},
   "outputs": [],
   "source": [
    "fpca_mean = fpca.mean_(time).flatten()\n",
    "eigenfunc = fpca.components_(time).reshape(n_components, time.shape[0])\n",
    "recon = np.dot(fpca_temp, eigenfunc) + fpca_mean\n",
    "resid = temp_array - recon"
   ]
  },
  {
   "cell_type": "code",
   "execution_count": null,
   "metadata": {},
   "outputs": [],
   "source": [
    "ind = 0\n",
    "plt.plot(time, temp_array[ind])\n",
    "plt.plot(time, recon[ind])"
   ]
  },
  {
   "cell_type": "markdown",
   "metadata": {
    "jp-MarkdownHeadingCollapsed": true
   },
   "source": [
    "## PCA (same as discretized FPCA)"
   ]
  },
  {
   "cell_type": "code",
   "execution_count": null,
   "metadata": {},
   "outputs": [],
   "source": [
    "pca = PCA(n_components=4)"
   ]
  },
  {
   "cell_type": "code",
   "execution_count": null,
   "metadata": {},
   "outputs": [],
   "source": [
    "pca_temp = pca.fit_transform(temp_array)"
   ]
  },
  {
   "cell_type": "code",
   "execution_count": null,
   "metadata": {},
   "outputs": [],
   "source": [
    "for comp in pca.components_:\n",
    "    plt.plot(time, comp)"
   ]
  },
  {
   "cell_type": "code",
   "execution_count": null,
   "metadata": {},
   "outputs": [],
   "source": [
    "pca.explained_variance_ratio_.sum()"
   ]
  },
  {
   "cell_type": "code",
   "execution_count": null,
   "metadata": {},
   "outputs": [],
   "source": [
    "for i in range(label.max()):\n",
    "    plt.scatter(pca_temp[:, 0][label==i], pca_temp[:, 1][label==i], label=f'{i}')\n",
    "plt.legend()"
   ]
  },
  {
   "cell_type": "code",
   "execution_count": null,
   "metadata": {},
   "outputs": [],
   "source": [
    "recon_pca = pca.inverse_transform(pca_temp)\n",
    "resid_pca = temp_array - recon_pca"
   ]
  },
  {
   "cell_type": "code",
   "execution_count": null,
   "metadata": {},
   "outputs": [],
   "source": [
    "ind = 0\n",
    "plt.plot(time, temp_array[ind])\n",
    "plt.plot(time, recon_pca[ind], color='C2')"
   ]
  },
  {
   "cell_type": "markdown",
   "metadata": {
    "jp-MarkdownHeadingCollapsed": true
   },
   "source": [
    "## Compare models"
   ]
  },
  {
   "cell_type": "code",
   "execution_count": null,
   "metadata": {},
   "outputs": [],
   "source": [
    "ind = 0\n",
    "fig, axs = plt.subplots(1,3,figsize=[15,5])\n",
    "axs[0].plot(time, temp_array[ind], label='train')\n",
    "axs[0].plot(time, recon[ind], label='fpca')\n",
    "axs[0].plot(time, recon_pca[ind], '--', label='pca')\n",
    "axs[0].legend()\n",
    "axs[1].hist(resid[ind], color='C1', alpha=0.5, label='fpca')\n",
    "axs[1].hist(resid_pca[ind], color='C2', alpha=0.5, label='pca')\n",
    "axs[1].legend()\n",
    "axs[2].plot(time, resid[ind], color='C1', alpha=0.5, label='fpca')\n",
    "axs[2].plot(time, resid_pca[ind], color='C2', alpha=0.5, label='pca')\n",
    "axs[2].legend()"
   ]
  },
  {
   "cell_type": "code",
   "execution_count": null,
   "metadata": {},
   "outputs": [],
   "source": [
    "print (f'\\t fpca\\t\\t\\t pca')\n",
    "print (f'mse\\t {np.mean(np.square(recon - temp_array))}\\t {np.mean(np.square(recon_pca - temp_array))}')\n",
    "print (f'mae\\t {np.mean(np.abs(recon - temp_array))}\\t {np.mean(np.abs(recon_pca - temp_array))}')\n",
    "print (f'corr\\t {np.corrcoef(recon, temp_array)[0, 1]}\\t {np.corrcoef(recon_pca, temp_array)[0, 1]}')"
   ]
  },
  {
   "cell_type": "code",
   "execution_count": null,
   "metadata": {},
   "outputs": [],
   "source": []
  }
 ],
 "metadata": {
  "kernelspec": {
   "display_name": "Python 3 (ipykernel)",
   "language": "python",
   "name": "python3"
  },
  "language_info": {
   "codemirror_mode": {
    "name": "ipython",
    "version": 3
   },
   "file_extension": ".py",
   "mimetype": "text/x-python",
   "name": "python",
   "nbconvert_exporter": "python",
   "pygments_lexer": "ipython3",
   "version": "3.11.9"
  }
 },
 "nbformat": 4,
 "nbformat_minor": 4
}
