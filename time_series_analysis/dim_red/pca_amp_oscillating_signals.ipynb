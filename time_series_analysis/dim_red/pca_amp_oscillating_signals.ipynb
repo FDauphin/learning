{
 "cells": [
  {
   "cell_type": "code",
   "execution_count": null,
   "id": "39fa309e",
   "metadata": {},
   "outputs": [],
   "source": [
    "import numpy as np\n",
    "import matplotlib.pyplot as plt\n",
    "\n",
    "from sklearn.decomposition import PCA"
   ]
  },
  {
   "cell_type": "markdown",
   "id": "61174c32-14dc-475d-b283-bb5dea8abe60",
   "metadata": {
    "jp-MarkdownHeadingCollapsed": true
   },
   "source": [
    "## Simulate data (amp oscillation)"
   ]
  },
  {
   "cell_type": "code",
   "execution_count": null,
   "id": "75186c84",
   "metadata": {},
   "outputs": [],
   "source": [
    "f = 5\n",
    "size = 2**10\n",
    "t = 2*np.pi*f * np.sort(np.random.rand(size))"
   ]
  },
  {
   "cell_type": "code",
   "execution_count": null,
   "id": "5e80ad00",
   "metadata": {},
   "outputs": [],
   "source": [
    "amp_clean = np.sin(t)"
   ]
  },
  {
   "cell_type": "code",
   "execution_count": null,
   "id": "6396cf02",
   "metadata": {},
   "outputs": [],
   "source": [
    "amp_noise = np.random.standard_normal(amp_clean.shape)"
   ]
  },
  {
   "cell_type": "code",
   "execution_count": null,
   "id": "85501494",
   "metadata": {},
   "outputs": [],
   "source": [
    "amp = amp_clean + amp_noise"
   ]
  },
  {
   "cell_type": "code",
   "execution_count": null,
   "id": "313d567e",
   "metadata": {},
   "outputs": [],
   "source": [
    "plt.scatter(t, amp)"
   ]
  },
  {
   "cell_type": "markdown",
   "id": "98be5e32-2749-462e-acdc-d0e4b16d7803",
   "metadata": {
    "jp-MarkdownHeadingCollapsed": true
   },
   "source": [
    "## Simulate data (signal)"
   ]
  },
  {
   "cell_type": "code",
   "execution_count": null,
   "id": "8e4d2797",
   "metadata": {},
   "outputs": [],
   "source": [
    "x = np.linspace(0, 2*np.pi*f, 2**16)"
   ]
  },
  {
   "cell_type": "code",
   "execution_count": null,
   "id": "669f481f",
   "metadata": {},
   "outputs": [],
   "source": [
    "y = np.cos(x)"
   ]
  },
  {
   "cell_type": "code",
   "execution_count": null,
   "id": "1e0bc2b5",
   "metadata": {},
   "outputs": [],
   "source": [
    "plt.scatter(x, y)"
   ]
  },
  {
   "cell_type": "markdown",
   "id": "8b938d93-8a97-4b57-8414-08a8d93d572d",
   "metadata": {
    "jp-MarkdownHeadingCollapsed": true
   },
   "source": [
    "## Multiply oscillating amp with signal"
   ]
  },
  {
   "cell_type": "code",
   "execution_count": null,
   "id": "e757ccc9",
   "metadata": {},
   "outputs": [],
   "source": [
    "data_clean = amp.reshape(amp.shape[0], 1) * y.reshape(1, y.shape[0])"
   ]
  },
  {
   "cell_type": "code",
   "execution_count": null,
   "id": "916f6414",
   "metadata": {},
   "outputs": [],
   "source": [
    "data_noise = amp.reshape(amp.shape[0], 1) * np.random.standard_normal(data_clean.shape)"
   ]
  },
  {
   "cell_type": "code",
   "execution_count": null,
   "id": "783d7a2b",
   "metadata": {},
   "outputs": [],
   "source": [
    "data = data_clean + data_noise"
   ]
  },
  {
   "cell_type": "code",
   "execution_count": null,
   "id": "fa42d6fa",
   "metadata": {},
   "outputs": [],
   "source": [
    "data.shape"
   ]
  },
  {
   "cell_type": "code",
   "execution_count": null,
   "id": "850a3cd4",
   "metadata": {},
   "outputs": [],
   "source": [
    "for i in range (10):\n",
    "    plt.scatter(x, data[i], s=1, alpha=0.1)"
   ]
  },
  {
   "cell_type": "markdown",
   "id": "800860e8-1b21-4e4c-9806-5d88d5440b9a",
   "metadata": {
    "jp-MarkdownHeadingCollapsed": true
   },
   "source": [
    "## PCA"
   ]
  },
  {
   "cell_type": "code",
   "execution_count": null,
   "id": "4ee52e6d",
   "metadata": {},
   "outputs": [],
   "source": [
    "pca = PCA(n_components=2, whiten=True)"
   ]
  },
  {
   "cell_type": "code",
   "execution_count": null,
   "id": "9d987e45",
   "metadata": {},
   "outputs": [],
   "source": [
    "pca_data = pca.fit_transform(data)"
   ]
  },
  {
   "cell_type": "code",
   "execution_count": null,
   "id": "39f62c00",
   "metadata": {},
   "outputs": [],
   "source": [
    "pca_data.shape"
   ]
  },
  {
   "cell_type": "code",
   "execution_count": null,
   "id": "8b5f1311",
   "metadata": {},
   "outputs": [],
   "source": [
    "pca.explained_variance_ratio_.sum()"
   ]
  },
  {
   "cell_type": "code",
   "execution_count": null,
   "id": "02f853f2",
   "metadata": {},
   "outputs": [],
   "source": [
    "plt.scatter(t, pca_data[:, 0])"
   ]
  },
  {
   "cell_type": "code",
   "execution_count": null,
   "id": "d92e92c9",
   "metadata": {},
   "outputs": [],
   "source": [
    "np.corrcoef(amp, pca_data[:, 0])[0, 1]"
   ]
  },
  {
   "cell_type": "code",
   "execution_count": null,
   "id": "50340585",
   "metadata": {},
   "outputs": [],
   "source": []
  }
 ],
 "metadata": {
  "kernelspec": {
   "display_name": "Python 3 (ipykernel)",
   "language": "python",
   "name": "python3"
  },
  "language_info": {
   "codemirror_mode": {
    "name": "ipython",
    "version": 3
   },
   "file_extension": ".py",
   "mimetype": "text/x-python",
   "name": "python",
   "nbconvert_exporter": "python",
   "pygments_lexer": "ipython3",
   "version": "3.11.9"
  }
 },
 "nbformat": 4,
 "nbformat_minor": 5
}
