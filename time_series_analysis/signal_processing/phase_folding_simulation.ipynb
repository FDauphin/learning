{
 "cells": [
  {
   "cell_type": "code",
   "execution_count": null,
   "id": "0c7a448d",
   "metadata": {},
   "outputs": [],
   "source": [
    "import numpy as np\n",
    "import matplotlib.pyplot as plt\n",
    "from scipy.signal import argrelextrema\n",
    "from scipy.signal import find_peaks\n",
    "\n",
    "from astropy.timeseries import LombScargle"
   ]
  },
  {
   "cell_type": "markdown",
   "id": "47306beb-7d80-4997-b687-0c4b125b3e5a",
   "metadata": {
    "jp-MarkdownHeadingCollapsed": true
   },
   "source": [
    "## Simulate data"
   ]
  },
  {
   "cell_type": "code",
   "execution_count": null,
   "id": "eb1884cf",
   "metadata": {},
   "outputs": [],
   "source": [
    "n = 1000\n",
    "x = n * np.sort(np.random.rand(n))\n",
    "amp = 1\n",
    "f = 5\n",
    "phi = 0\n",
    "offset = 0\n",
    "y = amp*np.sin(2*np.pi*f*x+phi)+offset\n",
    "\n",
    "amp_noise = 0.5\n",
    "noise = amp_noise * np.random.randn(x.shape[0])\n",
    "y_noise = y + noise"
   ]
  },
  {
   "cell_type": "code",
   "execution_count": null,
   "id": "8fde64d6",
   "metadata": {},
   "outputs": [],
   "source": [
    "plt.plot(x, y_noise)"
   ]
  },
  {
   "cell_type": "markdown",
   "id": "1a6e0509-10c9-49d3-87e3-e24b89854ebc",
   "metadata": {
    "jp-MarkdownHeadingCollapsed": true
   },
   "source": [
    "## LSP"
   ]
  },
  {
   "cell_type": "code",
   "execution_count": null,
   "id": "c06fee63",
   "metadata": {},
   "outputs": [],
   "source": [
    "frequency, power = LombScargle(x, y_noise).autopower(minimum_frequency=0.1, maximum_frequency=10)"
   ]
  },
  {
   "cell_type": "code",
   "execution_count": null,
   "id": "bc2f8f90",
   "metadata": {},
   "outputs": [],
   "source": [
    "plt.plot(frequency, power)"
   ]
  },
  {
   "cell_type": "code",
   "execution_count": null,
   "id": "2814f239",
   "metadata": {},
   "outputs": [],
   "source": [
    "period = 1 / frequency[np.argmax(power)]"
   ]
  },
  {
   "cell_type": "code",
   "execution_count": null,
   "id": "1c933794",
   "metadata": {},
   "outputs": [],
   "source": [
    "period"
   ]
  },
  {
   "cell_type": "markdown",
   "id": "3ffe3315-5531-4465-81f2-3c5e71e228ed",
   "metadata": {
    "jp-MarkdownHeadingCollapsed": true
   },
   "source": [
    "## Phase fold"
   ]
  },
  {
   "cell_type": "code",
   "execution_count": null,
   "id": "5dd13bca-31cc-487c-937e-f7a399010850",
   "metadata": {},
   "outputs": [],
   "source": [
    "x_phase_fold = (x % period) / period"
   ]
  },
  {
   "cell_type": "code",
   "execution_count": null,
   "id": "802ef17d-ff76-4153-b9dc-410b5a3963bd",
   "metadata": {},
   "outputs": [],
   "source": [
    "plt.scatter(x_phase_fold, y_noise)"
   ]
  },
  {
   "cell_type": "code",
   "execution_count": null,
   "id": "4d6c64e3",
   "metadata": {},
   "outputs": [],
   "source": []
  }
 ],
 "metadata": {
  "kernelspec": {
   "display_name": "Python 3 (ipykernel)",
   "language": "python",
   "name": "python3"
  },
  "language_info": {
   "codemirror_mode": {
    "name": "ipython",
    "version": 3
   },
   "file_extension": ".py",
   "mimetype": "text/x-python",
   "name": "python",
   "nbconvert_exporter": "python",
   "pygments_lexer": "ipython3",
   "version": "3.11.9"
  }
 },
 "nbformat": 4,
 "nbformat_minor": 5
}
