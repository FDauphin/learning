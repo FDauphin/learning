{
 "cells": [
  {
   "cell_type": "code",
   "execution_count": null,
   "id": "bd373195",
   "metadata": {},
   "outputs": [],
   "source": [
    "import numpy as np\n",
    "import matplotlib.pyplot as plt\n",
    "import pandas as pd\n",
    "\n",
    "from statsmodels.tsa.stattools import adfuller\n",
    "from statsmodels.graphics.tsaplots import plot_acf\n",
    "from statsmodels.tsa.seasonal import seasonal_decompose\n",
    "from statsmodels.tsa.arima.model import ARIMA\n",
    "from statsmodels.tsa.holtwinters import ExponentialSmoothing"
   ]
  },
  {
   "cell_type": "markdown",
   "id": "43f10400-b362-443f-8524-6f0826635546",
   "metadata": {
    "jp-MarkdownHeadingCollapsed": true
   },
   "source": [
    "## Simulate data"
   ]
  },
  {
   "cell_type": "code",
   "execution_count": null,
   "id": "6902726c",
   "metadata": {},
   "outputs": [],
   "source": [
    "x = np.arange(0, 50*np.pi + np.pi/4, np.pi/4)\n",
    "c = 0\n",
    "y1 = np.sin(x) + c\n",
    "y2 = np.sin(x) + 0.5*np.random.standard_normal(x.shape) + c\n",
    "y3 = np.sin(x) + 0.5*np.random.standard_normal(x.shape) + x/10 + c\n",
    "y4 = 2 * np.sin(x) - 0.2 * np.cos(x) + 13 - 0.5*np.random.standard_normal(x.shape) + c"
   ]
  },
  {
   "cell_type": "code",
   "execution_count": null,
   "id": "c4081b0b",
   "metadata": {},
   "outputs": [],
   "source": [
    "fig, axs = plt.subplots(1,4,figsize=[40,5])\n",
    "axs[0].plot(x, y1)\n",
    "axs[1].plot(x, y2)\n",
    "axs[2].plot(x, y3)\n",
    "axs[3].plot(x, y4)"
   ]
  },
  {
   "cell_type": "code",
   "execution_count": null,
   "id": "e002c0c6",
   "metadata": {},
   "outputs": [],
   "source": [
    "y = y3"
   ]
  },
  {
   "cell_type": "code",
   "execution_count": null,
   "id": "022e9aeb-a949-4bdb-a42d-c8cf5afce9c3",
   "metadata": {},
   "outputs": [],
   "source": [
    "split = int(0.8*x.shape[0])\n",
    "train = y[:split]\n",
    "test = y[split:]"
   ]
  },
  {
   "cell_type": "markdown",
   "id": "de6b26e5-092e-41d0-9c27-0751bff89583",
   "metadata": {
    "jp-MarkdownHeadingCollapsed": true
   },
   "source": [
    "## Determine if data is stationary and decompose"
   ]
  },
  {
   "cell_type": "code",
   "execution_count": null,
   "id": "a885f016",
   "metadata": {},
   "outputs": [],
   "source": [
    "adfuller(y)"
   ]
  },
  {
   "cell_type": "code",
   "execution_count": null,
   "id": "9122a863",
   "metadata": {},
   "outputs": [],
   "source": [
    "plot_acf(y); "
   ]
  },
  {
   "cell_type": "code",
   "execution_count": null,
   "id": "4c760404",
   "metadata": {},
   "outputs": [],
   "source": [
    "decomp = seasonal_decompose(y, period=8)"
   ]
  },
  {
   "cell_type": "code",
   "execution_count": null,
   "id": "52c324e1",
   "metadata": {},
   "outputs": [],
   "source": [
    "fig, axs = plt.subplots(4,1,figsize=[20, 10])\n",
    "axs[0].plot(decomp.observed)\n",
    "axs[1].plot(decomp.trend)\n",
    "axs[2].plot(decomp.seasonal)\n",
    "axs[3].plot(decomp.resid)"
   ]
  },
  {
   "cell_type": "markdown",
   "id": "c258b209-cdea-45ce-a9cb-8064e6d3d44a",
   "metadata": {
    "jp-MarkdownHeadingCollapsed": true
   },
   "source": [
    "## Build models and find confidence intervals"
   ]
  },
  {
   "cell_type": "code",
   "execution_count": null,
   "id": "048b9e6c",
   "metadata": {},
   "outputs": [],
   "source": [
    "model_arima = ARIMA(train, order=(1,0,1), seasonal_order=(1,0,1,8)).fit()\n",
    "model_ets = ExponentialSmoothing(train, trend='add', seasonal='add', seasonal_periods=8).fit(method='ls')\n",
    "\n",
    "model_arima_fit = model_arima.fittedvalues\n",
    "model_ets_fit = model_ets.fittedvalues"
   ]
  },
  {
   "cell_type": "code",
   "execution_count": null,
   "id": "70712589-4ed5-41b1-ae67-c01fb6fcd0c2",
   "metadata": {},
   "outputs": [],
   "source": [
    "x_train = np.arange(train.shape[0])\n",
    "x_test = train.shape[0] + np.arange(test.shape[0])\n",
    "\n",
    "pred_arima = model_arima.forecast(test.shape[0])\n",
    "pred_ets = model_ets.forecast(test.shape[0])"
   ]
  },
  {
   "cell_type": "code",
   "execution_count": null,
   "id": "9b726d90-bd19-451e-9cbc-a65631270570",
   "metadata": {},
   "outputs": [],
   "source": [
    "# Forecast confidence (arima)\n",
    "_ = model_arima.get_forecast(x_test.shape[0])  # 95% conf\n",
    "fc = _.predicted_mean\n",
    "conf_arima = _.conf_int(alpha=0.05)\n",
    "\n",
    "# Forecast confidence (ets)\n",
    "sim_series = model_ets.simulate(41, repetitions=100, error=\"add\").T\n",
    "mean = np.mean(sim_series, axis=0)\n",
    "std = np.std(sim_series, axis=0)\n",
    "low = mean - 2 * std\n",
    "high = mean + 2 * std\n",
    "conf_ets = np.array([low, high]).T"
   ]
  },
  {
   "cell_type": "code",
   "execution_count": null,
   "id": "17b96394-1b8e-470d-8d05-41081be69748",
   "metadata": {},
   "outputs": [],
   "source": [
    "plt.plot(x_train, train, label='train')\n",
    "plt.plot(x_test, test, label='test')\n",
    "plt.plot(x_train, model_arima_fit, label='ARIMA', color='C2')\n",
    "plt.plot(x_test, pred_arima, color='C2')\n",
    "plt.fill_between(x_test, conf_arima[:, 0], conf_arima[:, 1], color='C2', alpha=.15)\n",
    "plt.plot(x_train, model_ets_fit, label='ETS', color='C3')\n",
    "plt.plot(x_test, pred_ets, color='C3')\n",
    "plt.fill_between(x_test, conf_ets[:, 0], conf_ets[:, 1], color='C3', alpha=.15)\n",
    "plt.legend()"
   ]
  },
  {
   "cell_type": "markdown",
   "id": "b85c581b-d36b-48c0-867f-65658c737cde",
   "metadata": {
    "jp-MarkdownHeadingCollapsed": true
   },
   "source": [
    "## Compare models"
   ]
  },
  {
   "cell_type": "code",
   "execution_count": null,
   "id": "244ab4ad",
   "metadata": {},
   "outputs": [],
   "source": [
    "plt.hist(model_arima.resid, bins=20, alpha=0.5, color='C2', density=True)\n",
    "plt.hist(model_ets.resid, bins=20, alpha=0.5, color='C3', density=True)"
   ]
  },
  {
   "cell_type": "code",
   "execution_count": null,
   "id": "197a6298-51f8-4467-8d01-f5785f4a9569",
   "metadata": {},
   "outputs": [],
   "source": [
    "plot_acf(model_arima.resid);\n",
    "plot_acf(model_ets.resid);"
   ]
  },
  {
   "cell_type": "code",
   "execution_count": null,
   "id": "0e6c61f4-3b2d-4330-ae9d-7cf865e5542d",
   "metadata": {},
   "outputs": [],
   "source": [
    "n = 200\n",
    "x_forecast = np.arange(n) + train.shape[0]\n",
    "\n",
    "plt.plot(x_train, train, label='train')\n",
    "plt.plot(x_test, test, label='test')\n",
    "plt.plot(x_forecast, model_arima.forecast(n), label='ARIMA')\n",
    "plt.plot(x_forecast, model_ets.forecast(n), label='ETS')\n",
    "plt.legend()"
   ]
  },
  {
   "cell_type": "code",
   "execution_count": null,
   "id": "d1739129-9cb5-493f-a24c-265b567f7382",
   "metadata": {},
   "outputs": [],
   "source": [
    "def calculate_metrics(models):\n",
    "    aic = np.array([model.aic for model in models]).reshape(len(models),1)\n",
    "    \n",
    "    mse = []\n",
    "    mae = []\n",
    "    args = zip([model_arima_fit, model_ets_fit], [pred_arima, pred_ets])\n",
    "    for model_fit, pred in args:\n",
    "        train_mse = np.mean((train - model_fit) ** 2)\n",
    "        test_mse = np.mean((test - pred) ** 2)\n",
    "        mse.append([train_mse, test_mse])\n",
    "    \n",
    "        train_mae = np.mean(np.abs(train - model_fit))\n",
    "        test_mae = np.mean(np.abs(test - pred))\n",
    "        mae.append([train_mae, test_mae])\n",
    "    mse = np.array(mse)\n",
    "    mae = np.array(mae)\n",
    "    metrics = pd.DataFrame(np.hstack((aic, mse, mae)).T, columns=['ARIMA', 'ETS'],\n",
    "                           index=['AIC', 'Train MSE', 'Test MSE', 'Train MAE', 'Test MAE'])\n",
    "\n",
    "    return metrics"
   ]
  },
  {
   "cell_type": "code",
   "execution_count": null,
   "id": "016a4684-7a72-4c55-a3c3-4e2d8ea49077",
   "metadata": {},
   "outputs": [],
   "source": [
    "models = [model_arima, model_ets]"
   ]
  },
  {
   "cell_type": "code",
   "execution_count": null,
   "id": "b08df962-bde1-4164-ab17-3f774b00e3d6",
   "metadata": {},
   "outputs": [],
   "source": [
    "metrics = calculate_metrics(models)"
   ]
  },
  {
   "cell_type": "code",
   "execution_count": null,
   "id": "828682c9-9ee6-424a-9433-b9742e0077d2",
   "metadata": {},
   "outputs": [],
   "source": [
    "metrics"
   ]
  },
  {
   "cell_type": "code",
   "execution_count": null,
   "id": "33f36fef-ba15-43e9-99b7-625e21474d3d",
   "metadata": {},
   "outputs": [],
   "source": []
  }
 ],
 "metadata": {
  "kernelspec": {
   "display_name": "Python 3 (ipykernel)",
   "language": "python",
   "name": "python3"
  },
  "language_info": {
   "codemirror_mode": {
    "name": "ipython",
    "version": 3
   },
   "file_extension": ".py",
   "mimetype": "text/x-python",
   "name": "python",
   "nbconvert_exporter": "python",
   "pygments_lexer": "ipython3",
   "version": "3.11.9"
  }
 },
 "nbformat": 4,
 "nbformat_minor": 5
}
