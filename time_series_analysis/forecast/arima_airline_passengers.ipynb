{
 "cells": [
  {
   "cell_type": "code",
   "execution_count": null,
   "id": "9bf5ba89",
   "metadata": {},
   "outputs": [],
   "source": [
    "import numpy as np\n",
    "import matplotlib.pyplot as plt\n",
    "import pandas as pd\n",
    "\n",
    "from statsmodels.graphics.tsaplots import plot_acf, plot_pacf\n",
    "from statsmodels.tsa.arima.model import ARIMA\n",
    "from statsmodels.tsa.seasonal import seasonal_decompose\n",
    "from statsmodels.tsa.stattools import adfuller\n",
    "\n",
    "from pmdarima import auto_arima\n",
    "\n",
    "import warnings\n",
    "warnings.filterwarnings(\"ignore\")\n",
    "\n",
    "from pylab import rcParams\n",
    "%matplotlib inline\n",
    "rcParams['figure.figsize'] = 10, 5"
   ]
  },
  {
   "cell_type": "markdown",
   "id": "3b1dcaa9-3c1b-404b-8afa-10b5a909c6aa",
   "metadata": {
    "jp-MarkdownHeadingCollapsed": true
   },
   "source": [
    "## Load data, update header, and decompose"
   ]
  },
  {
   "cell_type": "code",
   "execution_count": null,
   "id": "2aa1195c-1750-43c2-a95b-8410ce21048d",
   "metadata": {},
   "outputs": [],
   "source": [
    "file = 'airline-passengers.csv'\n",
    "airline = pd.read_csv(file)\n",
    "airline['Month'] = pd.to_datetime(airline['Month'])\n",
    "airline.set_index('Month', inplace=True)\n",
    "airline.shape"
   ]
  },
  {
   "cell_type": "code",
   "execution_count": null,
   "id": "66510cc2-5379-4641-a5c4-d56f9086f9f3",
   "metadata": {},
   "outputs": [],
   "source": [
    "airline.head()"
   ]
  },
  {
   "cell_type": "code",
   "execution_count": null,
   "id": "662876e1-638b-44d7-9444-529a3c302ec3",
   "metadata": {},
   "outputs": [],
   "source": [
    "airline.describe()"
   ]
  },
  {
   "cell_type": "code",
   "execution_count": null,
   "id": "c790f87e-4b26-4483-a777-3c6520703dba",
   "metadata": {},
   "outputs": [],
   "source": [
    "airline.plot();"
   ]
  },
  {
   "cell_type": "code",
   "execution_count": null,
   "id": "a0741926-62f4-4e00-a190-3d2f0df0c289",
   "metadata": {},
   "outputs": [],
   "source": [
    "decomp = seasonal_decompose(airline['Passengers'])"
   ]
  },
  {
   "cell_type": "code",
   "execution_count": null,
   "id": "a5b91443-a660-487d-857f-101fc4ae0d1f",
   "metadata": {},
   "outputs": [],
   "source": [
    "decomp.plot();"
   ]
  },
  {
   "cell_type": "code",
   "execution_count": null,
   "id": "064cacc7-bfdd-4a40-9dbe-29256b9ed2b1",
   "metadata": {},
   "outputs": [],
   "source": [
    "plot_acf(decomp.seasonal);"
   ]
  },
  {
   "cell_type": "code",
   "execution_count": null,
   "id": "dd9a78ee-6231-4e31-b1be-8abc488b6da2",
   "metadata": {},
   "outputs": [],
   "source": [
    "n = 132\n",
    "airline_train = airline[['Passengers']][:n]\n",
    "airline_test = airline[['Passengers']][n:]"
   ]
  },
  {
   "cell_type": "markdown",
   "id": "7a6d60ac-0935-480e-be5e-5b80cb54b010",
   "metadata": {
    "jp-MarkdownHeadingCollapsed": true
   },
   "source": [
    "## Determine if data is stationary"
   ]
  },
  {
   "cell_type": "code",
   "execution_count": null,
   "id": "728f7cd9",
   "metadata": {},
   "outputs": [],
   "source": [
    "test_result = adfuller(airline['Passengers'])\n",
    "test_result"
   ]
  },
  {
   "cell_type": "code",
   "execution_count": null,
   "id": "d08e2a0a-9d81-4012-933c-d2e6239518d4",
   "metadata": {},
   "outputs": [],
   "source": [
    "def adfuller_test(Passengers):\n",
    "    \"\"\" This is not my function; find source.\n",
    "    \"\"\"\n",
    "    result = adfuller(Passengers)\n",
    "    labels = ['ADF Test Statistic', 'p-value', '#Lags Used', 'Number of Observations']\n",
    "    for value, label in zip(result, labels):\n",
    "        print(f'{label} : {str(value)}')\n",
    "\n",
    "    if result[1] <= 0.05:\n",
    "        print(\"strong evidence against the null hypothesis(Ho), reject the null hypothesis. Data is stationary\")\n",
    "    else:\n",
    "        print(\"weak evidence against null hypothesis,indicating it is non-stationary \")"
   ]
  },
  {
   "cell_type": "code",
   "execution_count": null,
   "id": "283c91c1-43be-408a-b8a9-50f958947555",
   "metadata": {},
   "outputs": [],
   "source": [
    "adfuller_test(airline['Passengers'])"
   ]
  },
  {
   "cell_type": "code",
   "execution_count": null,
   "id": "0b29da0e-ddac-45ed-aed4-44d157b1801b",
   "metadata": {},
   "outputs": [],
   "source": [
    "pd.plotting.autocorrelation_plot(airline['Passengers']);"
   ]
  },
  {
   "cell_type": "code",
   "execution_count": null,
   "id": "5c444b7f",
   "metadata": {},
   "outputs": [],
   "source": [
    "# Determine seasonality a priori modeling\n",
    "airline['First Difference'] = airline['Passengers'] - airline['Passengers'].shift(1)\n",
    "airline['Seasonal First Difference'] = airline['Passengers'] - airline['Passengers'].shift(12)\n",
    "airline['Second Difference'] = airline['First Difference'] - airline['First Difference'].shift(1)\n",
    "airline.head()"
   ]
  },
  {
   "cell_type": "code",
   "execution_count": null,
   "id": "d137081a",
   "metadata": {},
   "outputs": [],
   "source": [
    "# Test if stationary by day\n",
    "adfuller_test(airline['First Difference'].dropna())"
   ]
  },
  {
   "cell_type": "code",
   "execution_count": null,
   "id": "7745d25c",
   "metadata": {},
   "outputs": [],
   "source": [
    "airline['First Difference'].plot();"
   ]
  },
  {
   "cell_type": "code",
   "execution_count": null,
   "id": "66d6a421-67b8-43e5-a2b6-515773fd863d",
   "metadata": {},
   "outputs": [],
   "source": [
    "# Plot (partial) autocorrelation function for seasonal difference\n",
    "fig = plt.figure(figsize=(8,4))\n",
    "ax1 = fig.add_subplot(211)\n",
    "fig = plot_acf(airline['First Difference'].dropna(),lags=40, ax=ax1)\n",
    "ax2 = fig.add_subplot(212)\n",
    "fig = plot_pacf(airline['First Difference'].dropna(),lags=40, ax=ax2, method='ywm')\n",
    "plt.tight_layout()"
   ]
  },
  {
   "cell_type": "code",
   "execution_count": null,
   "id": "f866cfd6",
   "metadata": {},
   "outputs": [],
   "source": [
    "# Test if stationary by year\n",
    "adfuller_test(airline['Seasonal First Difference'].dropna())"
   ]
  },
  {
   "cell_type": "code",
   "execution_count": null,
   "id": "d8c1f13f",
   "metadata": {},
   "outputs": [],
   "source": [
    "airline['Seasonal First Difference'].plot();"
   ]
  },
  {
   "cell_type": "code",
   "execution_count": null,
   "id": "b2889976-acb9-48b1-8e5b-da6b35de29c8",
   "metadata": {},
   "outputs": [],
   "source": [
    "# Plot (partial) autocorrelation function for seasonal difference\n",
    "fig = plt.figure(figsize=(8,4))\n",
    "ax1 = fig.add_subplot(211)\n",
    "fig = plot_acf(airline['Seasonal First Difference'].dropna(),lags=40, ax=ax1)\n",
    "ax2 = fig.add_subplot(212)\n",
    "fig = plot_pacf(airline['Seasonal First Difference'].dropna(),lags=40, ax=ax2, method='ywm')\n",
    "plt.tight_layout()"
   ]
  },
  {
   "cell_type": "code",
   "execution_count": null,
   "id": "ca218332",
   "metadata": {},
   "outputs": [],
   "source": [
    "# Test if stationary by delta day\n",
    "adfuller_test(airline['Second Difference'].dropna())"
   ]
  },
  {
   "cell_type": "code",
   "execution_count": null,
   "id": "6b04ae2b",
   "metadata": {},
   "outputs": [],
   "source": [
    "airline['Second Difference'].plot();"
   ]
  },
  {
   "cell_type": "code",
   "execution_count": null,
   "id": "47aac47b",
   "metadata": {},
   "outputs": [],
   "source": [
    "# Plot (partial) autocorrelation function for delta day\n",
    "fig = plt.figure(figsize=(8,4))\n",
    "ax1 = fig.add_subplot(211)\n",
    "fig = plot_acf(airline['Second Difference'].dropna(),lags=40, ax=ax1)\n",
    "ax2 = fig.add_subplot(212)\n",
    "fig = plot_pacf(airline['Second Difference'].dropna(),lags=40, ax=ax2, method='ywm')\n",
    "plt.tight_layout()"
   ]
  },
  {
   "cell_type": "markdown",
   "id": "2a4f6dc5-f131-4aef-9288-ee0d890ad53a",
   "metadata": {
    "jp-MarkdownHeadingCollapsed": true
   },
   "source": [
    "## Build ARIMA model (non seasonal)"
   ]
  },
  {
   "cell_type": "code",
   "execution_count": null,
   "id": "a7e06b98",
   "metadata": {},
   "outputs": [],
   "source": [
    "# For non-seasonal data\n",
    "#p=1, d=1, q=0 or 1\n",
    "model1 = ARIMA(airline_train['Passengers'], order=(2,1,2)).fit()\n",
    "\n",
    "split = airline_train.shape[0]\n",
    "end = airline_train.shape[0] + 24\n",
    "\n",
    "airline_train['ARIMA1'] = model1.predict(start=0, end=split, dynamic=False)\n",
    "airline_test['ARIMA1'] = model1.predict(start=split, end=end, dynamic=True)"
   ]
  },
  {
   "cell_type": "code",
   "execution_count": null,
   "id": "e0557609",
   "metadata": {},
   "outputs": [],
   "source": [
    "plt.title('ARIMA1')\n",
    "plt.plot(airline_train['Passengers'], label='train')\n",
    "plt.plot(airline_test['Passengers'], label='test')\n",
    "plt.plot(airline_train['ARIMA1'], color='C2', label='ARIMA1')\n",
    "plt.plot(airline_test['ARIMA1'], color='C2')\n",
    "plt.legend()"
   ]
  },
  {
   "cell_type": "markdown",
   "id": "182d361f-c9db-41fb-9d3e-225eaac0b8d5",
   "metadata": {
    "jp-MarkdownHeadingCollapsed": true
   },
   "source": [
    "## Build ARIMA model (seasonal)"
   ]
  },
  {
   "cell_type": "code",
   "execution_count": null,
   "id": "800167b1",
   "metadata": {},
   "outputs": [],
   "source": [
    "# May have bugs\n",
    "\n",
    "# Fit a SARIMAX(0, 1, 1)x(2, 1, 1, 12) on the training set\n",
    "#from statsmodels.tsa.statespace.sarimax import SARIMAX\n",
    "\n",
    "#import statsmodels.api as sm\n",
    "#model = sm.tsa.statespace.SARIMAX(airline['Passengers'],order=(1,1,1),seasonal_order=(1,1,1,12))\n",
    "#order = (0,0,0) introduces increasing aspect\n",
    "\n",
    "#from pandas.tseries.offsets import DateOffset\n",
    "#future_dates=[airline.index[-1]+ DateOffset(months=x)for x in range(0,480)]\n",
    "#future_datest_airline=pd.DataFrame(index=future_dates[1:],columns=airline.columns)\n",
    "\n",
    "#future_datest_airline.tail()\n",
    "#future_airline=pd.concat([airline,future_datest_airline])\n",
    "#future_airline['forecast'] = results.predict(start = airline.shape[0], end = airline.shape[0]+480, dynamic= True)\n",
    "#future_airline[['Passengers', 'forecast']].plot(figsize=(12, 8))"
   ]
  },
  {
   "cell_type": "code",
   "execution_count": null,
   "id": "205d03be",
   "metadata": {},
   "outputs": [],
   "source": [
    "model2 = ARIMA(airline_train['Passengers'], order=(1,1,1), seasonal_order=(1,1,1,12)).fit()\n",
    "airline_train['ARIMA2'] = model2.predict(start=0, end=split, dynamic=False)\n",
    "airline_test['ARIMA2'] = model2.predict(start=split, end=end, dynamic=True)"
   ]
  },
  {
   "cell_type": "code",
   "execution_count": null,
   "id": "580fd7bc",
   "metadata": {},
   "outputs": [],
   "source": [
    "plt.title('ARIMA2')\n",
    "plt.plot(airline_train['Passengers'], label='train')\n",
    "plt.plot(airline_test['Passengers'], label='test')\n",
    "plt.plot(airline_train['ARIMA2'], color='C3', label='ARIMA2')\n",
    "plt.plot(airline_test['ARIMA2'], color='C3')\n",
    "plt.legend()"
   ]
  },
  {
   "cell_type": "code",
   "execution_count": null,
   "id": "b4229779",
   "metadata": {},
   "outputs": [],
   "source": [
    "model3 = ARIMA(airline_train['Passengers'], order=(1,2,1), seasonal_order=(1,0,0,12)).fit()\n",
    "airline_train['ARIMA3'] = model3.predict(start=0, end=split, dynamic=False)\n",
    "airline_test['ARIMA3'] = model3.predict(start=split, end=end, dynamic=True)"
   ]
  },
  {
   "cell_type": "code",
   "execution_count": null,
   "id": "95e189d6-5e07-45ae-a4a6-0113931afc9d",
   "metadata": {},
   "outputs": [],
   "source": [
    "plt.title('ARIMA3')\n",
    "plt.plot(airline_train['Passengers'], label='train')\n",
    "plt.plot(airline_test['Passengers'], label='test')\n",
    "plt.plot(airline_train['ARIMA3'], color='C4', label='ARIMA3')\n",
    "plt.plot(airline_test['ARIMA3'], color='C4')\n",
    "plt.legend()"
   ]
  },
  {
   "cell_type": "markdown",
   "id": "986f4a9c-0cbb-4bb9-bfc2-ed4716828865",
   "metadata": {
    "jp-MarkdownHeadingCollapsed": true
   },
   "source": [
    "## AutoARIMA"
   ]
  },
  {
   "cell_type": "code",
   "execution_count": null,
   "id": "9a01c51a",
   "metadata": {},
   "outputs": [],
   "source": [
    "# Fit auto_arima function to AirPassengers dataset\n",
    "stepwise_fit = auto_arima(airline_train['Passengers'], start_p=1, start_q=1, max_p=3, max_q=3, m=12,\n",
    "                          start_P=0, seasonal=True, d=None, D=1, trace=True, \n",
    "                          error_action ='ignore',   # we don't want to know if an order does not work\n",
    "                          suppress_warnings = True,  # we don't want convergence warnings\n",
    "                          stepwise = True)           # set to stepwise\n",
    "  \n",
    "# To print the summary\n",
    "stepwise_fit.summary()\n",
    "\n",
    "# auto arima code\n",
    "#model4 = stepwise_fit\n",
    "#airline_train['ARIMA4'] = model4.fittedvalues()\n",
    "#model4.resid().plot(kind='kde', color='C5', label='ARIMA4')\n",
    "#plt.plot(model4.predict(two_decades), label='ARIMA4')"
   ]
  },
  {
   "cell_type": "code",
   "execution_count": null,
   "id": "3d690e85-badb-45bc-90bd-8ab8e2139fc2",
   "metadata": {},
   "outputs": [],
   "source": [
    "# trend parameter is used for intercept\n",
    "model4 = ARIMA(airline_train['Passengers'], order=(0,1,1), seasonal_order=(2,1,1,12)).fit()\n",
    "airline_train['ARIMA4'] = model4.predict(start=0, end=split, dynamic=False)\n",
    "airline_test['ARIMA4'] = model4.predict(start=split, end=end, dynamic=True)"
   ]
  },
  {
   "cell_type": "code",
   "execution_count": null,
   "id": "66cf21fb",
   "metadata": {},
   "outputs": [],
   "source": [
    "plt.title('ARIMA4')\n",
    "plt.plot(airline_train['Passengers'], label='train')\n",
    "plt.plot(airline_test['Passengers'], label='test')\n",
    "plt.plot(airline_train['ARIMA4'], color='C5', label='ARIMA4')\n",
    "plt.plot(airline_test['ARIMA4'], color='C5')\n",
    "plt.legend()"
   ]
  },
  {
   "cell_type": "markdown",
   "id": "991cedb9-1e4d-4fdc-b682-3fe51f64605f",
   "metadata": {
    "jp-MarkdownHeadingCollapsed": true
   },
   "source": [
    "## Compare models"
   ]
  },
  {
   "cell_type": "code",
   "execution_count": null,
   "id": "cc65456f-c7cf-418b-b67c-4e28a7eeea51",
   "metadata": {},
   "outputs": [],
   "source": [
    "alpha = 0.5\n",
    "plt.title('ARIMA')\n",
    "plt.plot(airline_train['Passengers'], alpha=alpha, label='train')\n",
    "plt.plot(airline_test['Passengers'], alpha=alpha, label='test')\n",
    "plt.plot(airline_train['ARIMA1'], color='C2', alpha=alpha, label='ARIMA1')\n",
    "plt.plot(airline_test['ARIMA1'], color='C2', alpha=alpha)\n",
    "plt.plot(airline_train['ARIMA2'], color='C3', alpha=alpha, label='ARIMA2')\n",
    "plt.plot(airline_test['ARIMA2'], color='C3', alpha=alpha)\n",
    "plt.plot(airline_train['ARIMA3'], color='C4', alpha=alpha, label='ARIMA3')\n",
    "plt.plot(airline_test['ARIMA3'], color='C4', alpha=alpha)\n",
    "plt.plot(airline_train['ARIMA4'], color='C5', alpha=alpha, label='ARIMA4')\n",
    "plt.plot(airline_test['ARIMA4'], color='C5', alpha=alpha)\n",
    "#plt.xlim(airline.index[108], airline.index[143])\n",
    "plt.legend()\n",
    "plt.tight_layout()"
   ]
  },
  {
   "cell_type": "code",
   "execution_count": null,
   "id": "e29ba42e",
   "metadata": {},
   "outputs": [],
   "source": [
    "model1.resid.plot(kind='kde', color='C2', label='ARIMA1')\n",
    "model2.resid.plot(kind='kde', color='C3', label='ARIMA2')\n",
    "model3.resid.plot(kind='kde', color='C4', label='ARIMA3')\n",
    "model4.resid.plot(kind='kde', color='C5', label='ARIMA4')\n",
    "plt.legend()"
   ]
  },
  {
   "cell_type": "code",
   "execution_count": null,
   "id": "99040c47-a2eb-4a2b-8aed-d12cc62be9a6",
   "metadata": {},
   "outputs": [],
   "source": [
    "two_decades = 240\n",
    "plt.plot(airline_train['Passengers'], label='train')\n",
    "plt.plot(airline_test['Passengers'], label='test')\n",
    "plt.plot(model1.forecast(two_decades), label='ARIMA1')\n",
    "plt.plot(model2.forecast(two_decades), label='ARIMA2')\n",
    "plt.plot(model3.forecast(two_decades), label='ARIMA3')\n",
    "plt.plot(model4.forecast(two_decades), label='ARIMA4')\n",
    "plt.legend()"
   ]
  },
  {
   "cell_type": "code",
   "execution_count": null,
   "id": "6bc7c5e4-a620-43fc-baac-49bc3cd5ee6c",
   "metadata": {},
   "outputs": [],
   "source": [
    "def calculate_metrics(models):\n",
    "    aic = np.array([model.aic for model in models]).reshape(len(models),1)\n",
    "    cols = airline_train.columns\n",
    "    \n",
    "    mse = []\n",
    "    mae = []\n",
    "    for col in cols[1:]:\n",
    "        train_mse = np.mean((airline_train['Passengers'] - airline_train[col]) ** 2)\n",
    "        test_mse = np.mean((airline_test['Passengers'] - airline_test[col]) ** 2)\n",
    "        mse.append([train_mse, test_mse])\n",
    "    \n",
    "        train_mae = np.mean(np.abs(airline_train['Passengers'] - airline_train[col]))\n",
    "        test_mae = np.mean(np.abs(airline_test['Passengers'] - airline_test[col]))\n",
    "        mae.append([train_mae, test_mae])\n",
    "    mse = np.array(mse)\n",
    "    mae = np.array(mae)\n",
    "    metrics = pd.DataFrame(np.hstack((aic, mse, mae)).T, columns=cols[1:],\n",
    "                           index=['AIC', 'Train MSE', 'Test MSE', 'Train MAE', 'Test MAE'])\n",
    "\n",
    "    return metrics"
   ]
  },
  {
   "cell_type": "code",
   "execution_count": null,
   "id": "42139ad0-ee6b-4eb1-9da0-0c9b69e0df41",
   "metadata": {},
   "outputs": [],
   "source": [
    "models = [model1, model2, model3, model4]"
   ]
  },
  {
   "cell_type": "code",
   "execution_count": null,
   "id": "52fb980b-bcf6-45ed-9104-d83e10cbc3cb",
   "metadata": {},
   "outputs": [],
   "source": [
    "metrics = calculate_metrics(models)"
   ]
  },
  {
   "cell_type": "code",
   "execution_count": null,
   "id": "2220f5f5-6dec-4235-b11a-88f414ce298b",
   "metadata": {},
   "outputs": [],
   "source": [
    "metrics"
   ]
  },
  {
   "cell_type": "code",
   "execution_count": null,
   "id": "541ca45e-bdb1-46b6-8ae3-c902cdde3b6c",
   "metadata": {},
   "outputs": [],
   "source": []
  }
 ],
 "metadata": {
  "kernelspec": {
   "display_name": "Python 3 (ipykernel)",
   "language": "python",
   "name": "python3"
  },
  "language_info": {
   "codemirror_mode": {
    "name": "ipython",
    "version": 3
   },
   "file_extension": ".py",
   "mimetype": "text/x-python",
   "name": "python",
   "nbconvert_exporter": "python",
   "pygments_lexer": "ipython3",
   "version": "3.11.9"
  }
 },
 "nbformat": 4,
 "nbformat_minor": 5
}
