{
 "cells": [
  {
   "cell_type": "code",
   "execution_count": null,
   "id": "0de7ee68",
   "metadata": {},
   "outputs": [],
   "source": [
    "import numpy as np\n",
    "from matplotlib import pyplot as plt\n",
    "import pandas as pd\n",
    "\n",
    "from statsmodels.tsa.seasonal import seasonal_decompose \n",
    "from statsmodels.tsa.holtwinters import SimpleExpSmoothing   \n",
    "from statsmodels.tsa.holtwinters import ExponentialSmoothing"
   ]
  },
  {
   "cell_type": "markdown",
   "id": "ab163009-6ff9-4083-8ad2-7ef674d98909",
   "metadata": {
    "jp-MarkdownHeadingCollapsed": true
   },
   "source": [
    "## Load data and decompose"
   ]
  },
  {
   "cell_type": "code",
   "execution_count": null,
   "id": "19b83ff4-d90a-434f-9cea-17570e60643e",
   "metadata": {},
   "outputs": [],
   "source": [
    "file = 'airline-passengers.csv'\n",
    "airline = pd.read_csv(file, index_col='Month', parse_dates=True)\n",
    "\n",
    "# Set the frequency of the date time index as Monthly start as indicated by the data\n",
    "airline.index.freq = 'MS'\n",
    "airline.shape"
   ]
  },
  {
   "cell_type": "code",
   "execution_count": null,
   "id": "2239c6c3-8044-4ea3-8183-2eb0acc2294d",
   "metadata": {},
   "outputs": [],
   "source": [
    "airline.head()"
   ]
  },
  {
   "cell_type": "code",
   "execution_count": null,
   "id": "2f3e51b3-83db-4027-a076-389bf53a7988",
   "metadata": {},
   "outputs": [],
   "source": [
    "airline.describe()"
   ]
  },
  {
   "cell_type": "code",
   "execution_count": null,
   "id": "e01d3fb1-fee4-42a2-8638-6b7470c37f40",
   "metadata": {},
   "outputs": [],
   "source": [
    "airline.plot(title='Passengers Data');\n",
    "#airline['Passengers'].plot(title='Passengers Data', legend=True)"
   ]
  },
  {
   "cell_type": "code",
   "execution_count": null,
   "id": "4e31f5e1",
   "metadata": {},
   "outputs": [],
   "source": [
    "decomp = seasonal_decompose(airline['Passengers'], model='multiplicative')\n",
    "decomp.plot();"
   ]
  },
  {
   "cell_type": "code",
   "execution_count": null,
   "id": "1b377361-4497-449e-b2f3-5527601fbae5",
   "metadata": {},
   "outputs": [],
   "source": [
    "airline_train = airline[['Passengers']][:120]\n",
    "airline_test = airline[['Passengers']][120:]"
   ]
  },
  {
   "cell_type": "markdown",
   "id": "6903c399-c946-4025-9095-fdc5dc4922f8",
   "metadata": {
    "jp-MarkdownHeadingCollapsed": true
   },
   "source": [
    "## Simple Exponential Smoothing"
   ]
  },
  {
   "cell_type": "code",
   "execution_count": null,
   "id": "0e6903e6",
   "metadata": {},
   "outputs": [],
   "source": [
    "# Set the value of Alpha and define m (Time Period)\n",
    "m = 12\n",
    "alpha = 1/(2*m)\n",
    "two_years = m*2"
   ]
  },
  {
   "cell_type": "code",
   "execution_count": null,
   "id": "89dac0d9-2aed-4dcd-9000-3fddbdf26554",
   "metadata": {},
   "outputs": [],
   "source": [
    "model1 = SimpleExpSmoothing(airline_train['Passengers']).fit(smoothing_level=alpha, optimized=False, use_brute=True)\n",
    "airline_train['HWES1'] = model1.fittedvalues\n",
    "airline_test['HWES1'] = model1.forecast(two_years)"
   ]
  },
  {
   "cell_type": "code",
   "execution_count": null,
   "id": "d7708275-57d1-46d3-9b3c-7517d4601571",
   "metadata": {},
   "outputs": [],
   "source": [
    "plt.title('Holt Winters Single Exponential Smoothing')\n",
    "plt.plot(airline_train['Passengers'], label='train')\n",
    "plt.plot(airline_test['Passengers'], label='test')\n",
    "plt.plot(airline_train['HWES1'], color='C2', label='HWSE1')\n",
    "plt.plot(airline_test['HWES1'], color='C2')\n",
    "plt.legend()"
   ]
  },
  {
   "cell_type": "markdown",
   "id": "3c0f557b-f227-4cb5-92ef-ec4e0ce9c942",
   "metadata": {
    "jp-MarkdownHeadingCollapsed": true
   },
   "source": [
    "## Double Exponential Smoothing"
   ]
  },
  {
   "cell_type": "code",
   "execution_count": null,
   "id": "1415f7a2-0f05-4e56-9ba5-eede6405f2f2",
   "metadata": {},
   "outputs": [],
   "source": [
    "model2_add = ExponentialSmoothing(airline_train['Passengers'], trend='add').fit()\n",
    "airline_train['HWES2_ADD'] = model2_add.fittedvalues\n",
    "airline_test['HWES2_ADD'] = model2_add.forecast(two_years)\n",
    "\n",
    "model2_mul = ExponentialSmoothing(airline_train['Passengers'], trend='mul').fit()\n",
    "airline_train['HWES2_MUL'] = model2_mul.fittedvalues\n",
    "airline_test['HWES2_MUL'] = model2_mul.forecast(two_years)"
   ]
  },
  {
   "cell_type": "code",
   "execution_count": null,
   "id": "e9f2d6bc-7242-4bee-a08a-b454ec6f7acf",
   "metadata": {},
   "outputs": [],
   "source": [
    "plt.title('Holt Winters Double Exponential Smoothing: Additive and Multiplicative Trend')\n",
    "plt.plot(airline_train['Passengers'], label='train')\n",
    "plt.plot(airline_test['Passengers'], label='test')\n",
    "plt.plot(airline_train['HWES2_ADD'], color='C3', label='HWES2_ADD')\n",
    "plt.plot(airline_test['HWES2_ADD'], color='C3')\n",
    "plt.plot(airline_train['HWES2_MUL'], color='C4', label='HWES2_MUL')\n",
    "plt.plot(airline_test['HWES2_MUL'], color='C4')\n",
    "plt.legend()"
   ]
  },
  {
   "cell_type": "code",
   "execution_count": null,
   "id": "8bfb9733-85af-4da1-bf9c-e8ec474cfbf3",
   "metadata": {},
   "outputs": [],
   "source": [
    "shift = -1\n",
    "plt.plot(airline_train['Passengers'])\n",
    "plt.plot(airline_train['HWES2_ADD'].shift(shift))\n",
    "plt.plot(airline_train['HWES2_MUL'].shift(shift))"
   ]
  },
  {
   "cell_type": "markdown",
   "id": "d3761097-1dad-4f66-8ea8-aa7786144a38",
   "metadata": {
    "jp-MarkdownHeadingCollapsed": true
   },
   "source": [
    "## Triple Exponential Smoothing"
   ]
  },
  {
   "cell_type": "code",
   "execution_count": null,
   "id": "f19da4c5-7cb2-4821-94bd-c01396966374",
   "metadata": {},
   "outputs": [],
   "source": [
    "model3_add = ExponentialSmoothing(airline_train['Passengers'], trend='add', seasonal='add', seasonal_periods=12).fit(method='ls')\n",
    "airline_train['HWES3_ADD'] = model3_add.fittedvalues\n",
    "airline_test['HWES3_ADD'] = model3_add.forecast(two_years)\n",
    "\n",
    "model3_mul = ExponentialSmoothing(airline_train['Passengers'], trend='mul', seasonal='mul', seasonal_periods=12).fit(method='ls')\n",
    "airline_train['HWES3_MUL'] = model3_mul.fittedvalues\n",
    "airline_test['HWES3_MUL'] = model3_mul.forecast(two_years)"
   ]
  },
  {
   "cell_type": "code",
   "execution_count": null,
   "id": "463ff02f-3653-4688-952d-dd8128d5cfdb",
   "metadata": {},
   "outputs": [],
   "source": [
    "plt.title('Holt Winters Triple Exponential Smoothing: Additive and Multiplicative Trend')\n",
    "plt.plot(airline_train['Passengers'], label='train')\n",
    "plt.plot(airline_test['Passengers'], label='test')\n",
    "plt.plot(airline_train['HWES3_ADD'], color='C5', label='HWES3_ADD')\n",
    "plt.plot(airline_test['HWES3_ADD'], color='C5')\n",
    "plt.plot(airline_train['HWES3_MUL'], color='C6', label='HWES3_ADD')\n",
    "plt.plot(airline_test['HWES3_MUL'], color='C6')\n",
    "plt.legend()"
   ]
  },
  {
   "cell_type": "markdown",
   "id": "def4fb35-7d7d-43ae-bc94-8462ce54cf84",
   "metadata": {
    "jp-MarkdownHeadingCollapsed": true
   },
   "source": [
    "## Compare models"
   ]
  },
  {
   "cell_type": "code",
   "execution_count": null,
   "id": "644b5ca4-203e-4329-8dcf-ede66359b804",
   "metadata": {},
   "outputs": [],
   "source": [
    "alpha = 0.5\n",
    "plt.title('Holt Winters Exponential Smoothing')\n",
    "plt.plot(airline_train['Passengers'], alpha=alpha, label='train')\n",
    "plt.plot(airline_test['Passengers'], alpha=alpha, label='test')\n",
    "plt.plot(airline_train['HWES1'], color='C2', alpha=alpha, label='HWES1')\n",
    "plt.plot(airline_test['HWES1'], color='C2', alpha=alpha)\n",
    "plt.plot(airline_train['HWES2_ADD'], color='C3', alpha=alpha, label='HWES2_ADD')\n",
    "plt.plot(airline_test['HWES2_ADD'], color='C3', alpha=alpha)\n",
    "plt.plot(airline_train['HWES2_MUL'], color='C4', alpha=alpha, label='HWES2_MUL')\n",
    "plt.plot(airline_test['HWES2_MUL'], color='C4', alpha=alpha)\n",
    "plt.plot(airline_train['HWES3_ADD'], color='C5', alpha=alpha, label='HWES3_ADD')\n",
    "plt.plot(airline_test['HWES3_ADD'], color='C5', alpha=alpha)\n",
    "plt.plot(airline_train['HWES3_MUL'], color='C6', alpha=alpha, label='HWES3_MUL')\n",
    "plt.plot(airline_test['HWES3_MUL'], color='C6', alpha=alpha)\n",
    "#plt.xlim(airline.index[108], airline.index[143])\n",
    "plt.legend()\n",
    "plt.tight_layout()"
   ]
  },
  {
   "cell_type": "code",
   "execution_count": null,
   "id": "3884dbf0-70db-4cb3-bea9-f93cdaa087bc",
   "metadata": {},
   "outputs": [],
   "source": [
    "model1.resid.plot(kind='kde', color='C2', label='HWES1')\n",
    "model2_add.resid.plot(kind='kde', color='C3', label='HWES2_ADD')\n",
    "model2_mul.resid.plot(kind='kde', color='C4', label='HWES2_MUL')\n",
    "model3_add.resid.plot(kind='kde', color='C5', label='HWES3_ADD')\n",
    "model3_mul.resid.plot(kind='kde', color='C6', label='HWES3_MUL')\n",
    "plt.legend()"
   ]
  },
  {
   "cell_type": "code",
   "execution_count": null,
   "id": "f8788c7c-e584-4762-9cf7-a4c3aa5434dd",
   "metadata": {},
   "outputs": [],
   "source": [
    "two_decades = 240\n",
    "plt.plot(airline_train['Passengers'], label='train')\n",
    "plt.plot(airline_test['Passengers'], label='test')\n",
    "plt.plot(model1.forecast(two_decades), label='HWES1')\n",
    "plt.plot(model2_add.forecast(two_decades), label='HWES2_ADD')\n",
    "plt.plot(model2_mul.forecast(two_decades), label='HWES2_MUL')\n",
    "plt.plot(model3_add.forecast(two_decades), label='HWES3_ADD')\n",
    "plt.plot(model3_mul.forecast(two_decades), label='HWES3_MUL')\n",
    "plt.legend()"
   ]
  },
  {
   "cell_type": "code",
   "execution_count": null,
   "id": "7e8904d7-bcd4-46d8-8300-1948662d9ffc",
   "metadata": {},
   "outputs": [],
   "source": [
    "def calculate_metrics(models):\n",
    "    aic = np.array([model.aic for model in models]).reshape(len(models),1)\n",
    "    cols = airline_train.columns\n",
    "    \n",
    "    mse = []\n",
    "    mae = []\n",
    "    for col in cols[1:]:\n",
    "        train_mse = np.mean((airline_train['Passengers'] - airline_train[col]) ** 2)\n",
    "        test_mse = np.mean((airline_test['Passengers'] - airline_test[col]) ** 2)\n",
    "        mse.append([train_mse, test_mse])\n",
    "    \n",
    "        train_mae = np.mean(np.abs(airline_train['Passengers'] - airline_train[col]))\n",
    "        test_mae = np.mean(np.abs(airline_test['Passengers'] - airline_test[col]))\n",
    "        mae.append([train_mae, test_mae])\n",
    "    mse = np.array(mse)\n",
    "    mae = np.array(mae)\n",
    "    metrics = pd.DataFrame(np.hstack((aic, mse, mae)).T, columns=cols[1:],\n",
    "                           index=['AIC', 'Train MSE', 'Test MSE', 'Train MAE', 'Test MAE'])\n",
    "\n",
    "    return metrics"
   ]
  },
  {
   "cell_type": "code",
   "execution_count": null,
   "id": "285ca59b-5403-4f59-b0fc-d297a4f05053",
   "metadata": {},
   "outputs": [],
   "source": [
    "models = [model1, model2_add, model2_mul, model3_add, model3_mul]"
   ]
  },
  {
   "cell_type": "code",
   "execution_count": null,
   "id": "a323d37b-4920-4025-9ae5-4e94e642f53e",
   "metadata": {},
   "outputs": [],
   "source": [
    "metrics = calculate_metrics(models)"
   ]
  },
  {
   "cell_type": "code",
   "execution_count": null,
   "id": "b965a3c5-7155-48fa-aed5-55ac71e8de8d",
   "metadata": {},
   "outputs": [],
   "source": [
    "metrics"
   ]
  },
  {
   "cell_type": "code",
   "execution_count": null,
   "id": "e6d85d15-8c8f-4647-81fa-d943251d0ffc",
   "metadata": {},
   "outputs": [],
   "source": [
    "model3_mul.summary()"
   ]
  },
  {
   "cell_type": "code",
   "execution_count": null,
   "id": "ca1cfcd2-a17a-4c7a-9d8b-ee9592e6efa2",
   "metadata": {},
   "outputs": [],
   "source": []
  }
 ],
 "metadata": {
  "kernelspec": {
   "display_name": "Python 3 (ipykernel)",
   "language": "python",
   "name": "python3"
  },
  "language_info": {
   "codemirror_mode": {
    "name": "ipython",
    "version": 3
   },
   "file_extension": ".py",
   "mimetype": "text/x-python",
   "name": "python",
   "nbconvert_exporter": "python",
   "pygments_lexer": "ipython3",
   "version": "3.11.9"
  }
 },
 "nbformat": 4,
 "nbformat_minor": 5
}
