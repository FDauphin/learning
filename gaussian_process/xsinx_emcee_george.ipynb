{
 "cells": [
  {
   "cell_type": "code",
   "execution_count": null,
   "id": "6254f556-9725-44a6-bcc6-03a5d40ed123",
   "metadata": {},
   "outputs": [],
   "source": [
    "import numpy as np\n",
    "import matplotlib.pyplot as plt\n",
    "\n",
    "import corner\n",
    "import emcee\n",
    "import george"
   ]
  },
  {
   "cell_type": "code",
   "execution_count": null,
   "id": "3b6d28b6-e6bd-4ed1-b154-ad6a6232c228",
   "metadata": {},
   "outputs": [],
   "source": [
    "from gpr_mcmc import *"
   ]
  },
  {
   "cell_type": "markdown",
   "id": "4ca78811-171b-4981-b1e4-bba2a7f86042",
   "metadata": {
    "jp-MarkdownHeadingCollapsed": true
   },
   "source": [
    "## Simulate data"
   ]
  },
  {
   "cell_type": "code",
   "execution_count": null,
   "id": "5e3dc12d-0f9b-4280-86ef-36c37e9bea3a",
   "metadata": {},
   "outputs": [],
   "source": [
    "X = np.linspace(start=0, stop=10, num=1000)\n",
    "y = np.squeeze(X * np.sin(X))"
   ]
  },
  {
   "cell_type": "code",
   "execution_count": null,
   "id": "6ddad032-5ccc-4fee-a103-525e176536e8",
   "metadata": {},
   "outputs": [],
   "source": [
    "#rng = np.random.RandomState(1)\n",
    "training_indices = np.random.choice(np.arange(y.size), size=10, replace=False)\n",
    "X_train, y_train = X[training_indices], y[training_indices]"
   ]
  },
  {
   "cell_type": "code",
   "execution_count": null,
   "id": "e7c76d77-8573-4a05-8a53-183e2771adbd",
   "metadata": {},
   "outputs": [],
   "source": [
    "noise = np.random.normal(loc=0.0, scale=0.75, size=y_train.shape)\n",
    "y_train_noise = y_train + noise"
   ]
  },
  {
   "cell_type": "code",
   "execution_count": null,
   "id": "9fb966c8-25f8-4502-9e4f-2352e38db2e7",
   "metadata": {},
   "outputs": [],
   "source": [
    "plt.plot(X, y, label=r\"$f(x) = x \\sin(x)$\", linestyle=\"dotted\")\n",
    "plt.errorbar(X_train, y_train_noise, np.abs(noise), label='train (noise)', fmt='oC1')\n",
    "plt.legend()"
   ]
  },
  {
   "cell_type": "markdown",
   "id": "8fc90dd3-7486-47a2-8ad7-ee54d312095f",
   "metadata": {
    "jp-MarkdownHeadingCollapsed": true
   },
   "source": [
    "## Fit GPR using MCMC"
   ]
  },
  {
   "cell_type": "code",
   "execution_count": null,
   "id": "4e4a3a51-cbf2-4016-b364-1eb482c5d6d5",
   "metadata": {},
   "outputs": [],
   "source": [
    "initial_log, priors_log = get_initial_ln_prior(y_train_noise)"
   ]
  },
  {
   "cell_type": "code",
   "execution_count": null,
   "id": "c784427b-3529-4bf2-aaad-b9d90256f325",
   "metadata": {},
   "outputs": [],
   "source": [
    "sampler = run_mcmc(X_train, y_train_noise, noise,  priors_log, initial_log, nwalkers=100, nsteps=1000)"
   ]
  },
  {
   "cell_type": "code",
   "execution_count": null,
   "id": "37de4a9d-d20a-4af1-b188-7ccc67478fd9",
   "metadata": {},
   "outputs": [],
   "source": [
    "plot_walkers(sampler)"
   ]
  },
  {
   "cell_type": "code",
   "execution_count": null,
   "id": "7bbf5f36-2238-4e16-94cd-ebe6dab6bb0b",
   "metadata": {},
   "outputs": [],
   "source": [
    "samples_y_log, log_L = plot_scatter_matrix(sampler, thin=1)"
   ]
  },
  {
   "cell_type": "markdown",
   "id": "6d3c3c13-235b-489b-b76f-5ac9ba4925d8",
   "metadata": {
    "jp-MarkdownHeadingCollapsed": true
   },
   "source": [
    "## Evaluate model"
   ]
  },
  {
   "cell_type": "code",
   "execution_count": null,
   "id": "07431138-b33e-4606-85bb-ec1f337ffcee",
   "metadata": {},
   "outputs": [],
   "source": [
    "theta_results = get_theta(samples_y_log)"
   ]
  },
  {
   "cell_type": "code",
   "execution_count": null,
   "id": "1f54fff5-b001-40f7-9edf-ac6cf89306d6",
   "metadata": {},
   "outputs": [],
   "source": [
    "gp_best_fit = build_gp(np.log(theta_results), X_train, y_train_noise, noise)"
   ]
  },
  {
   "cell_type": "code",
   "execution_count": null,
   "id": "4ee27803-a86e-4ce9-8add-0189e11cdbfd",
   "metadata": {},
   "outputs": [],
   "source": [
    "mu_fit, cov_fit = gp_best_fit.predict(y_train_noise, X_train)\n",
    "sig_fit = np.sqrt(np.diag(cov_fit))"
   ]
  },
  {
   "cell_type": "code",
   "execution_count": null,
   "id": "74e799e2-ab2a-453f-8e9f-53ffe328c6de",
   "metadata": {},
   "outputs": [],
   "source": [
    "mu_pred, cov_pred = gp_best_fit.predict(y_train_noise, X)\n",
    "sig_pred = np.sqrt(np.diag(cov_pred))"
   ]
  },
  {
   "cell_type": "code",
   "execution_count": null,
   "id": "2052e7ed-b156-43be-833b-871d16852228",
   "metadata": {},
   "outputs": [],
   "source": [
    "fig, axs = plt.subplots(2, 1)\n",
    "axs[0].plot(X, y, label=r\"$f(x) = x \\sin(x)$\", linestyle=\"dotted\")\n",
    "axs[0].errorbar(X_train, y_train_noise, yerr=np.abs(noise), label='train (noise)', fmt='oC1')\n",
    "axs[0].plot(X, mu_pred, color='C1')\n",
    "axs[0].fill_between(X, mu_pred + sig_pred, mu_pred - sig_pred, color='C1', alpha=0.3)\n",
    "axs[1].errorbar(X_train, y_train_noise-mu_fit, yerr=np.abs(noise), fmt='ok')"
   ]
  },
  {
   "cell_type": "markdown",
   "id": "3caa7071-eb35-46b9-9b97-4998144b7517",
   "metadata": {},
   "source": [
    "[Source - Charles Cadieux](https://exoplanetes.umontreal.ca/en/team-member/charles-cadieux/)"
   ]
  },
  {
   "cell_type": "code",
   "execution_count": null,
   "id": "250543ba-1685-43f7-bcce-b2d61b534877",
   "metadata": {},
   "outputs": [],
   "source": []
  }
 ],
 "metadata": {
  "kernelspec": {
   "display_name": "Python 3 (ipykernel)",
   "language": "python",
   "name": "python3"
  },
  "language_info": {
   "codemirror_mode": {
    "name": "ipython",
    "version": 3
   },
   "file_extension": ".py",
   "mimetype": "text/x-python",
   "name": "python",
   "nbconvert_exporter": "python",
   "pygments_lexer": "ipython3",
   "version": "3.11.9"
  }
 },
 "nbformat": 4,
 "nbformat_minor": 5
}
