{
 "cells": [
  {
   "cell_type": "code",
   "execution_count": null,
   "id": "65cb8fce",
   "metadata": {},
   "outputs": [],
   "source": [
    "import datetime\n",
    "import numpy as np\n",
    "import matplotlib.pyplot as plt\n",
    "import pandas as pd\n",
    "\n",
    "from sklearn.datasets import fetch_openml\n",
    "from sklearn.gaussian_process.kernels import RBF, ExpSineSquared, RationalQuadratic, WhiteKernel\n",
    "from sklearn.gaussian_process import GaussianProcessRegressor"
   ]
  },
  {
   "cell_type": "markdown",
   "id": "822b9b9b",
   "metadata": {
    "jp-MarkdownHeadingCollapsed": true
   },
   "source": [
    "## Load Data"
   ]
  },
  {
   "cell_type": "code",
   "execution_count": null,
   "id": "a31c695e",
   "metadata": {},
   "outputs": [],
   "source": [
    "co2 = fetch_openml(data_id=41187, as_frame=True, parser=\"pandas\")\n",
    "co2.frame.head()"
   ]
  },
  {
   "cell_type": "code",
   "execution_count": null,
   "id": "58501c97",
   "metadata": {},
   "outputs": [],
   "source": [
    "co2_data_raw = co2.frame\n",
    "co2_data_raw[\"date\"] = pd.to_datetime(co2_data_raw[[\"year\", \"month\", \"day\"]])\n",
    "co2_data_raw = co2_data_raw[[\"date\", \"co2\"]].set_index(\"date\")\n",
    "co2_data_raw.head()"
   ]
  },
  {
   "cell_type": "code",
   "execution_count": null,
   "id": "6511777c",
   "metadata": {},
   "outputs": [],
   "source": [
    "co2_data = co2_data_raw.resample(\"ME\").mean().dropna(axis=\"index\", how=\"any\")"
   ]
  },
  {
   "cell_type": "code",
   "execution_count": null,
   "id": "dde48e3d",
   "metadata": {},
   "outputs": [],
   "source": [
    "plt.plot(co2_data_raw.index, co2_data_raw['co2'], alpha=0.5, label='raw')\n",
    "plt.plot(co2_data.index, co2_data['co2'], alpha=0.5, label='mean')\n",
    "plt.title(\"Air samples measurements from the Mauna Loa Observatory\")\n",
    "plt.xlabel('Date')\n",
    "plt.ylabel(\"CO$_2$ concentration (ppm)\")\n",
    "plt.legend()"
   ]
  },
  {
   "cell_type": "code",
   "execution_count": null,
   "id": "de61e0c8",
   "metadata": {},
   "outputs": [],
   "source": [
    "X_raw = (co2_data.index.year + co2_data.index.month / 12).to_numpy().reshape(-1, 1)\n",
    "y_raw = co2_data[\"co2\"].to_numpy()"
   ]
  },
  {
   "cell_type": "code",
   "execution_count": null,
   "id": "8a67c157-c0cb-4ef5-bc1d-dbb8c777aae3",
   "metadata": {},
   "outputs": [],
   "source": [
    "n = int(0.8*X_raw.shape[0])\n",
    "X_train = X_raw[:n]\n",
    "y_train = y_raw[:n]\n",
    "X_test = X_raw[n:]\n",
    "y_test = y_raw[n:]"
   ]
  },
  {
   "cell_type": "code",
   "execution_count": null,
   "id": "9e79f17a-aa46-499c-bc23-82084a39932b",
   "metadata": {},
   "outputs": [],
   "source": [
    "plt.plot(X_train, y_train)\n",
    "plt.plot(X_test, y_test)"
   ]
  },
  {
   "cell_type": "markdown",
   "id": "0bd60859",
   "metadata": {
    "jp-MarkdownHeadingCollapsed": true
   },
   "source": [
    "## Define GP Kernel"
   ]
  },
  {
   "cell_type": "code",
   "execution_count": null,
   "id": "2c7a5d34",
   "metadata": {},
   "outputs": [],
   "source": [
    "long_term_trend_kernel = 50.0**2 * RBF(length_scale=50.0)"
   ]
  },
  {
   "cell_type": "code",
   "execution_count": null,
   "id": "4f62b6d3",
   "metadata": {},
   "outputs": [],
   "source": [
    "seasonal_kernel = (\n",
    "    2.0**2\n",
    "    * RBF(length_scale=100.0) # allows for decay away from periodicity \n",
    "    * ExpSineSquared(length_scale=1.0, periodicity=1.0, periodicity_bounds=\"fixed\") # seasonal variation\n",
    ")"
   ]
  },
  {
   "cell_type": "code",
   "execution_count": null,
   "id": "70aa7434",
   "metadata": {},
   "outputs": [],
   "source": [
    "# small irregularities\n",
    "irregularities_kernel = 0.5**2 * RationalQuadratic(length_scale=1.0, alpha=1.0) "
   ]
  },
  {
   "cell_type": "code",
   "execution_count": null,
   "id": "647c4c5e",
   "metadata": {},
   "outputs": [],
   "source": [
    "# noise\n",
    "noise_kernel = (\n",
    "    0.1**2 * RBF(length_scale=0.1) + \n",
    "    WhiteKernel(noise_level=0.1**2, noise_level_bounds=(1e-5, 1e5))\n",
    ")"
   ]
  },
  {
   "cell_type": "code",
   "execution_count": null,
   "id": "6d2f6c67",
   "metadata": {},
   "outputs": [],
   "source": [
    "co2_kernel = (\n",
    "    noise_kernel + long_term_trend_kernel + seasonal_kernel + irregularities_kernel\n",
    ")"
   ]
  },
  {
   "cell_type": "markdown",
   "id": "b2633202-0e23-41d9-a49d-95de32187226",
   "metadata": {
    "jp-MarkdownHeadingCollapsed": true
   },
   "source": [
    "## Fit GP"
   ]
  },
  {
   "cell_type": "code",
   "execution_count": null,
   "id": "06ac6d96",
   "metadata": {},
   "outputs": [],
   "source": [
    "y_mean = y_train.mean()\n",
    "gaussian_process = GaussianProcessRegressor(kernel=co2_kernel, normalize_y=False)\n",
    "gaussian_process.fit(X_train, y_train - y_mean)"
   ]
  },
  {
   "cell_type": "code",
   "execution_count": null,
   "id": "90f74825",
   "metadata": {},
   "outputs": [],
   "source": [
    "mean_y_pred, std_y_pred = gaussian_process.predict(X_test, return_std=True)\n",
    "mean_y_pred += y_mean"
   ]
  },
  {
   "cell_type": "code",
   "execution_count": null,
   "id": "72f01641",
   "metadata": {},
   "outputs": [],
   "source": [
    "plt.plot(X_train, y_train, label=\"train\")\n",
    "plt.plot(X_test, y_test, label=\"test\")\n",
    "plt.plot(X_test, mean_y_pred, alpha=0.4, label=\"GP\")\n",
    "plt.fill_between(\n",
    "    X_test.ravel(),\n",
    "    mean_y_pred - std_y_pred,\n",
    "    mean_y_pred + std_y_pred,\n",
    "    color=\"C2\",\n",
    "    alpha=0.2,\n",
    ")\n",
    "plt.legend()\n",
    "plt.xlabel(\"Year\")\n",
    "plt.ylabel(\"Monthly average of CO$_2$ concentration (ppm)\")\n",
    "_ = plt.title(\n",
    "    \"Monthly average of air samples measurements\\nfrom the Mauna Loa Observatory\"\n",
    ")"
   ]
  },
  {
   "cell_type": "code",
   "execution_count": null,
   "id": "38853bc6-bc88-4717-bbd6-158a168e37b2",
   "metadata": {},
   "outputs": [],
   "source": [
    "gaussian_process.kernel_"
   ]
  },
  {
   "cell_type": "markdown",
   "id": "a7f138f1",
   "metadata": {},
   "source": [
    "Thus, most of the target signal, with the mean subtracted, is explained by a long-term rising trend for ~45 ppm and a length-scale of ~52 years. The periodic component has an amplitude of ~2.6ppm, a decay time of ~90 years and a length-scale of ~1.5. The long decay time indicates that we have a component very close to a seasonal periodicity. The correlated noise has an amplitude of ~0.2 ppm with a length scale of ~0.12 years and a white-noise contribution of ~0.04 ppm. Thus, the overall noise level is very small, indicating that the data can be very well explained by the model."
   ]
  },
  {
   "cell_type": "markdown",
   "id": "51d8cd9b-aef4-4417-a2fa-343199a2f8a7",
   "metadata": {},
   "source": [
    "[Source - scikit learn](https://scikit-learn.org/stable/auto_examples/gaussian_process/plot_gpr_co2.html#sphx-glr-auto-examples-gaussian-process-plot-gpr-co2-py)"
   ]
  },
  {
   "cell_type": "code",
   "execution_count": null,
   "id": "1091e74b-9812-4305-a651-16cc482ac987",
   "metadata": {},
   "outputs": [],
   "source": []
  }
 ],
 "metadata": {
  "kernelspec": {
   "display_name": "Python 3 (ipykernel)",
   "language": "python",
   "name": "python3"
  },
  "language_info": {
   "codemirror_mode": {
    "name": "ipython",
    "version": 3
   },
   "file_extension": ".py",
   "mimetype": "text/x-python",
   "name": "python",
   "nbconvert_exporter": "python",
   "pygments_lexer": "ipython3",
   "version": "3.11.9"
  }
 },
 "nbformat": 4,
 "nbformat_minor": 5
}
