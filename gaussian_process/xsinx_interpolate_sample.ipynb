{
 "cells": [
  {
   "cell_type": "code",
   "execution_count": null,
   "id": "76325e91",
   "metadata": {},
   "outputs": [],
   "source": [
    "import numpy as np\n",
    "import matplotlib.pyplot as plt\n",
    "\n",
    "from sklearn.gaussian_process import GaussianProcessRegressor\n",
    "from sklearn.gaussian_process.kernels import RBF, WhiteKernel"
   ]
  },
  {
   "cell_type": "markdown",
   "id": "b4ff13b5-0f44-4719-88e9-22a3280feae5",
   "metadata": {
    "jp-MarkdownHeadingCollapsed": true
   },
   "source": [
    "## Simulate data"
   ]
  },
  {
   "cell_type": "code",
   "execution_count": null,
   "id": "7ca8f384-265d-4da9-8f19-35507f534015",
   "metadata": {},
   "outputs": [],
   "source": [
    "X = np.linspace(start=0, stop=10, num=1000).reshape(-1, 1)\n",
    "y = np.squeeze(X * np.sin(X))"
   ]
  },
  {
   "cell_type": "code",
   "execution_count": null,
   "id": "55d760b3-5d5c-4c9f-b688-53e3352b9d8d",
   "metadata": {},
   "outputs": [],
   "source": [
    "plt.plot(X, y, label=r\"$f(x) = x \\sin(x)$\", linestyle=\"dotted\")\n",
    "plt.legend()\n",
    "plt.xlabel(\"$x$\")\n",
    "plt.ylabel(\"$f(x)$\")\n",
    "_ = plt.title(\"True generative process\")"
   ]
  },
  {
   "cell_type": "code",
   "execution_count": null,
   "id": "ba375859",
   "metadata": {},
   "outputs": [],
   "source": [
    "rng = np.random.RandomState(1)\n",
    "training_indices = rng.choice(np.arange(y.size), size=6, replace=False)\n",
    "X_train, y_train = X[training_indices], y[training_indices]"
   ]
  },
  {
   "cell_type": "code",
   "execution_count": null,
   "id": "6d90468c-f79b-4f41-bd72-b17c741cf607",
   "metadata": {},
   "outputs": [],
   "source": [
    "noise_std = 0.75\n",
    "y_train_noisy = y_train + rng.normal(loc=0.0, scale=noise_std, size=y_train.shape)"
   ]
  },
  {
   "cell_type": "markdown",
   "id": "8257d959-481a-400d-862e-f92fe4e93a32",
   "metadata": {
    "jp-MarkdownHeadingCollapsed": true
   },
   "source": [
    "## Define GP Kernel"
   ]
  },
  {
   "cell_type": "code",
   "execution_count": null,
   "id": "8d24bb4a",
   "metadata": {},
   "outputs": [],
   "source": [
    "kernel = 1 * RBF(length_scale=1.0, length_scale_bounds=(1e-2, 1e2))\n",
    "gaussian_process = GaussianProcessRegressor(kernel=kernel, n_restarts_optimizer=9)"
   ]
  },
  {
   "cell_type": "code",
   "execution_count": null,
   "id": "61faf132",
   "metadata": {},
   "outputs": [],
   "source": [
    "x_sort = np.arange(100).reshape(-1, 1)/0.1\n",
    "y_samples = gaussian_process.sample_y(x_sort, n_samples=10).T"
   ]
  },
  {
   "cell_type": "code",
   "execution_count": null,
   "id": "41867058",
   "metadata": {},
   "outputs": [],
   "source": [
    "for y_i in y_samples:\n",
    "    plt.plot(x_sort, y_i)"
   ]
  },
  {
   "cell_type": "markdown",
   "id": "5408fbb2-eb74-44c8-9030-21809de0ea1d",
   "metadata": {
    "jp-MarkdownHeadingCollapsed": true
   },
   "source": [
    "## Fit GP (clean)"
   ]
  },
  {
   "cell_type": "code",
   "execution_count": null,
   "id": "954e15ec",
   "metadata": {},
   "outputs": [],
   "source": [
    "gaussian_process.fit(X_train, y_train)\n",
    "gaussian_process.kernel_"
   ]
  },
  {
   "cell_type": "code",
   "execution_count": null,
   "id": "a619007c-d48b-4b85-adc5-69e7b5adaa8b",
   "metadata": {},
   "outputs": [],
   "source": [
    "mean_prediction, std_prediction = gaussian_process.predict(X, return_std=True)"
   ]
  },
  {
   "cell_type": "code",
   "execution_count": null,
   "id": "7bc24ec8-da3d-45d1-b117-f18f94b53b74",
   "metadata": {},
   "outputs": [],
   "source": [
    "plt.plot(X, y, label=r\"$f(x) = x \\sin(x)$\", linestyle=\"dotted\")\n",
    "plt.scatter(X_train, y_train, label=\"Observations\")\n",
    "plt.plot(X, mean_prediction, label=\"Mean prediction\")\n",
    "plt.fill_between(\n",
    "    X.ravel(),\n",
    "    mean_prediction - 1.96 * std_prediction,\n",
    "    mean_prediction + 1.96 * std_prediction,\n",
    "    alpha=0.5,\n",
    "    label=r\"95% confidence interval\",\n",
    ")\n",
    "plt.legend()\n",
    "plt.xlabel(\"$x$\")\n",
    "plt.ylabel(\"$f(x)$\")\n",
    "_ = plt.title(\"Gaussian process regression on noise-free dataset\")"
   ]
  },
  {
   "cell_type": "code",
   "execution_count": null,
   "id": "729d94cf",
   "metadata": {},
   "outputs": [],
   "source": [
    "gp_samples = gaussian_process.sample_y(X, n_samples=10).T"
   ]
  },
  {
   "cell_type": "code",
   "execution_count": null,
   "id": "aa8e0f8b",
   "metadata": {},
   "outputs": [],
   "source": [
    "for gp_sample in gp_samples:\n",
    "    plt.plot(X, gp_sample)"
   ]
  },
  {
   "cell_type": "markdown",
   "id": "e360551c-f8ae-49a3-ac55-08555133ecc3",
   "metadata": {
    "jp-MarkdownHeadingCollapsed": true
   },
   "source": [
    "## Fit GP (noise)"
   ]
  },
  {
   "cell_type": "code",
   "execution_count": null,
   "id": "7c101167-9559-4feb-af5c-d69e36b12e7f",
   "metadata": {},
   "outputs": [],
   "source": [
    "gaussian_process_noise = GaussianProcessRegressor(kernel=kernel, alpha=noise_std**2, n_restarts_optimizer=9)\n",
    "gaussian_process_noise.fit(X_train, y_train_noisy)\n",
    "gaussian_process_noise.kernel_"
   ]
  },
  {
   "cell_type": "code",
   "execution_count": null,
   "id": "dd1ace0f-5642-4c19-8a4a-d6b15df94953",
   "metadata": {},
   "outputs": [],
   "source": [
    "mean_prediction, std_prediction = gaussian_process_noise.predict(X, return_std=True)"
   ]
  },
  {
   "cell_type": "code",
   "execution_count": null,
   "id": "b853b658",
   "metadata": {},
   "outputs": [],
   "source": [
    "plt.plot(X, y, label=r\"$f(x) = x \\sin(x)$\", linestyle=\"dotted\")\n",
    "plt.errorbar(\n",
    "    X_train,\n",
    "    y_train_noisy,\n",
    "    noise_std,\n",
    "    linestyle=\"None\",\n",
    "    color=\"tab:blue\",\n",
    "    marker=\".\",\n",
    "    markersize=10,\n",
    "    label=\"Observations\",\n",
    ")\n",
    "plt.plot(X, mean_prediction, label=\"Mean prediction\")\n",
    "plt.fill_between(\n",
    "    X.ravel(),\n",
    "    mean_prediction - 1.96 * std_prediction,\n",
    "    mean_prediction + 1.96 * std_prediction,\n",
    "    color=\"tab:orange\",\n",
    "    alpha=0.5,\n",
    "    label=r\"95% confidence interval\",\n",
    ")\n",
    "plt.legend()\n",
    "plt.xlabel(\"$x$\")\n",
    "plt.ylabel(\"$f(x)$\")\n",
    "_ = plt.title(\"Gaussian process regression on a noisy dataset\")"
   ]
  },
  {
   "cell_type": "code",
   "execution_count": null,
   "id": "82907b8b",
   "metadata": {},
   "outputs": [],
   "source": [
    "gp_noise_samples = gaussian_process_noise.sample_y(X, n_samples=10).T"
   ]
  },
  {
   "cell_type": "code",
   "execution_count": null,
   "id": "27c8b45c",
   "metadata": {},
   "outputs": [],
   "source": [
    "for gp_noise_sample in gp_noise_samples:\n",
    "    plt.plot(X, gp_noise_sample)"
   ]
  },
  {
   "cell_type": "markdown",
   "id": "14ab197a-d1d4-4098-80a3-a2b8e4def669",
   "metadata": {},
   "source": [
    "[Source - scikit learn](https://scikit-learn.org/stable/auto_examples/gaussian_process/plot_gpr_noisy_targets.html#sphx-glr-auto-examples-gaussian-process-plot-gpr-noisy-targets-py)"
   ]
  },
  {
   "cell_type": "code",
   "execution_count": null,
   "id": "7f99a5df-07ae-404a-89f1-346bb3d0f768",
   "metadata": {},
   "outputs": [],
   "source": []
  }
 ],
 "metadata": {
  "kernelspec": {
   "display_name": "Python 3 (ipykernel)",
   "language": "python",
   "name": "python3"
  },
  "language_info": {
   "codemirror_mode": {
    "name": "ipython",
    "version": 3
   },
   "file_extension": ".py",
   "mimetype": "text/x-python",
   "name": "python",
   "nbconvert_exporter": "python",
   "pygments_lexer": "ipython3",
   "version": "3.11.9"
  }
 },
 "nbformat": 4,
 "nbformat_minor": 5
}
