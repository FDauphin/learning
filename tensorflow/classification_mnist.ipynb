{
 "cells": [
  {
   "cell_type": "code",
   "execution_count": null,
   "id": "57e9c0ae-0fe5-4bf8-8d45-89fb5fc37718",
   "metadata": {},
   "outputs": [],
   "source": [
    "import numpy as np\n",
    "import matplotlib.pyplot as plt\n",
    "\n",
    "import tensorflow as tf\n",
    "from tensorflow.keras.layers import Dense, Conv2D, MaxPool2D, Dropout, Flatten\n",
    "from tensorflow.keras.models import Sequential"
   ]
  },
  {
   "cell_type": "code",
   "execution_count": null,
   "id": "4cb60eb7-b78a-4316-8f77-8f4793d61a07",
   "metadata": {},
   "outputs": [],
   "source": [
    "print(f\"TensorFlow Devices:\\n{tf.config.list_physical_devices()}\")\n",
    "print(f\"TensorFlow Version: {tf.__version__}\")"
   ]
  },
  {
   "cell_type": "markdown",
   "id": "7ca28f97-9284-439d-b50b-73f28f857ab0",
   "metadata": {
    "jp-MarkdownHeadingCollapsed": true
   },
   "source": [
    "## Load data"
   ]
  },
  {
   "cell_type": "code",
   "execution_count": null,
   "id": "4f460894-836d-4905-bfae-da61325bd66f",
   "metadata": {},
   "outputs": [],
   "source": [
    "dataset = tf.keras.datasets.mnist"
   ]
  },
  {
   "cell_type": "code",
   "execution_count": null,
   "id": "dffea241-a869-49c7-8804-fcf0be7fb8d6",
   "metadata": {},
   "outputs": [],
   "source": [
    "(x_train, y_train), (x_test, y_test) = dataset.load_data()"
   ]
  },
  {
   "cell_type": "code",
   "execution_count": null,
   "id": "2ca1034f-ddb5-4c7f-be8d-381c7d9e3352",
   "metadata": {},
   "outputs": [],
   "source": [
    "scale = x_train.max()\n",
    "x_train_scale = x_train / scale\n",
    "x_test_scale = x_test / scale"
   ]
  },
  {
   "cell_type": "code",
   "execution_count": null,
   "id": "04c83a5b-deda-4f59-b0c1-0510635fb859",
   "metadata": {},
   "outputs": [],
   "source": [
    "mask_train = y_train < 2\n",
    "mask_test = y_test < 2\n",
    "x_train_01 = x_train_scale[mask_train]\n",
    "y_train_01 = y_train[mask_train]\n",
    "x_test_01 = x_test_scale[mask_test]\n",
    "y_test_01 = y_test[mask_test]"
   ]
  },
  {
   "cell_type": "markdown",
   "id": "211ed821-e4c9-4b26-a3dd-59b19838bf07",
   "metadata": {
    "jp-MarkdownHeadingCollapsed": true
   },
   "source": [
    "## Train binary model from scratch"
   ]
  },
  {
   "cell_type": "code",
   "execution_count": null,
   "id": "76f25f9d-8f00-4705-ad0d-0c3346835b90",
   "metadata": {},
   "outputs": [],
   "source": [
    "loss = tf.keras.losses.BinaryCrossentropy(from_logits=False)\n",
    "metrics = [tf.keras.metrics.BinaryAccuracy(name='accuracy'),\n",
    "           tf.keras.metrics.Precision(name='precision'),\n",
    "           tf.keras.metrics.Recall(name='recall'),\n",
    "           tf.keras.metrics.AUC(name='auc')]"
   ]
  },
  {
   "cell_type": "code",
   "execution_count": null,
   "id": "6fd16060-43c8-4193-a2b1-9ce6c0455ded",
   "metadata": {},
   "outputs": [],
   "source": [
    "def cnn_2d():\n",
    "\n",
    "    model = Sequential()\n",
    "    model.add(Conv2D(filters=8, kernel_size=3, padding='same', activation='relu', input_shape=(28,28,1)))\n",
    "    model.add(MaxPool2D(pool_size=2))\n",
    "    model.add(Conv2D(filters=16, kernel_size=3, padding='same', activation='relu'))\n",
    "    model.add(MaxPool2D(pool_size=2))\n",
    "    model.add(Flatten())\n",
    "    model.add(Dense(32, activation='relu'))\n",
    "    model.add(Dropout(0.5))\n",
    "    model.add(Dense(1, activation='sigmoid'))\n",
    "\n",
    "    model.compile(optimizer='Adam', loss=loss, metrics=metrics)\n",
    "              \n",
    "    return model"
   ]
  },
  {
   "cell_type": "code",
   "execution_count": null,
   "id": "5bdaed63-8b95-4482-bc52-aa0a8c8682ec",
   "metadata": {},
   "outputs": [],
   "source": [
    "model = cnn_2d()"
   ]
  },
  {
   "cell_type": "code",
   "execution_count": null,
   "id": "718e9e38-de82-4ad1-8ee2-4059d10db3ff",
   "metadata": {},
   "outputs": [],
   "source": [
    "model.summary()"
   ]
  },
  {
   "cell_type": "code",
   "execution_count": null,
   "id": "ac2f1f7a-a62a-44df-993d-e7c61d21687c",
   "metadata": {},
   "outputs": [],
   "source": [
    "model_history = model.fit(x_train_01, y_train_01, epochs=5, verbose=1, validation_split=0.1, batch_size=32)"
   ]
  },
  {
   "cell_type": "markdown",
   "id": "a8fa4529-8779-4e61-9915-9f13ecf5d7cc",
   "metadata": {
    "jp-MarkdownHeadingCollapsed": true
   },
   "source": [
    "## Evaluate model"
   ]
  },
  {
   "cell_type": "code",
   "execution_count": null,
   "id": "5b5af8bf-581e-45d6-bb19-6ff27fb2c4cc",
   "metadata": {},
   "outputs": [],
   "source": [
    "metrics_names = ['loss', 'accuracy', 'precision', 'recall', 'auc']\n",
    "ms = ['^', 's', 'p', 'o']\n",
    "epochs = np.arange(5)\n",
    "fig, axs = plt.subplots(1,2,figsize=[10,5])\n",
    "axs[0].set_title('loss')\n",
    "axs[0].plot(model_history.history['loss'], label='train')\n",
    "axs[0].plot(model_history.history['val_loss'], label='val')\n",
    "axs[0].legend()\n",
    "axs[1].set_title('metrics')\n",
    "for i, name in enumerate(metrics_names[1:]):\n",
    "    axs[1].scatter(epochs, model_history.history[name], label=name, marker=ms[i], color='C0')\n",
    "    axs[1].plot(model_history.history[name], alpha=0.5, color='C0')\n",
    "    axs[1].scatter(epochs, model_history.history[f'val_{name}'], marker=ms[i], color='C1')\n",
    "    axs[1].plot(model_history.history[f'val_{name}'], alpha=0.5, color='C1')\n",
    "axs[1].legend()\n",
    "plt.tight_layout()    "
   ]
  },
  {
   "cell_type": "code",
   "execution_count": null,
   "id": "a1aecbf4-068e-475d-b6d1-83654a483b5c",
   "metadata": {},
   "outputs": [],
   "source": [
    "model.evaluate(x=x_test_01, y=y_test_01)"
   ]
  },
  {
   "cell_type": "code",
   "execution_count": null,
   "id": "4facf1a6-6eea-42cf-9eca-dd109cd41e2a",
   "metadata": {},
   "outputs": [],
   "source": [
    "y_pred = model.predict(x_test_01).flatten().round().astype(int)"
   ]
  },
  {
   "cell_type": "code",
   "execution_count": null,
   "id": "7292290c-d3de-46f9-aada-5029ff8e659b",
   "metadata": {},
   "outputs": [],
   "source": [
    "(y_pred == y_test_01).sum() / y_pred.shape[0]"
   ]
  },
  {
   "cell_type": "code",
   "execution_count": null,
   "id": "85e9eab9-5ca9-4924-acd7-785c167288cf",
   "metadata": {},
   "outputs": [],
   "source": [
    "weights = model.get_weights()"
   ]
  },
  {
   "cell_type": "code",
   "execution_count": null,
   "id": "966e2220-f75c-420c-86fd-1f20d6afe3f4",
   "metadata": {},
   "outputs": [],
   "source": [
    "conv1_filter = np.transpose(weights[0].reshape(3, 3, 8), axes=(2, 0, 1))"
   ]
  },
  {
   "cell_type": "code",
   "execution_count": null,
   "id": "dd7ee2cc-da3e-4d35-85ac-045651d621c7",
   "metadata": {},
   "outputs": [],
   "source": [
    "vmin = conv1_filter.min()\n",
    "vmax = conv1_filter.max()\n",
    "\n",
    "fig, axs = plt.subplots(2,4)\n",
    "for i in range (2):\n",
    "    for j in range (4):\n",
    "        ind = i*4+j\n",
    "        axs[i, j].imshow(conv1_filter[ind], vmin=vmin, vmax=vmax)\n",
    "plt.tight_layout()"
   ]
  },
  {
   "cell_type": "markdown",
   "id": "a2c009b9-d345-48af-90aa-68b32d54511d",
   "metadata": {
    "jp-MarkdownHeadingCollapsed": true
   },
   "source": [
    "## ResNet50"
   ]
  },
  {
   "cell_type": "code",
   "execution_count": null,
   "id": "886b7909-c17d-4050-a396-988736fdb67e",
   "metadata": {},
   "outputs": [],
   "source": [
    "x_train_res = np.zeros((x_train.shape[0], 32, 32))\n",
    "x_train_res[:, 2:30, 2:30] = x_train"
   ]
  },
  {
   "cell_type": "code",
   "execution_count": null,
   "id": "dbb1cf0f-546c-4e99-89f8-2aa3b56434a2",
   "metadata": {},
   "outputs": [],
   "source": [
    "model = tf.keras.applications.ResNet50(include_top=True, weights=None, input_shape=(32,32,1), classes=10)"
   ]
  },
  {
   "cell_type": "code",
   "execution_count": null,
   "id": "ad41acad-f5ae-438b-8c2f-feb8ad18cb5c",
   "metadata": {},
   "outputs": [],
   "source": [
    "model.summary()"
   ]
  },
  {
   "cell_type": "code",
   "execution_count": null,
   "id": "6eec599f-7483-4c79-9463-b0bb4e7e8c1e",
   "metadata": {},
   "outputs": [],
   "source": [
    "model.compile(optimizer=\"adam\", loss='sparse_categorical_crossentropy', metrics=[\"accuracy\"])"
   ]
  },
  {
   "cell_type": "code",
   "execution_count": null,
   "id": "e89a577c-ebcb-4dda-9613-17150e1d1c3e",
   "metadata": {},
   "outputs": [],
   "source": [
    "# can only train one model per jupyter kernel or else it dies\n",
    "#model.fit(x_train_res, y_train, epochs=1, batch_size=128)"
   ]
  },
  {
   "cell_type": "code",
   "execution_count": null,
   "id": "1e345aea-0070-4bd5-9aed-a2cbd2313191",
   "metadata": {},
   "outputs": [],
   "source": []
  }
 ],
 "metadata": {
  "kernelspec": {
   "display_name": "Python 3 (ipykernel)",
   "language": "python",
   "name": "python3"
  },
  "language_info": {
   "codemirror_mode": {
    "name": "ipython",
    "version": 3
   },
   "file_extension": ".py",
   "mimetype": "text/x-python",
   "name": "python",
   "nbconvert_exporter": "python",
   "pygments_lexer": "ipython3",
   "version": "3.11.9"
  }
 },
 "nbformat": 4,
 "nbformat_minor": 5
}
