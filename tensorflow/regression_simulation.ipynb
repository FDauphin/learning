{
 "cells": [
  {
   "cell_type": "code",
   "execution_count": null,
   "id": "bb64b95f",
   "metadata": {},
   "outputs": [],
   "source": [
    "import numpy as np\n",
    "import matplotlib.pyplot as plt\n",
    "\n",
    "from tqdm import tqdm\n",
    "from sklearn.model_selection import train_test_split"
   ]
  },
  {
   "cell_type": "code",
   "execution_count": null,
   "id": "cc66cae9-b864-4fc7-baab-2b2bf5d6a4f3",
   "metadata": {},
   "outputs": [],
   "source": [
    "import tensorflow as tf\n",
    "from tensorflow.keras.layers import Dense, Conv1D, MaxPool1D, Dropout, Flatten\n",
    "from tensorflow.keras.models import Sequential"
   ]
  },
  {
   "cell_type": "markdown",
   "id": "3419605e-a657-4440-a6a5-6a1032d1176a",
   "metadata": {
    "jp-MarkdownHeadingCollapsed": true
   },
   "source": [
    "## Simulate data"
   ]
  },
  {
   "cell_type": "code",
   "execution_count": null,
   "id": "354535fd-6ab5-439b-82f2-42ac288d2d8e",
   "metadata": {},
   "outputs": [],
   "source": [
    "t = np.arange(0,1000,step=0.01)\n",
    "size = t.shape[0]\n",
    "\n",
    "amp = 1\n",
    "f = 1\n",
    "phi = 0\n",
    "offset = 0\n",
    "z_clean = amp * np.sin(2*np.pi*f*t+phi) + offset\n",
    "\n",
    "noise = 0.25*np.random.randn(size)\n",
    "z = z_clean + noise"
   ]
  },
  {
   "cell_type": "code",
   "execution_count": null,
   "id": "1466de11-6499-4583-b740-e95ebfc5c29a",
   "metadata": {},
   "outputs": [],
   "source": [
    "split = int(0.9*size)\n",
    "t_before = t[:split]\n",
    "t_after = t[split:]\n",
    "z_before = z[:split]\n",
    "z_after = z[split:]"
   ]
  },
  {
   "cell_type": "code",
   "execution_count": null,
   "id": "d7116e69-527c-4665-9e7d-6bc1f721f0f7",
   "metadata": {},
   "outputs": [],
   "source": [
    "plt.plot(t_before, z_before)\n",
    "plt.plot(t_after, z_after)\n",
    "plt.plot(t, z_clean)\n",
    "plt.xlim(t_before.max() - 10, t_after.min() + 10)"
   ]
  },
  {
   "cell_type": "markdown",
   "id": "9df352d2-b9c0-4978-868a-34f39c1793e5",
   "metadata": {
    "jp-MarkdownHeadingCollapsed": true
   },
   "source": [
    "## Split data"
   ]
  },
  {
   "cell_type": "code",
   "execution_count": null,
   "id": "85f4f00a-5fe4-4e7e-93b7-ae205f173149",
   "metadata": {},
   "outputs": [],
   "source": [
    "feature_length = 20"
   ]
  },
  {
   "cell_type": "code",
   "execution_count": null,
   "id": "868f0615-4e58-424b-b8fb-f961d4e8cee5",
   "metadata": {},
   "outputs": [],
   "source": [
    "data = np.array([z[i:i+feature_length+1] for i in tqdm(range(z.shape[0] - feature_length))])"
   ]
  },
  {
   "cell_type": "code",
   "execution_count": null,
   "id": "f2983f9a-04d0-4bb7-8f2f-9a89f38cb435",
   "metadata": {},
   "outputs": [],
   "source": [
    "x_before = data[:split, :feature_length]\n",
    "x_after = data[split:, :feature_length]"
   ]
  },
  {
   "cell_type": "code",
   "execution_count": null,
   "id": "f0adb4c0-2bcd-4190-bc5f-b8df111ea86a",
   "metadata": {},
   "outputs": [],
   "source": [
    "y_before = data[:split, feature_length:].flatten()\n",
    "y_after = data[split:, feature_length:].flatten()"
   ]
  },
  {
   "cell_type": "code",
   "execution_count": null,
   "id": "351899a8",
   "metadata": {},
   "outputs": [],
   "source": [
    "x_train, x_test, y_train, y_test = train_test_split(x_before, y_before, train_size=0.9)"
   ]
  },
  {
   "cell_type": "code",
   "execution_count": null,
   "id": "8e6cf94e-ffab-40f6-9ec3-a2aeba8c07e6",
   "metadata": {},
   "outputs": [],
   "source": [
    "x_train.shape, x_test.shape, y_train.shape, y_test.shape"
   ]
  },
  {
   "cell_type": "markdown",
   "id": "e09dfe9e",
   "metadata": {
    "jp-MarkdownHeadingCollapsed": true
   },
   "source": [
    "## Train model"
   ]
  },
  {
   "cell_type": "code",
   "execution_count": null,
   "id": "3fe1f3a8",
   "metadata": {},
   "outputs": [],
   "source": [
    "def cnn_1d():\n",
    "\n",
    "    model = Sequential()\n",
    "    model.add(Conv1D(filters=32, kernel_size=3, padding='same', activation='relu', input_shape=(feature_length,1)))\n",
    "    model.add(MaxPool1D(pool_size=2))\n",
    "    model.add(Conv1D(filters=64, kernel_size=3, padding='same', activation='relu'))\n",
    "    model.add(MaxPool1D(pool_size=2))\n",
    "    model.add(Flatten())\n",
    "    model.add(Dense(128, activation='relu'))\n",
    "    model.add(Dropout(0.5))\n",
    "    model.add(Dense(1, activation='linear'))\n",
    "\n",
    "    model.compile(optimizer='Adam', loss='mse', metrics=['mae'])\n",
    "              \n",
    "    return model"
   ]
  },
  {
   "cell_type": "code",
   "execution_count": null,
   "id": "c08b10f9-b8f3-49e3-a2ed-f6a2deb6402f",
   "metadata": {},
   "outputs": [],
   "source": [
    "model = cnn_1d()"
   ]
  },
  {
   "cell_type": "code",
   "execution_count": null,
   "id": "41a5afdc-f76a-4c7b-bd29-acd9aa0ddfe4",
   "metadata": {},
   "outputs": [],
   "source": [
    "model.summary()"
   ]
  },
  {
   "cell_type": "code",
   "execution_count": null,
   "id": "eb87a70e",
   "metadata": {},
   "outputs": [],
   "source": [
    "baseline = np.mean(np.square(x_train.mean(1) - y_train))"
   ]
  },
  {
   "cell_type": "code",
   "execution_count": null,
   "id": "f15f86b2-dd07-4f05-8b07-f075ca27e523",
   "metadata": {},
   "outputs": [],
   "source": [
    "baseline_z = np.mean(np.square(z - z_clean))"
   ]
  },
  {
   "cell_type": "code",
   "execution_count": null,
   "id": "0f464786-015c-4ce9-b708-5a5cf0f2d747",
   "metadata": {},
   "outputs": [],
   "source": [
    "baseline, baseline_z"
   ]
  },
  {
   "cell_type": "code",
   "execution_count": null,
   "id": "8333ad8e",
   "metadata": {
    "scrolled": true
   },
   "outputs": [],
   "source": [
    "model_history = model.fit(x_train, y_train, epochs=50, verbose=1, validation_split=0.8, batch_size=256)"
   ]
  },
  {
   "cell_type": "markdown",
   "id": "0ce7db9f",
   "metadata": {
    "jp-MarkdownHeadingCollapsed": true
   },
   "source": [
    "## Evaluate model"
   ]
  },
  {
   "cell_type": "code",
   "execution_count": null,
   "id": "d34545e4",
   "metadata": {},
   "outputs": [],
   "source": [
    "fig, axs = plt.subplots(1,2,figsize=[10,5])\n",
    "axs[0].set_title('mse')\n",
    "axs[0].plot(model_history.history['loss'], label='train')\n",
    "axs[0].plot(model_history.history['val_loss'], label='val')\n",
    "axs[0].hlines(baseline, 0, 50, color='C2', label='baseline (data)')\n",
    "axs[0].hlines(baseline_z, 0, 50, color='C3', label='baseline (best_fit)')\n",
    "#axs[0].set_yscale('log')\n",
    "axs[0].legend()\n",
    "axs[1].set_title('mae')\n",
    "axs[1].plot(model_history.history['mae'], label='train')\n",
    "axs[1].plot(model_history.history['val_mae'], label='val')\n",
    "#axs[1].set_yscale('log')\n",
    "axs[1].legend()\n",
    "plt.tight_layout()"
   ]
  },
  {
   "cell_type": "code",
   "execution_count": null,
   "id": "07674221",
   "metadata": {},
   "outputs": [],
   "source": [
    "model.evaluate(x=x_test, y=y_test)"
   ]
  },
  {
   "cell_type": "code",
   "execution_count": null,
   "id": "006be162-daec-4ec7-b411-0c3d3158861c",
   "metadata": {},
   "outputs": [],
   "source": [
    "model.evaluate(x=x_after, y=y_after)"
   ]
  },
  {
   "cell_type": "code",
   "execution_count": null,
   "id": "b789cf86",
   "metadata": {},
   "outputs": [],
   "source": [
    "y_pred = model.predict(x_test).flatten()"
   ]
  },
  {
   "cell_type": "code",
   "execution_count": null,
   "id": "8d0c9b2c-f52a-422f-a8c5-71ce02bd7a27",
   "metadata": {},
   "outputs": [],
   "source": [
    "y_pred_after = model.predict(x_after).flatten()"
   ]
  },
  {
   "cell_type": "code",
   "execution_count": null,
   "id": "f133bfc4-9866-4f9c-b662-732fb503d4ef",
   "metadata": {},
   "outputs": [],
   "source": [
    "ind = 1000\n",
    "plt.plot(x_test[ind], label='feature')\n",
    "plt.scatter(feature_length+1, y_test[ind], color='C1', label='label')\n",
    "plt.scatter(feature_length+1, y_pred[ind], color='C2', label='pred')\n",
    "plt.legend()"
   ]
  },
  {
   "cell_type": "code",
   "execution_count": null,
   "id": "f1d6d67f",
   "metadata": {},
   "outputs": [],
   "source": [
    "fig, axs = plt.subplots(1,2,figsize=[10,5])\n",
    "axs[0].hist(y_pred-y_test, alpha=0.5)\n",
    "axs[0].hist(y_pred_after-y_after, alpha=0.5)\n",
    "axs[1].scatter(np.arange(y_pred.shape[0]), y_pred-y_test, s=1, alpha=0.1)\n",
    "axs[1].scatter(np.arange(y_after.shape[0]), y_pred_after-y_after, s=1, alpha=0.1)"
   ]
  },
  {
   "cell_type": "code",
   "execution_count": null,
   "id": "fe1a1ce2",
   "metadata": {},
   "outputs": [],
   "source": [
    "plt.scatter(y_pred, y_test, s=1, alpha=0.1)\n",
    "plt.scatter(y_pred_after, y_after, s=1, alpha=0.1)"
   ]
  },
  {
   "cell_type": "code",
   "execution_count": null,
   "id": "3a475d18-ecbe-4789-b5bf-49346904a7f1",
   "metadata": {},
   "outputs": [],
   "source": [
    "np.corrcoef(y_pred, y_test)[0,1], np.corrcoef(y_pred_after, y_after)[0,1]"
   ]
  },
  {
   "cell_type": "markdown",
   "id": "ee3526e3-508e-44b2-96c1-fb063c9eba63",
   "metadata": {
    "jp-MarkdownHeadingCollapsed": true
   },
   "source": [
    "## Recursive fit"
   ]
  },
  {
   "cell_type": "code",
   "execution_count": null,
   "id": "850c15ee-8601-45d3-a44e-5354a86597a7",
   "metadata": {},
   "outputs": [],
   "source": [
    "ind = 0\n",
    "fit = []\n",
    "rec_fit = list(x_after[ind])\n",
    "for i in range (feature_length):\n",
    "    rec_pred = model.predict(np.array(rec_fit[-feature_length:]).reshape(1,feature_length), verbose=0)[0,0]\n",
    "    pred = model.predict(x_after[ind+i:ind+i+1], verbose=0)[0,0]\n",
    "    rec_fit.append(rec_pred)\n",
    "    fit.append(pred)\n",
    "rec_fit = np.array(rec_fit)\n",
    "fit = np.array(fit)"
   ]
  },
  {
   "cell_type": "code",
   "execution_count": null,
   "id": "5613e767-ec58-4342-b42f-d1ac6fc606d7",
   "metadata": {},
   "outputs": [],
   "source": [
    "plt.plot(np.arange(feature_length), x_after[ind], label='after')\n",
    "plt.plot(np.arange(feature_length)+feature_length, x_after[ind+feature_length], label='after 20')\n",
    "plt.plot(np.arange(feature_length)+feature_length, rec_fit[feature_length:], label='rec')\n",
    "plt.plot(np.arange(feature_length)+feature_length, fit, label='one pred')\n",
    "plt.legend()"
   ]
  },
  {
   "cell_type": "code",
   "execution_count": null,
   "id": "15060a1e-1e53-4798-8028-a6264fa334b0",
   "metadata": {},
   "outputs": [],
   "source": []
  }
 ],
 "metadata": {
  "kernelspec": {
   "display_name": "Python 3 (ipykernel)",
   "language": "python",
   "name": "python3"
  },
  "language_info": {
   "codemirror_mode": {
    "name": "ipython",
    "version": 3
   },
   "file_extension": ".py",
   "mimetype": "text/x-python",
   "name": "python",
   "nbconvert_exporter": "python",
   "pygments_lexer": "ipython3",
   "version": "3.11.9"
  }
 },
 "nbformat": 4,
 "nbformat_minor": 5
}
